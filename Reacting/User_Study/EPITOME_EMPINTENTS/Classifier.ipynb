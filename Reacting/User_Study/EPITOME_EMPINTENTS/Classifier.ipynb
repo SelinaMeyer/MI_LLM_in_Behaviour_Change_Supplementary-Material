{
 "cells": [
  {
   "cell_type": "code",
   "execution_count": 25,
   "id": "d17b0077-4c30-415e-8d6d-884748082431",
   "metadata": {},
   "outputs": [],
   "source": [
    "import pandas as pd\n",
    "import numpy as np\n",
    "import pandas as pd\n",
    "import numpy as np\n",
    "from tqdm.auto import tqdm\n",
    "import os\n",
    "from datasets import load_dataset, concatenate_datasets\n",
    "from transformers.pipelines.pt_utils import KeyDataset\n",
    "from sklearn.metrics import precision_recall_fscore_support, accuracy_score\n",
    "from transformers import  AutoModelForSequenceClassification, TrainingArguments, Trainer, AutoTokenizer, TextClassificationPipeline, pipeline"
   ]
  },
  {
   "cell_type": "code",
   "execution_count": 16,
   "id": "44dadbd0-b88e-430c-8c29-d6d73a5d0469",
   "metadata": {},
   "outputs": [],
   "source": [
    "def get_label(output):\n",
    "    highest_score = max(output[0], key=lambda x: x['score'])\n",
    "    return highest_score['label'], highest_score[\"score\"]\n",
    "def tokenize_function(examples):\n",
    "    return tokenizer(examples[\"text\"], padding=\"max_length\", truncation=True)"
   ]
  },
  {
   "cell_type": "markdown",
   "id": "9ed2bc12-b4c7-40d9-8716-093aa93b71fa",
   "metadata": {
    "jp-MarkdownHeadingCollapsed": true,
    "tags": []
   },
   "source": [
    "### Prepare Datasets"
   ]
  },
  {
   "cell_type": "code",
   "execution_count": 2,
   "id": "00ba688d-8ba9-4157-83da-ed2cea30ac61",
   "metadata": {},
   "outputs": [
    {
     "name": "stdout",
     "output_type": "stream",
     "text": [
      "consoling.txt\n",
      "expressing_relief.txt\n",
      "expressing_care_concern.txt\n",
      "sympathizing.txt\n",
      "sharing_opinions.txt\n",
      "acknowledging.txt\n",
      "advising.txt\n",
      "suggesting.txt\n",
      "agreeing.txt\n",
      "sharing_experience.txt\n",
      "encouraging.txt\n",
      "appreciating.txt\n",
      "disapproving.txt\n",
      "wishing.txt\n",
      "questioning.txt\n"
     ]
    },
    {
     "data": {
      "text/html": [
       "<div>\n",
       "<style scoped>\n",
       "    .dataframe tbody tr th:only-of-type {\n",
       "        vertical-align: middle;\n",
       "    }\n",
       "\n",
       "    .dataframe tbody tr th {\n",
       "        vertical-align: top;\n",
       "    }\n",
       "\n",
       "    .dataframe thead th {\n",
       "        text-align: right;\n",
       "    }\n",
       "</style>\n",
       "<table border=\"1\" class=\"dataframe\">\n",
       "  <thead>\n",
       "    <tr style=\"text-align: right;\">\n",
       "      <th></th>\n",
       "      <th>text</th>\n",
       "      <th>label</th>\n",
       "    </tr>\n",
       "  </thead>\n",
       "  <tbody>\n",
       "    <tr>\n",
       "      <th>0</th>\n",
       "      <td>Aw, cheer up, friend. It's rough now, but it w...</td>\n",
       "      <td>consoling</td>\n",
       "    </tr>\n",
       "    <tr>\n",
       "      <th>1</th>\n",
       "      <td>Hopefully he is ok</td>\n",
       "      <td>consoling</td>\n",
       "    </tr>\n",
       "    <tr>\n",
       "      <th>2</th>\n",
       "      <td>hopefully they can get him some meds and he ge...</td>\n",
       "      <td>consoling</td>\n",
       "    </tr>\n",
       "    <tr>\n",
       "      <th>3</th>\n",
       "      <td>Hopefully you are not to mad because of it. Fl...</td>\n",
       "      <td>consoling</td>\n",
       "    </tr>\n",
       "    <tr>\n",
       "      <th>4</th>\n",
       "      <td>Hopefully it wont cost too much.</td>\n",
       "      <td>consoling</td>\n",
       "    </tr>\n",
       "  </tbody>\n",
       "</table>\n",
       "</div>"
      ],
      "text/plain": [
       "                                                text      label\n",
       "0  Aw, cheer up, friend. It's rough now, but it w...  consoling\n",
       "1                                 Hopefully he is ok  consoling\n",
       "2  hopefully they can get him some meds and he ge...  consoling\n",
       "3  Hopefully you are not to mad because of it. Fl...  consoling\n",
       "4                   Hopefully it wont cost too much.  consoling"
      ]
     },
     "execution_count": 2,
     "metadata": {},
     "output_type": "execute_result"
    }
   ],
   "source": [
    "directory_path = 'datasets/manual_annotations'\n",
    "\n",
    "combined_df = pd.DataFrame()\n",
    "\n",
    "for filename in os.listdir(directory_path):\n",
    "    if filename.endswith('.txt'):\n",
    "        print(filename)\n",
    "        file_path = os.path.join(directory_path, filename)\n",
    "        df = pd.DataFrame()\n",
    "        df[\"text\"] = pd.read_csv(file_path, sep=\"\\t\")\n",
    "        df[\"label\"] = os.path.splitext(filename)[0]\n",
    "        #all_data.append(df)\n",
    "        \n",
    "        combined_df = pd.concat([combined_df,df], ignore_index=True)\n",
    "\n",
    "combined_df.head()"
   ]
  },
  {
   "cell_type": "code",
   "execution_count": 3,
   "id": "ada4bc31-17e6-451a-a292-080867618b9a",
   "metadata": {},
   "outputs": [],
   "source": [
    "combined_df = combined_df[[\"label\", \"text\"]].dropna()"
   ]
  },
  {
   "cell_type": "code",
   "execution_count": 4,
   "id": "f9749b42-52f8-47e1-83a3-8914453f4f11",
   "metadata": {},
   "outputs": [
    {
     "data": {
      "text/plain": [
       "questioning                125\n",
       "acknowledging              115\n",
       "agreeing                    48\n",
       "consoling                   39\n",
       "sympathizing                26\n",
       "encouraging                 26\n",
       "wishing                     21\n",
       "sharing_opinions            19\n",
       "suggesting                  19\n",
       "sharing_experience          18\n",
       "advising                    12\n",
       "expressing_care_concern     10\n",
       "expressing_relief            6\n",
       "disapproving                 4\n",
       "appreciating                 3\n",
       "Name: label, dtype: int64"
      ]
     },
     "execution_count": 4,
     "metadata": {},
     "output_type": "execute_result"
    }
   ],
   "source": [
    "combined_df[\"label\"].value_counts()"
   ]
  },
  {
   "cell_type": "code",
   "execution_count": 5,
   "id": "73bcc6b3-a312-4cff-9295-c02c416be278",
   "metadata": {},
   "outputs": [
    {
     "data": {
      "text/html": [
       "<div>\n",
       "<style scoped>\n",
       "    .dataframe tbody tr th:only-of-type {\n",
       "        vertical-align: middle;\n",
       "    }\n",
       "\n",
       "    .dataframe tbody tr th {\n",
       "        vertical-align: top;\n",
       "    }\n",
       "\n",
       "    .dataframe thead th {\n",
       "        text-align: right;\n",
       "    }\n",
       "</style>\n",
       "<table border=\"1\" class=\"dataframe\">\n",
       "  <thead>\n",
       "    <tr style=\"text-align: right;\">\n",
       "      <th></th>\n",
       "      <th>label</th>\n",
       "      <th>text</th>\n",
       "    </tr>\n",
       "  </thead>\n",
       "  <tbody>\n",
       "    <tr>\n",
       "      <th>0</th>\n",
       "      <td>35</td>\n",
       "      <td>Aw, cheer up, friend. It's rough now, but it w...</td>\n",
       "    </tr>\n",
       "    <tr>\n",
       "      <th>1</th>\n",
       "      <td>35</td>\n",
       "      <td>Hopefully he is ok</td>\n",
       "    </tr>\n",
       "    <tr>\n",
       "      <th>2</th>\n",
       "      <td>35</td>\n",
       "      <td>hopefully they can get him some meds and he ge...</td>\n",
       "    </tr>\n",
       "    <tr>\n",
       "      <th>3</th>\n",
       "      <td>35</td>\n",
       "      <td>Hopefully you are not to mad because of it. Fl...</td>\n",
       "    </tr>\n",
       "    <tr>\n",
       "      <th>4</th>\n",
       "      <td>35</td>\n",
       "      <td>Hopefully it wont cost too much.</td>\n",
       "    </tr>\n",
       "  </tbody>\n",
       "</table>\n",
       "</div>"
      ],
      "text/plain": [
       "  label                                               text\n",
       "0    35  Aw, cheer up, friend. It's rough now, but it w...\n",
       "1    35                                 Hopefully he is ok\n",
       "2    35  hopefully they can get him some meds and he ge...\n",
       "3    35  Hopefully you are not to mad because of it. Fl...\n",
       "4    35                   Hopefully it wont cost too much."
      ]
     },
     "execution_count": 5,
     "metadata": {},
     "output_type": "execute_result"
    }
   ],
   "source": [
    "combined_df.replace({\"agreeing\":32, \"acknowledging\": 33,\n",
    "                     \"encouraging\": 34, \"consoling\": 35,\n",
    "                     \"sympathizing\": 36, \"suggesting\": 37,\n",
    "                     \"questioning\": 38, \"wishing\": 39,\n",
    "                     \"neutral\":40}, inplace=True)\n",
    "combined_df.head()"
   ]
  },
  {
   "cell_type": "code",
   "execution_count": 6,
   "id": "8ffde687-2d74-4d0f-b2fd-ad2702338dc4",
   "metadata": {},
   "outputs": [],
   "source": [
    "combined_df = combined_df[combined_df[\"label\"].isin([32,33,34,35,36,37,38,39,40])]"
   ]
  },
  {
   "cell_type": "code",
   "execution_count": 7,
   "id": "c718a1d2-a081-4c76-982e-b72773c78f25",
   "metadata": {},
   "outputs": [
    {
     "data": {
      "text/plain": [
       "38    17336\n",
       "33     7821\n",
       "40     2928\n",
       "36     1840\n",
       "32     1817\n",
       "35     1287\n",
       "37     1146\n",
       "34     1082\n",
       "39      774\n",
       "Name: label, dtype: int64"
      ]
     },
     "execution_count": 7,
     "metadata": {},
     "output_type": "execute_result"
    }
   ],
   "source": [
    "label_range = set(range(32, 41))\n",
    "\n",
    "file_path = 'datasets/lexically_extended_intent_data/train/'\n",
    "for filename in os.listdir(file_path):\n",
    "    if filename.endswith('.txt'):\n",
    "        with open(file_path+filename, 'r') as file:\n",
    "            for line in file:\n",
    "                label, text = line.strip().split('<SEP>')\n",
    "                label = int(label)\n",
    "\n",
    "                if label in label_range:\n",
    "                    new_row = pd.DataFrame({'label': [label], 'text': [text]})\n",
    "                    combined_df = pd.concat([combined_df, new_row], ignore_index=True)\n",
    "combined_df.label.value_counts()"
   ]
  },
  {
   "cell_type": "code",
   "execution_count": 8,
   "id": "b01bdda6-3790-49d3-9bc7-3f8cfa1d29b9",
   "metadata": {},
   "outputs": [],
   "source": [
    "combined_df.sample(frac=1)\n",
    "combined_df.to_csv(\"EmpIntent_train.csv\")"
   ]
  },
  {
   "cell_type": "code",
   "execution_count": 9,
   "id": "3dbe06e5-ac12-439e-a722-f8ff4b540aae",
   "metadata": {},
   "outputs": [
    {
     "data": {
      "text/plain": [
       "38    2388\n",
       "33    1182\n",
       "40     430\n",
       "36     271\n",
       "32     269\n",
       "35     190\n",
       "34     169\n",
       "37     153\n",
       "39     127\n",
       "Name: label, dtype: int64"
      ]
     },
     "execution_count": 9,
     "metadata": {},
     "output_type": "execute_result"
    }
   ],
   "source": [
    "val_df = pd.DataFrame()\n",
    "\n",
    "label_range = set(range(32, 41))\n",
    "\n",
    "file_path = 'datasets/lexically_extended_intent_data/validation/'\n",
    "for filename in os.listdir(file_path):\n",
    "    if filename.endswith('.txt'):\n",
    "        with open(file_path+filename, 'r') as file:\n",
    "            for line in file:\n",
    "                label, text = line.strip().split('<SEP>')\n",
    "                label = int(label)\n",
    "\n",
    "                if label in label_range:\n",
    "                    new_row = pd.DataFrame({'label': [label], 'text': [text]})\n",
    "                    val_df = pd.concat([val_df, new_row], ignore_index=True)\n",
    "val_df.label.value_counts()"
   ]
  },
  {
   "cell_type": "code",
   "execution_count": 10,
   "id": "de0b2980-f842-47d1-a2d3-85a35c7f76ac",
   "metadata": {},
   "outputs": [],
   "source": [
    "val_df.sample(frac=1)\n",
    "val_df.to_csv(\"EmpIntent_validation.csv\")"
   ]
  },
  {
   "cell_type": "code",
   "execution_count": 11,
   "id": "b84c326f-7ef0-45fd-a43c-bda0832d1ca7",
   "metadata": {},
   "outputs": [
    {
     "data": {
      "text/plain": [
       "38    2388\n",
       "33    1182\n",
       "40     430\n",
       "36     271\n",
       "32     269\n",
       "35     190\n",
       "34     169\n",
       "37     153\n",
       "39     127\n",
       "Name: label, dtype: int64"
      ]
     },
     "execution_count": 11,
     "metadata": {},
     "output_type": "execute_result"
    }
   ],
   "source": [
    "test_df = pd.DataFrame()\n",
    "\n",
    "label_range = set(range(32, 41))\n",
    "\n",
    "file_path = 'datasets/lexically_extended_intent_data/validation/'\n",
    "for filename in os.listdir(file_path):\n",
    "    if filename.endswith('.txt'):\n",
    "        with open(file_path+filename, 'r') as file:\n",
    "            for line in file:\n",
    "                label, text = line.strip().split('<SEP>')\n",
    "                label = int(label)\n",
    "\n",
    "                if label in label_range:\n",
    "                    new_row = pd.DataFrame({'label': [label], 'text': [text]})\n",
    "                    test_df = pd.concat([test_df, new_row], ignore_index=True)\n",
    "test_df.label.value_counts()"
   ]
  },
  {
   "cell_type": "code",
   "execution_count": 12,
   "id": "5bc3da5f-46bf-419b-b1a3-a8af3582c4bc",
   "metadata": {},
   "outputs": [],
   "source": [
    "test_df.sample(frac=1)\n",
    "test_df.to_csv(\"EmpIntent_test.csv\")"
   ]
  },
  {
   "cell_type": "code",
   "execution_count": 16,
   "id": "8813bd8d-796e-48b7-aa87-0bfed21a7393",
   "metadata": {},
   "outputs": [],
   "source": [
    "train = pd.read_csv(\"EmpIntent_train.csv\", index_col=\"Unnamed: 0\").sample(frac=1)\n",
    "valid = pd.read_csv(\"EmpIntent_validation.csv\", index_col=\"Unnamed: 0\").sample(frac=1)\n",
    "test = pd.read_csv(\"EmpIntent_test.csv\", index_col=\"Unnamed: 0\").sample(frac=1)"
   ]
  },
  {
   "cell_type": "code",
   "execution_count": 17,
   "id": "0341f345-faba-4b51-9290-f35dbc6ebb62",
   "metadata": {},
   "outputs": [],
   "source": [
    "train.replace({32:1, 33:2, 34:3, 35:4, 36:5, 37:6, 38:7, 39:8, 40:0}, inplace=True)\n",
    "valid.replace({32:1, 33:2, 34:3, 35:4, 36:5, 37:6, 38:7, 39:8, 40:0}, inplace=True)\n",
    "test.replace({32:1, 33:2, 34:3, 35:4, 36:5, 37:6, 38:7, 39:8, 40:0}, inplace=True)"
   ]
  },
  {
   "cell_type": "code",
   "execution_count": 19,
   "id": "9ec962af-7120-447c-9c23-be1bf0a61273",
   "metadata": {},
   "outputs": [],
   "source": [
    "train.to_csv(\"EmpIntent_train.csv\")\n",
    "valid.to_csv(\"EmpIntent_validation.csv\")\n",
    "test.to_csv(\"EmpIntent_test.csv\")"
   ]
  },
  {
   "cell_type": "markdown",
   "id": "fe66704c-abca-4606-a334-450b154ddfc4",
   "metadata": {
    "tags": []
   },
   "source": [
    "### Train Bert Classifier"
   ]
  },
  {
   "cell_type": "markdown",
   "id": "64397048-2afb-4ac9-b7a9-7f48d3b8c973",
   "metadata": {},
   "source": [
    "#### Loading and tokenizing data"
   ]
  },
  {
   "cell_type": "code",
   "execution_count": 2,
   "id": "c02d853d-c3b6-4a95-a72a-0bb385b6b5d9",
   "metadata": {},
   "outputs": [],
   "source": [
    "os.environ[\"CUDA_DEVICE_ORDER\"]=\"PCI_BUS_ID\"\n",
    "os.environ[\"CUDA_VISIBLE_DEVICES\"]=\"1\""
   ]
  },
  {
   "cell_type": "code",
   "execution_count": 3,
   "id": "92a01cb2-6da5-4133-bdda-8a64fb7ae0fb",
   "metadata": {},
   "outputs": [
    {
     "name": "stderr",
     "output_type": "stream",
     "text": [
      "Found cached dataset csv (/home/jovyan/.cache/huggingface/datasets/csv/default-a6b6de325c33cbfb/0.0.0/6954658bab30a358235fa864b05cf819af0e179325c740e4bc853bcc7ec513e1)\n"
     ]
    },
    {
     "data": {
      "application/vnd.jupyter.widget-view+json": {
       "model_id": "fc38ca66ea6d45df8a0946dd0c03f532",
       "version_major": 2,
       "version_minor": 0
      },
      "text/plain": [
       "  0%|          | 0/1 [00:00<?, ?it/s]"
      ]
     },
     "metadata": {},
     "output_type": "display_data"
    },
    {
     "name": "stderr",
     "output_type": "stream",
     "text": [
      "Found cached dataset csv (/home/jovyan/.cache/huggingface/datasets/csv/default-cd8c89afda16d5f5/0.0.0/6954658bab30a358235fa864b05cf819af0e179325c740e4bc853bcc7ec513e1)\n"
     ]
    },
    {
     "data": {
      "application/vnd.jupyter.widget-view+json": {
       "model_id": "07160f3546014852859221ab48848cd8",
       "version_major": 2,
       "version_minor": 0
      },
      "text/plain": [
       "  0%|          | 0/1 [00:00<?, ?it/s]"
      ]
     },
     "metadata": {},
     "output_type": "display_data"
    },
    {
     "name": "stderr",
     "output_type": "stream",
     "text": [
      "Found cached dataset csv (/home/jovyan/.cache/huggingface/datasets/csv/default-bcd8e1782386e58e/0.0.0/6954658bab30a358235fa864b05cf819af0e179325c740e4bc853bcc7ec513e1)\n"
     ]
    },
    {
     "data": {
      "application/vnd.jupyter.widget-view+json": {
       "model_id": "ea98998ed7d84bb6a7a8b44bac727158",
       "version_major": 2,
       "version_minor": 0
      },
      "text/plain": [
       "  0%|          | 0/1 [00:00<?, ?it/s]"
      ]
     },
     "metadata": {},
     "output_type": "display_data"
    }
   ],
   "source": [
    "train = load_dataset('csv', data_files=\"EmpIntent_train.csv\")\n",
    "\n",
    "valid = load_dataset('csv', data_files=\"EmpIntent_validation.csv\")\n",
    "\n",
    "test = load_dataset('csv', data_files=\"EmpIntent_test.csv\")"
   ]
  },
  {
   "cell_type": "code",
   "execution_count": 5,
   "id": "2f4bf2c8-0313-4876-8336-e032a6ab1fe3",
   "metadata": {},
   "outputs": [],
   "source": [
    "tokenizer = AutoTokenizer.from_pretrained(\"bert-base-cased\")"
   ]
  },
  {
   "cell_type": "code",
   "execution_count": 6,
   "id": "09f02b12-6096-4c06-adb7-b84f620a0bad",
   "metadata": {},
   "outputs": [
    {
     "name": "stderr",
     "output_type": "stream",
     "text": [
      "Loading cached processed dataset at /home/jovyan/.cache/huggingface/datasets/csv/default-a6b6de325c33cbfb/0.0.0/6954658bab30a358235fa864b05cf819af0e179325c740e4bc853bcc7ec513e1/cache-ae9e21808954c959.arrow\n",
      "Loading cached processed dataset at /home/jovyan/.cache/huggingface/datasets/csv/default-cd8c89afda16d5f5/0.0.0/6954658bab30a358235fa864b05cf819af0e179325c740e4bc853bcc7ec513e1/cache-7263e1cee1fc7f9f.arrow\n",
      "Loading cached processed dataset at /home/jovyan/.cache/huggingface/datasets/csv/default-bcd8e1782386e58e/0.0.0/6954658bab30a358235fa864b05cf819af0e179325c740e4bc853bcc7ec513e1/cache-00dec803a6f603b7.arrow\n"
     ]
    }
   ],
   "source": [
    "train_tokenized = train.map(tokenize_function, batched=True)\n",
    "valid_tokenized = valid.map(tokenize_function, batched=True)\n",
    "test_tokenized = test.map(tokenize_function, batched=True)"
   ]
  },
  {
   "cell_type": "code",
   "execution_count": 7,
   "id": "e00194c4-a15c-4f52-a88d-c25f71e1e504",
   "metadata": {},
   "outputs": [],
   "source": [
    "def compute_metrics(pred):\n",
    "    labels = pred.label_ids\n",
    "    preds = pred.predictions.argmax(-1)\n",
    "    precision, recall, f1, _ = precision_recall_fscore_support(labels, preds, average='macro')\n",
    "    acc = accuracy_score(labels, preds)\n",
    "    return {\n",
    "        'accuracy': acc,\n",
    "        'f1': f1,\n",
    "        'precision': precision,\n",
    "        'recall': recall,\n",
    "    }"
   ]
  },
  {
   "cell_type": "markdown",
   "id": "84773cf8-69cb-4a57-aacf-a13453482a38",
   "metadata": {
    "tags": []
   },
   "source": [
    "#### training and saving classifier"
   ]
  },
  {
   "cell_type": "code",
   "execution_count": 8,
   "id": "07eb1273-7dbc-49fb-9139-a15066ba37e2",
   "metadata": {},
   "outputs": [
    {
     "name": "stderr",
     "output_type": "stream",
     "text": [
      "Some weights of the model checkpoint at bert-base-cased were not used when initializing BertForSequenceClassification: ['cls.predictions.transform.dense.bias', 'cls.predictions.transform.LayerNorm.weight', 'cls.predictions.transform.dense.weight', 'cls.seq_relationship.bias', 'cls.predictions.transform.LayerNorm.bias', 'cls.seq_relationship.weight', 'cls.predictions.decoder.weight', 'cls.predictions.bias']\n",
      "- This IS expected if you are initializing BertForSequenceClassification from the checkpoint of a model trained on another task or with another architecture (e.g. initializing a BertForSequenceClassification model from a BertForPreTraining model).\n",
      "- This IS NOT expected if you are initializing BertForSequenceClassification from the checkpoint of a model that you expect to be exactly identical (initializing a BertForSequenceClassification model from a BertForSequenceClassification model).\n",
      "Some weights of BertForSequenceClassification were not initialized from the model checkpoint at bert-base-cased and are newly initialized: ['classifier.weight', 'classifier.bias']\n",
      "You should probably TRAIN this model on a down-stream task to be able to use it for predictions and inference.\n",
      "/opt/conda/lib/python3.9/site-packages/transformers/optimization.py:391: FutureWarning: This implementation of AdamW is deprecated and will be removed in a future version. Use the PyTorch implementation torch.optim.AdamW instead, or set `no_deprecation_warning=True` to disable this warning\n",
      "  warnings.warn(\n"
     ]
    },
    {
     "data": {
      "text/html": [
       "\n",
       "    <div>\n",
       "      \n",
       "      <progress value='13512' max='13512' style='width:300px; height:20px; vertical-align: middle;'></progress>\n",
       "      [13512/13512 54:39, Epoch 3/3]\n",
       "    </div>\n",
       "    <table border=\"1\" class=\"dataframe\">\n",
       "  <thead>\n",
       " <tr style=\"text-align: left;\">\n",
       "      <th>Epoch</th>\n",
       "      <th>Training Loss</th>\n",
       "      <th>Validation Loss</th>\n",
       "      <th>Accuracy</th>\n",
       "      <th>F1</th>\n",
       "      <th>Precision</th>\n",
       "      <th>Recall</th>\n",
       "    </tr>\n",
       "  </thead>\n",
       "  <tbody>\n",
       "    <tr>\n",
       "      <td>1</td>\n",
       "      <td>0.172400</td>\n",
       "      <td>0.170894</td>\n",
       "      <td>0.948059</td>\n",
       "      <td>0.886649</td>\n",
       "      <td>0.878232</td>\n",
       "      <td>0.898751</td>\n",
       "    </tr>\n",
       "    <tr>\n",
       "      <td>2</td>\n",
       "      <td>0.142500</td>\n",
       "      <td>0.121315</td>\n",
       "      <td>0.953080</td>\n",
       "      <td>0.888271</td>\n",
       "      <td>0.882423</td>\n",
       "      <td>0.905975</td>\n",
       "    </tr>\n",
       "    <tr>\n",
       "      <td>3</td>\n",
       "      <td>0.091900</td>\n",
       "      <td>0.105532</td>\n",
       "      <td>0.956169</td>\n",
       "      <td>0.896577</td>\n",
       "      <td>0.896187</td>\n",
       "      <td>0.902145</td>\n",
       "    </tr>\n",
       "  </tbody>\n",
       "</table><p>"
      ],
      "text/plain": [
       "<IPython.core.display.HTML object>"
      ]
     },
     "metadata": {},
     "output_type": "display_data"
    },
    {
     "data": {
      "text/html": [],
      "text/plain": [
       "<IPython.core.display.HTML object>"
      ]
     },
     "metadata": {},
     "output_type": "display_data"
    },
    {
     "name": "stderr",
     "output_type": "stream",
     "text": [
      "IOPub message rate exceeded.\n",
      "The Jupyter server will temporarily stop sending output\n",
      "to the client in order to avoid crashing it.\n",
      "To change this limit, set the config variable\n",
      "`--ServerApp.iopub_msg_rate_limit`.\n",
      "\n",
      "Current values:\n",
      "ServerApp.iopub_msg_rate_limit=1000.0 (msgs/sec)\n",
      "ServerApp.rate_limit_window=3.0 (secs)\n",
      "\n"
     ]
    }
   ],
   "source": [
    "label_num = 9\n",
    "\n",
    "training_args = TrainingArguments(\"EmpIntent\", evaluation_strategy=\"epoch\", save_strategy=\"epoch\", load_best_model_at_end=True)\n",
    "\n",
    "model = AutoModelForSequenceClassification.from_pretrained(\"bert-base-cased\", num_labels=label_num, ignore_mismatched_sizes=True)\n",
    "trainer = Trainer(model=model, args=training_args, train_dataset=train_tokenized[\"train\"], eval_dataset=valid_tokenized[\"train\"], compute_metrics=compute_metrics)\n",
    "trainer.train()\n",
    "trainer.evaluate()"
   ]
  },
  {
   "cell_type": "code",
   "execution_count": 9,
   "id": "603a82ec-fa44-4f89-b4b1-393769844b49",
   "metadata": {},
   "outputs": [
    {
     "data": {
      "text/plain": [
       "('EmpatheticClassifier/bert_model/tokenizer_config.json',\n",
       " 'EmpatheticClassifier/bert_model/special_tokens_map.json',\n",
       " 'EmpatheticClassifier/bert_model/vocab.txt',\n",
       " 'EmpatheticClassifier/bert_model/added_tokens.json',\n",
       " 'EmpatheticClassifier/bert_model/tokenizer.json')"
      ]
     },
     "execution_count": 9,
     "metadata": {},
     "output_type": "execute_result"
    }
   ],
   "source": [
    "trainer.save_model(\"EmpatheticClassifier/bert_model\")\n",
    "tokenizer.save_pretrained(\"EmpatheticClassifier/bert_model\")"
   ]
  },
  {
   "cell_type": "markdown",
   "id": "95813bc5-4268-43bb-b590-2d433152e7ec",
   "metadata": {},
   "source": [
    "#### Evaluating on Test Set"
   ]
  },
  {
   "cell_type": "code",
   "execution_count": 11,
   "id": "2dbd9b14-2320-4963-ac9a-ac48306e24fd",
   "metadata": {},
   "outputs": [],
   "source": [
    "pipe = pipeline(\"text-classification\", model=\"EmpatheticClassifier/bert_model\",\n",
    "                tokenizer=\"EmpatheticClassifier/bert_model\", device=0)"
   ]
  },
  {
   "cell_type": "code",
   "execution_count": 33,
   "id": "f3f354f6-cb57-402c-9723-226bb87a2145",
   "metadata": {},
   "outputs": [
    {
     "data": {
      "application/vnd.jupyter.widget-view+json": {
       "model_id": "7005c7e9a8c1440cb7256ba97a9f3873",
       "version_major": 2,
       "version_minor": 0
      },
      "text/plain": [
       "  0%|          | 0/5179 [00:00<?, ?it/s]"
      ]
     },
     "metadata": {},
     "output_type": "display_data"
    }
   ],
   "source": [
    "preds = []\n",
    "for out in tqdm(pipe(KeyDataset(test[\"train\"], \"text\"))):\n",
    "    label = out[\"label\"]\n",
    "    number = ''.join(filter(str.isdigit, label))\n",
    "    if number:\n",
    "        preds.append(int(number))"
   ]
  },
  {
   "cell_type": "code",
   "execution_count": 34,
   "id": "d4c752a7-b1d6-412d-9f32-47aa92d00c48",
   "metadata": {},
   "outputs": [
    {
     "data": {
      "text/plain": [
       "[7, 7, 6, 7, 2]"
      ]
     },
     "execution_count": 34,
     "metadata": {},
     "output_type": "execute_result"
    }
   ],
   "source": [
    "preds[:5]"
   ]
  },
  {
   "cell_type": "code",
   "execution_count": 35,
   "id": "f2717ef4-502d-4592-81a1-d80dbbb6ebab",
   "metadata": {},
   "outputs": [
    {
     "data": {
      "text/plain": [
       "(0.896187111647092, 0.9021451019157549, 0.8965772870217843, None)"
      ]
     },
     "execution_count": 35,
     "metadata": {},
     "output_type": "execute_result"
    }
   ],
   "source": [
    "precision_recall_fscore_support(test[\"train\"][\"label\"], preds, average='macro')"
   ]
  },
  {
   "cell_type": "markdown",
   "id": "599ac8c9-b38c-491b-b383-18f9975d46fc",
   "metadata": {},
   "source": [
    "### Classifying Agent Dialogues"
   ]
  },
  {
   "cell_type": "markdown",
   "id": "a5759255-8fc8-45a1-aa0b-fe885f607cc9",
   "metadata": {},
   "source": [
    "#### Defining prediction pipeline and loading data"
   ]
  },
  {
   "cell_type": "code",
   "execution_count": 5,
   "id": "be4c77bc-fa03-45ea-afdf-965b7a705c58",
   "metadata": {},
   "outputs": [],
   "source": [
    "tokenizer = AutoTokenizer.from_pretrained(\"EmpatheticClassifier/bert_model\")\n",
    "model = AutoModelForSequenceClassification.from_pretrained(\"EmpatheticClassifier/bert_model\", local_files_only=True).cuda()\n",
    "pipe = TextClassificationPipeline(model=model, tokenizer=tokenizer, top_k = None, device=0)"
   ]
  },
  {
   "cell_type": "code",
   "execution_count": 8,
   "id": "bc820c7d-326f-4500-aa7c-3f0fa6a5f3c0",
   "metadata": {},
   "outputs": [
    {
     "data": {
      "text/html": [
       "<div>\n",
       "<style scoped>\n",
       "    .dataframe tbody tr th:only-of-type {\n",
       "        vertical-align: middle;\n",
       "    }\n",
       "\n",
       "    .dataframe tbody tr th {\n",
       "        vertical-align: top;\n",
       "    }\n",
       "\n",
       "    .dataframe thead th {\n",
       "        text-align: right;\n",
       "    }\n",
       "</style>\n",
       "<table border=\"1\" class=\"dataframe\">\n",
       "  <thead>\n",
       "    <tr style=\"text-align: right;\">\n",
       "      <th></th>\n",
       "      <th>Unnamed: 0</th>\n",
       "      <th>id</th>\n",
       "      <th>code</th>\n",
       "      <th>prompt</th>\n",
       "      <th>seeker_post</th>\n",
       "      <th>response_post</th>\n",
       "    </tr>\n",
       "  </thead>\n",
       "  <tbody>\n",
       "    <tr>\n",
       "      <th>0</th>\n",
       "      <td>0</td>\n",
       "      <td>0</td>\n",
       "      <td>R_-</td>\n",
       "      <td>Der Therapeut sagt:</td>\n",
       "      <td>I'm not at the finish yet and just at the mome...</td>\n",
       "      <td>It's okay that you doubt. It's perfectly norma...</td>\n",
       "    </tr>\n",
       "    <tr>\n",
       "      <th>1</th>\n",
       "      <td>1</td>\n",
       "      <td>1</td>\n",
       "      <td>R_-</td>\n",
       "      <td>Die Therapeutin sagt:</td>\n",
       "      <td>I'm not at the finish yet and just at the mome...</td>\n",
       "      <td>I can help you achieve your goals. We can crea...</td>\n",
       "    </tr>\n",
       "    <tr>\n",
       "      <th>2</th>\n",
       "      <td>2</td>\n",
       "      <td>2</td>\n",
       "      <td>R_-</td>\n",
       "      <td>Der erfreute Therapeut sagt:</td>\n",
       "      <td>I'm not at the finish yet and just at the mome...</td>\n",
       "      <td>This attitude is very important, because I don...</td>\n",
       "    </tr>\n",
       "    <tr>\n",
       "      <th>3</th>\n",
       "      <td>3</td>\n",
       "      <td>3</td>\n",
       "      <td>R_-</td>\n",
       "      <td>Der traurige Therapeut sagt:</td>\n",
       "      <td>I'm not at the finish yet and just at the mome...</td>\n",
       "      <td>Yes, it may be that things aren't going so wel...</td>\n",
       "    </tr>\n",
       "    <tr>\n",
       "      <th>4</th>\n",
       "      <td>4</td>\n",
       "      <td>4</td>\n",
       "      <td>R_-</td>\n",
       "      <td>Der verängstigte Therapeut sagt:</td>\n",
       "      <td>I'm not at the finish yet and just at the mome...</td>\n",
       "      <td>You can do this.\" The patient says:</td>\n",
       "    </tr>\n",
       "  </tbody>\n",
       "</table>\n",
       "</div>"
      ],
      "text/plain": [
       "   Unnamed: 0  id code                            prompt  \\\n",
       "0           0   0  R_-               Der Therapeut sagt:   \n",
       "1           1   1  R_-             Die Therapeutin sagt:   \n",
       "2           2   2  R_-      Der erfreute Therapeut sagt:   \n",
       "3           3   3  R_-      Der traurige Therapeut sagt:   \n",
       "4           4   4  R_-  Der verängstigte Therapeut sagt:   \n",
       "\n",
       "                                         seeker_post  \\\n",
       "0  I'm not at the finish yet and just at the mome...   \n",
       "1  I'm not at the finish yet and just at the mome...   \n",
       "2  I'm not at the finish yet and just at the mome...   \n",
       "3  I'm not at the finish yet and just at the mome...   \n",
       "4  I'm not at the finish yet and just at the mome...   \n",
       "\n",
       "                                       response_post  \n",
       "0  It's okay that you doubt. It's perfectly norma...  \n",
       "1  I can help you achieve your goals. We can crea...  \n",
       "2  This attitude is very important, because I don...  \n",
       "3  Yes, it may be that things aren't going so wel...  \n",
       "4                You can do this.\" The patient says:  "
      ]
     },
     "execution_count": 8,
     "metadata": {},
     "output_type": "execute_result"
    }
   ],
   "source": [
    "agent_dials = pd.read_csv(\"datasets/input_output_translated.csv\")\n",
    "agent_dials.head()"
   ]
  },
  {
   "cell_type": "code",
   "execution_count": 14,
   "id": "e756644f-98ab-4b9d-9bfd-85c143143660",
   "metadata": {},
   "outputs": [
    {
     "name": "stderr",
     "output_type": "stream",
     "text": [
      "/opt/conda/lib/python3.9/site-packages/transformers/pipelines/base.py:1070: UserWarning: You seem to be using the pipelines sequentially on GPU. In order to maximize efficiency please use a dataset\n",
      "  warnings.warn(\n"
     ]
    }
   ],
   "source": [
    "pred_label = []\n",
    "pred_score = []\n",
    "\n",
    "for index, row in agent_dials.iterrows():\n",
    "    out = pipe.predict(row[\"response_post\"])\n",
    "    label, score = get_label(out)\n",
    "    pred_label.append(label)\n",
    "    pred_score.append(score)\n",
    "    \n",
    "agent_dials[\"label\"] = pred_label\n",
    "agent_dials[\"score\"] = pred_score\n",
    "\n",
    "agent_dials.to_csv(\"classified_agent_dials\")"
   ]
  },
  {
   "cell_type": "code",
   "execution_count": 15,
   "id": "dafc1c8e-cdfd-42ba-8be9-15f067964712",
   "metadata": {},
   "outputs": [
    {
     "data": {
      "text/html": [
       "<div>\n",
       "<style scoped>\n",
       "    .dataframe tbody tr th:only-of-type {\n",
       "        vertical-align: middle;\n",
       "    }\n",
       "\n",
       "    .dataframe tbody tr th {\n",
       "        vertical-align: top;\n",
       "    }\n",
       "\n",
       "    .dataframe thead th {\n",
       "        text-align: right;\n",
       "    }\n",
       "</style>\n",
       "<table border=\"1\" class=\"dataframe\">\n",
       "  <thead>\n",
       "    <tr style=\"text-align: right;\">\n",
       "      <th></th>\n",
       "      <th>Unnamed: 0</th>\n",
       "      <th>id</th>\n",
       "      <th>code</th>\n",
       "      <th>prompt</th>\n",
       "      <th>seeker_post</th>\n",
       "      <th>response_post</th>\n",
       "      <th>label</th>\n",
       "      <th>score</th>\n",
       "    </tr>\n",
       "  </thead>\n",
       "  <tbody>\n",
       "    <tr>\n",
       "      <th>0</th>\n",
       "      <td>0</td>\n",
       "      <td>0</td>\n",
       "      <td>R_-</td>\n",
       "      <td>Der Therapeut sagt:</td>\n",
       "      <td>I'm not at the finish yet and just at the mome...</td>\n",
       "      <td>It's okay that you doubt. It's perfectly norma...</td>\n",
       "      <td>LABEL_1</td>\n",
       "      <td>0.970899</td>\n",
       "    </tr>\n",
       "    <tr>\n",
       "      <th>1</th>\n",
       "      <td>1</td>\n",
       "      <td>1</td>\n",
       "      <td>R_-</td>\n",
       "      <td>Die Therapeutin sagt:</td>\n",
       "      <td>I'm not at the finish yet and just at the mome...</td>\n",
       "      <td>I can help you achieve your goals. We can crea...</td>\n",
       "      <td>LABEL_6</td>\n",
       "      <td>0.636805</td>\n",
       "    </tr>\n",
       "    <tr>\n",
       "      <th>2</th>\n",
       "      <td>2</td>\n",
       "      <td>2</td>\n",
       "      <td>R_-</td>\n",
       "      <td>Der erfreute Therapeut sagt:</td>\n",
       "      <td>I'm not at the finish yet and just at the mome...</td>\n",
       "      <td>This attitude is very important, because I don...</td>\n",
       "      <td>LABEL_0</td>\n",
       "      <td>0.995945</td>\n",
       "    </tr>\n",
       "    <tr>\n",
       "      <th>3</th>\n",
       "      <td>3</td>\n",
       "      <td>3</td>\n",
       "      <td>R_-</td>\n",
       "      <td>Der traurige Therapeut sagt:</td>\n",
       "      <td>I'm not at the finish yet and just at the mome...</td>\n",
       "      <td>Yes, it may be that things aren't going so wel...</td>\n",
       "      <td>LABEL_0</td>\n",
       "      <td>0.999413</td>\n",
       "    </tr>\n",
       "    <tr>\n",
       "      <th>4</th>\n",
       "      <td>4</td>\n",
       "      <td>4</td>\n",
       "      <td>R_-</td>\n",
       "      <td>Der verängstigte Therapeut sagt:</td>\n",
       "      <td>I'm not at the finish yet and just at the mome...</td>\n",
       "      <td>You can do this.\" The patient says:</td>\n",
       "      <td>LABEL_1</td>\n",
       "      <td>0.338438</td>\n",
       "    </tr>\n",
       "  </tbody>\n",
       "</table>\n",
       "</div>"
      ],
      "text/plain": [
       "   Unnamed: 0  id code                            prompt  \\\n",
       "0           0   0  R_-               Der Therapeut sagt:   \n",
       "1           1   1  R_-             Die Therapeutin sagt:   \n",
       "2           2   2  R_-      Der erfreute Therapeut sagt:   \n",
       "3           3   3  R_-      Der traurige Therapeut sagt:   \n",
       "4           4   4  R_-  Der verängstigte Therapeut sagt:   \n",
       "\n",
       "                                         seeker_post  \\\n",
       "0  I'm not at the finish yet and just at the mome...   \n",
       "1  I'm not at the finish yet and just at the mome...   \n",
       "2  I'm not at the finish yet and just at the mome...   \n",
       "3  I'm not at the finish yet and just at the mome...   \n",
       "4  I'm not at the finish yet and just at the mome...   \n",
       "\n",
       "                                       response_post    label     score  \n",
       "0  It's okay that you doubt. It's perfectly norma...  LABEL_1  0.970899  \n",
       "1  I can help you achieve your goals. We can crea...  LABEL_6  0.636805  \n",
       "2  This attitude is very important, because I don...  LABEL_0  0.995945  \n",
       "3  Yes, it may be that things aren't going so wel...  LABEL_0  0.999413  \n",
       "4                You can do this.\" The patient says:  LABEL_1  0.338438  "
      ]
     },
     "execution_count": 15,
     "metadata": {},
     "output_type": "execute_result"
    }
   ],
   "source": [
    "agent_dials.head()"
   ]
  },
  {
   "cell_type": "code",
   "execution_count": 19,
   "id": "69605d88-4db6-4892-86e0-246e84347e39",
   "metadata": {},
   "outputs": [],
   "source": [
    "agent_dials.replace({\"LABEL_1\":\"agreeing\", \"LABEL_2\":\"acknowledging\",\n",
    "                     \"LABEL_3\":\"encouraging\", \"LABEL_4\":\"consoling\",\n",
    "                     \"LABEL_5\":\"sympathizing\", \"LABEL_6\":\"suggesting\",\n",
    "                     \"LABEL_7\":\"questioning\", \"LABEL_8\": \"wishing\",\n",
    "                     \"LABEL_0\":\"neutral\"}, inplace=True)"
   ]
  },
  {
   "cell_type": "code",
   "execution_count": 20,
   "id": "05af90fd-0b98-4bf4-8db4-00ae4dc475ef",
   "metadata": {},
   "outputs": [
    {
     "data": {
      "text/html": [
       "<div>\n",
       "<style scoped>\n",
       "    .dataframe tbody tr th:only-of-type {\n",
       "        vertical-align: middle;\n",
       "    }\n",
       "\n",
       "    .dataframe tbody tr th {\n",
       "        vertical-align: top;\n",
       "    }\n",
       "\n",
       "    .dataframe thead th {\n",
       "        text-align: right;\n",
       "    }\n",
       "</style>\n",
       "<table border=\"1\" class=\"dataframe\">\n",
       "  <thead>\n",
       "    <tr style=\"text-align: right;\">\n",
       "      <th></th>\n",
       "      <th>Unnamed: 0</th>\n",
       "      <th>id</th>\n",
       "      <th>code</th>\n",
       "      <th>prompt</th>\n",
       "      <th>seeker_post</th>\n",
       "      <th>response_post</th>\n",
       "      <th>label</th>\n",
       "      <th>score</th>\n",
       "    </tr>\n",
       "  </thead>\n",
       "  <tbody>\n",
       "    <tr>\n",
       "      <th>0</th>\n",
       "      <td>0</td>\n",
       "      <td>0</td>\n",
       "      <td>R_-</td>\n",
       "      <td>Der Therapeut sagt:</td>\n",
       "      <td>I'm not at the finish yet and just at the mome...</td>\n",
       "      <td>It's okay that you doubt. It's perfectly norma...</td>\n",
       "      <td>agreeing</td>\n",
       "      <td>0.970899</td>\n",
       "    </tr>\n",
       "    <tr>\n",
       "      <th>1</th>\n",
       "      <td>1</td>\n",
       "      <td>1</td>\n",
       "      <td>R_-</td>\n",
       "      <td>Die Therapeutin sagt:</td>\n",
       "      <td>I'm not at the finish yet and just at the mome...</td>\n",
       "      <td>I can help you achieve your goals. We can crea...</td>\n",
       "      <td>suggesting</td>\n",
       "      <td>0.636805</td>\n",
       "    </tr>\n",
       "    <tr>\n",
       "      <th>2</th>\n",
       "      <td>2</td>\n",
       "      <td>2</td>\n",
       "      <td>R_-</td>\n",
       "      <td>Der erfreute Therapeut sagt:</td>\n",
       "      <td>I'm not at the finish yet and just at the mome...</td>\n",
       "      <td>This attitude is very important, because I don...</td>\n",
       "      <td>neutral</td>\n",
       "      <td>0.995945</td>\n",
       "    </tr>\n",
       "    <tr>\n",
       "      <th>3</th>\n",
       "      <td>3</td>\n",
       "      <td>3</td>\n",
       "      <td>R_-</td>\n",
       "      <td>Der traurige Therapeut sagt:</td>\n",
       "      <td>I'm not at the finish yet and just at the mome...</td>\n",
       "      <td>Yes, it may be that things aren't going so wel...</td>\n",
       "      <td>neutral</td>\n",
       "      <td>0.999413</td>\n",
       "    </tr>\n",
       "    <tr>\n",
       "      <th>4</th>\n",
       "      <td>4</td>\n",
       "      <td>4</td>\n",
       "      <td>R_-</td>\n",
       "      <td>Der verängstigte Therapeut sagt:</td>\n",
       "      <td>I'm not at the finish yet and just at the mome...</td>\n",
       "      <td>You can do this.\" The patient says:</td>\n",
       "      <td>agreeing</td>\n",
       "      <td>0.338438</td>\n",
       "    </tr>\n",
       "  </tbody>\n",
       "</table>\n",
       "</div>"
      ],
      "text/plain": [
       "   Unnamed: 0  id code                            prompt  \\\n",
       "0           0   0  R_-               Der Therapeut sagt:   \n",
       "1           1   1  R_-             Die Therapeutin sagt:   \n",
       "2           2   2  R_-      Der erfreute Therapeut sagt:   \n",
       "3           3   3  R_-      Der traurige Therapeut sagt:   \n",
       "4           4   4  R_-  Der verängstigte Therapeut sagt:   \n",
       "\n",
       "                                         seeker_post  \\\n",
       "0  I'm not at the finish yet and just at the mome...   \n",
       "1  I'm not at the finish yet and just at the mome...   \n",
       "2  I'm not at the finish yet and just at the mome...   \n",
       "3  I'm not at the finish yet and just at the mome...   \n",
       "4  I'm not at the finish yet and just at the mome...   \n",
       "\n",
       "                                       response_post       label     score  \n",
       "0  It's okay that you doubt. It's perfectly norma...    agreeing  0.970899  \n",
       "1  I can help you achieve your goals. We can crea...  suggesting  0.636805  \n",
       "2  This attitude is very important, because I don...     neutral  0.995945  \n",
       "3  Yes, it may be that things aren't going so wel...     neutral  0.999413  \n",
       "4                You can do this.\" The patient says:    agreeing  0.338438  "
      ]
     },
     "execution_count": 20,
     "metadata": {},
     "output_type": "execute_result"
    }
   ],
   "source": [
    "agent_dials.head()"
   ]
  },
  {
   "cell_type": "code",
   "execution_count": 21,
   "id": "2f406537-86e5-4933-8d83-59dd282618e7",
   "metadata": {},
   "outputs": [],
   "source": [
    "agent_dials.to_csv(\"datasets/classified_agent_dials.csv\")"
   ]
  }
 ],
 "metadata": {
  "kernelspec": {
   "display_name": "Python 3 (ipykernel)",
   "language": "python",
   "name": "python3"
  },
  "language_info": {
   "codemirror_mode": {
    "name": "ipython",
    "version": 3
   },
   "file_extension": ".py",
   "mimetype": "text/x-python",
   "name": "python",
   "nbconvert_exporter": "python",
   "pygments_lexer": "ipython3",
   "version": "3.9.13"
  }
 },
 "nbformat": 4,
 "nbformat_minor": 5
}
