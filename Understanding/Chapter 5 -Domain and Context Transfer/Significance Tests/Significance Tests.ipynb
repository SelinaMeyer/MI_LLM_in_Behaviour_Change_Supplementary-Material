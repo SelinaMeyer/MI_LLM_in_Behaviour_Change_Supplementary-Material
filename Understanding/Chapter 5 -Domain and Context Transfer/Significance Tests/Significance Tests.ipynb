{
 "cells": [
  {
   "cell_type": "code",
   "execution_count": 28,
   "id": "627a3253-aa7c-4910-9986-36b8034668a8",
   "metadata": {},
   "outputs": [],
   "source": [
    "import pandas as pd\n",
    "import numpy as np\n",
    "from scipy import stats\n",
    "import itertools\n",
    "import scikit_posthocs as sp\n",
    "import pingouin as pg"
   ]
  },
  {
   "cell_type": "code",
   "execution_count": 29,
   "id": "1839e213-98fe-4a80-97cc-aa5d3a21153a",
   "metadata": {},
   "outputs": [],
   "source": [
    "set_comp = pd.read_csv(\"set_comparison.csv\")\n",
    "val_feats = pd.read_csv(\"valence_features.csv\")\n",
    "label_feats = pd.read_csv(\"labels_features.csv\")\n",
    "sublabel_feats = pd.read_csv(\"sublabels_features.csv\")"
   ]
  },
  {
   "cell_type": "code",
   "execution_count": 30,
   "id": "e6ef8bf2-2e43-4c1b-94fc-3cfb12ea8330",
   "metadata": {},
   "outputs": [],
   "source": [
    "set_comp_val = set_comp[set_comp[\"level\"] == \"valence\"]\n",
    "set_comp_lab = set_comp[set_comp[\"level\"] == \"label\"]\n",
    "set_comp_sublab = set_comp[set_comp[\"level\"] == \"sublabel\"]"
   ]
  },
  {
   "cell_type": "markdown",
   "id": "ec6269be-1b5d-4f5c-b26f-ac7881ea19b7",
   "metadata": {
    "jp-MarkdownHeadingCollapsed": true,
    "tags": []
   },
   "source": [
    "### Significance tests on difference in classification performance between datasets\n",
    "\n",
    "Seperate Test for each Label-Level/Classifier"
   ]
  },
  {
   "cell_type": "markdown",
   "id": "60b9b67b-6610-4c35-be89-bf1c6c468deb",
   "metadata": {
    "tags": []
   },
   "source": [
    "#### Normality/Equality of Variance"
   ]
  },
  {
   "cell_type": "code",
   "execution_count": 35,
   "id": "97fc5343-b119-4c02-ae45-93a26a10c96e",
   "metadata": {},
   "outputs": [
    {
     "data": {
      "text/html": [
       "<div>\n",
       "<style scoped>\n",
       "    .dataframe tbody tr th:only-of-type {\n",
       "        vertical-align: middle;\n",
       "    }\n",
       "\n",
       "    .dataframe tbody tr th {\n",
       "        vertical-align: top;\n",
       "    }\n",
       "\n",
       "    .dataframe thead th {\n",
       "        text-align: right;\n",
       "    }\n",
       "</style>\n",
       "<table border=\"1\" class=\"dataframe\">\n",
       "  <thead>\n",
       "    <tr style=\"text-align: right;\">\n",
       "      <th></th>\n",
       "      <th>W</th>\n",
       "      <th>pval</th>\n",
       "      <th>normal</th>\n",
       "    </tr>\n",
       "    <tr>\n",
       "      <th>Unnamed: 1</th>\n",
       "      <th></th>\n",
       "      <th></th>\n",
       "      <th></th>\n",
       "    </tr>\n",
       "  </thead>\n",
       "  <tbody>\n",
       "    <tr>\n",
       "      <th>GLoHBCD</th>\n",
       "      <td>0.971342</td>\n",
       "      <td>0.902998</td>\n",
       "      <td>True</td>\n",
       "    </tr>\n",
       "    <tr>\n",
       "      <th>Smoke Stop Forum</th>\n",
       "      <td>0.917287</td>\n",
       "      <td>0.334884</td>\n",
       "      <td>True</td>\n",
       "    </tr>\n",
       "    <tr>\n",
       "      <th>Health Coach Dialogue Corpus</th>\n",
       "      <td>0.950494</td>\n",
       "      <td>0.674351</td>\n",
       "      <td>True</td>\n",
       "    </tr>\n",
       "    <tr>\n",
       "      <th>Synthetic GPT3 Data</th>\n",
       "      <td>0.930818</td>\n",
       "      <td>0.455990</td>\n",
       "      <td>True</td>\n",
       "    </tr>\n",
       "    <tr>\n",
       "      <th>DARN-CT-based Wizard of Oz Dialogues</th>\n",
       "      <td>0.738194</td>\n",
       "      <td>0.002563</td>\n",
       "      <td>False</td>\n",
       "    </tr>\n",
       "    <tr>\n",
       "      <th>Optifast Mock-Chatbot</th>\n",
       "      <td>0.942451</td>\n",
       "      <td>0.580591</td>\n",
       "      <td>True</td>\n",
       "    </tr>\n",
       "  </tbody>\n",
       "</table>\n",
       "</div>"
      ],
      "text/plain": [
       "                                             W      pval  normal\n",
       "Unnamed: 1                                                      \n",
       "GLoHBCD                               0.971342  0.902998    True\n",
       "Smoke Stop Forum                      0.917287  0.334884    True\n",
       "Health Coach Dialogue Corpus          0.950494  0.674351    True\n",
       "Synthetic GPT3 Data                   0.930818  0.455990    True\n",
       "DARN-CT-based Wizard of Oz Dialogues  0.738194  0.002563   False\n",
       "Optifast Mock-Chatbot                 0.942451  0.580591    True"
      ]
     },
     "execution_count": 35,
     "metadata": {},
     "output_type": "execute_result"
    }
   ],
   "source": [
    "pg.normality(data=set_comp_val, dv=\"f1\", group=\"Unnamed: 1\")"
   ]
  },
  {
   "cell_type": "code",
   "execution_count": 37,
   "id": "90f4c5e7-6f70-464c-85b5-1192f96c24a2",
   "metadata": {},
   "outputs": [
    {
     "data": {
      "text/html": [
       "<div>\n",
       "<style scoped>\n",
       "    .dataframe tbody tr th:only-of-type {\n",
       "        vertical-align: middle;\n",
       "    }\n",
       "\n",
       "    .dataframe tbody tr th {\n",
       "        vertical-align: top;\n",
       "    }\n",
       "\n",
       "    .dataframe thead th {\n",
       "        text-align: right;\n",
       "    }\n",
       "</style>\n",
       "<table border=\"1\" class=\"dataframe\">\n",
       "  <thead>\n",
       "    <tr style=\"text-align: right;\">\n",
       "      <th></th>\n",
       "      <th>W</th>\n",
       "      <th>pval</th>\n",
       "      <th>normal</th>\n",
       "    </tr>\n",
       "    <tr>\n",
       "      <th>Unnamed: 1</th>\n",
       "      <th></th>\n",
       "      <th></th>\n",
       "      <th></th>\n",
       "    </tr>\n",
       "  </thead>\n",
       "  <tbody>\n",
       "    <tr>\n",
       "      <th>GLoHBCD</th>\n",
       "      <td>0.946633</td>\n",
       "      <td>0.628866</td>\n",
       "      <td>True</td>\n",
       "    </tr>\n",
       "    <tr>\n",
       "      <th>Instagram Data</th>\n",
       "      <td>0.919511</td>\n",
       "      <td>0.352897</td>\n",
       "      <td>True</td>\n",
       "    </tr>\n",
       "    <tr>\n",
       "      <th>Smoke Stop Forum</th>\n",
       "      <td>0.937126</td>\n",
       "      <td>0.521500</td>\n",
       "      <td>True</td>\n",
       "    </tr>\n",
       "    <tr>\n",
       "      <th>Synthetic GPT3 Data</th>\n",
       "      <td>0.979513</td>\n",
       "      <td>0.962510</td>\n",
       "      <td>True</td>\n",
       "    </tr>\n",
       "    <tr>\n",
       "      <th>Health Coach Dialogue Corpus</th>\n",
       "      <td>0.968239</td>\n",
       "      <td>0.874057</td>\n",
       "      <td>True</td>\n",
       "    </tr>\n",
       "    <tr>\n",
       "      <th>DARN-CT-based Wizard of Oz Dialogues</th>\n",
       "      <td>0.966922</td>\n",
       "      <td>0.860929</td>\n",
       "      <td>True</td>\n",
       "    </tr>\n",
       "    <tr>\n",
       "      <th>Optifast Mock-Chatbot</th>\n",
       "      <td>0.956050</td>\n",
       "      <td>0.740062</td>\n",
       "      <td>True</td>\n",
       "    </tr>\n",
       "  </tbody>\n",
       "</table>\n",
       "</div>"
      ],
      "text/plain": [
       "                                             W      pval  normal\n",
       "Unnamed: 1                                                      \n",
       "GLoHBCD                               0.946633  0.628866    True\n",
       "Instagram Data                        0.919511  0.352897    True\n",
       "Smoke Stop Forum                      0.937126  0.521500    True\n",
       "Synthetic GPT3 Data                   0.979513  0.962510    True\n",
       "Health Coach Dialogue Corpus          0.968239  0.874057    True\n",
       "DARN-CT-based Wizard of Oz Dialogues  0.966922  0.860929    True\n",
       "Optifast Mock-Chatbot                 0.956050  0.740062    True"
      ]
     },
     "execution_count": 37,
     "metadata": {},
     "output_type": "execute_result"
    }
   ],
   "source": [
    "pg.normality(data=set_comp_lab, dv=\"f1\", group=\"Unnamed: 1\")"
   ]
  },
  {
   "cell_type": "code",
   "execution_count": 44,
   "id": "3c35248f-9237-4799-a533-f195290449a8",
   "metadata": {},
   "outputs": [
    {
     "data": {
      "text/html": [
       "<div>\n",
       "<style scoped>\n",
       "    .dataframe tbody tr th:only-of-type {\n",
       "        vertical-align: middle;\n",
       "    }\n",
       "\n",
       "    .dataframe tbody tr th {\n",
       "        vertical-align: top;\n",
       "    }\n",
       "\n",
       "    .dataframe thead th {\n",
       "        text-align: right;\n",
       "    }\n",
       "</style>\n",
       "<table border=\"1\" class=\"dataframe\">\n",
       "  <thead>\n",
       "    <tr style=\"text-align: right;\">\n",
       "      <th></th>\n",
       "      <th>W</th>\n",
       "      <th>pval</th>\n",
       "      <th>equal_var</th>\n",
       "    </tr>\n",
       "  </thead>\n",
       "  <tbody>\n",
       "    <tr>\n",
       "      <th>levene</th>\n",
       "      <td>7.111869</td>\n",
       "      <td>0.000008</td>\n",
       "      <td>False</td>\n",
       "    </tr>\n",
       "  </tbody>\n",
       "</table>\n",
       "</div>"
      ],
      "text/plain": [
       "               W      pval  equal_var\n",
       "levene  7.111869  0.000008      False"
      ]
     },
     "execution_count": 44,
     "metadata": {},
     "output_type": "execute_result"
    }
   ],
   "source": [
    "pg.homoscedasticity(data=set_comp_lab, dv=\"f1\", group=\"Unnamed: 1\")"
   ]
  },
  {
   "cell_type": "code",
   "execution_count": 38,
   "id": "87489e6d-ed97-4f28-af95-ff9fedac144d",
   "metadata": {},
   "outputs": [
    {
     "data": {
      "text/html": [
       "<div>\n",
       "<style scoped>\n",
       "    .dataframe tbody tr th:only-of-type {\n",
       "        vertical-align: middle;\n",
       "    }\n",
       "\n",
       "    .dataframe tbody tr th {\n",
       "        vertical-align: top;\n",
       "    }\n",
       "\n",
       "    .dataframe thead th {\n",
       "        text-align: right;\n",
       "    }\n",
       "</style>\n",
       "<table border=\"1\" class=\"dataframe\">\n",
       "  <thead>\n",
       "    <tr style=\"text-align: right;\">\n",
       "      <th></th>\n",
       "      <th>W</th>\n",
       "      <th>pval</th>\n",
       "      <th>normal</th>\n",
       "    </tr>\n",
       "    <tr>\n",
       "      <th>Unnamed: 1</th>\n",
       "      <th></th>\n",
       "      <th></th>\n",
       "      <th></th>\n",
       "    </tr>\n",
       "  </thead>\n",
       "  <tbody>\n",
       "    <tr>\n",
       "      <th>GLoHBCD</th>\n",
       "      <td>0.866804</td>\n",
       "      <td>0.091731</td>\n",
       "      <td>True</td>\n",
       "    </tr>\n",
       "    <tr>\n",
       "      <th>Instagram Data</th>\n",
       "      <td>0.865193</td>\n",
       "      <td>0.087831</td>\n",
       "      <td>True</td>\n",
       "    </tr>\n",
       "    <tr>\n",
       "      <th>Smoke Stop Forum</th>\n",
       "      <td>0.922762</td>\n",
       "      <td>0.380569</td>\n",
       "      <td>True</td>\n",
       "    </tr>\n",
       "    <tr>\n",
       "      <th>Synthetic GPT3 Data</th>\n",
       "      <td>0.861351</td>\n",
       "      <td>0.079158</td>\n",
       "      <td>True</td>\n",
       "    </tr>\n",
       "    <tr>\n",
       "      <th>Health Coach Dialogue Corpus</th>\n",
       "      <td>0.897356</td>\n",
       "      <td>0.204877</td>\n",
       "      <td>True</td>\n",
       "    </tr>\n",
       "    <tr>\n",
       "      <th>DARN-CT-based Wizard of Oz Dialogues</th>\n",
       "      <td>0.923477</td>\n",
       "      <td>0.386867</td>\n",
       "      <td>True</td>\n",
       "    </tr>\n",
       "    <tr>\n",
       "      <th>Optifast Mock-Chatbot</th>\n",
       "      <td>0.936946</td>\n",
       "      <td>0.519557</td>\n",
       "      <td>True</td>\n",
       "    </tr>\n",
       "  </tbody>\n",
       "</table>\n",
       "</div>"
      ],
      "text/plain": [
       "                                             W      pval  normal\n",
       "Unnamed: 1                                                      \n",
       "GLoHBCD                               0.866804  0.091731    True\n",
       "Instagram Data                        0.865193  0.087831    True\n",
       "Smoke Stop Forum                      0.922762  0.380569    True\n",
       "Synthetic GPT3 Data                   0.861351  0.079158    True\n",
       "Health Coach Dialogue Corpus          0.897356  0.204877    True\n",
       "DARN-CT-based Wizard of Oz Dialogues  0.923477  0.386867    True\n",
       "Optifast Mock-Chatbot                 0.936946  0.519557    True"
      ]
     },
     "execution_count": 38,
     "metadata": {},
     "output_type": "execute_result"
    }
   ],
   "source": [
    "pg.normality(data=set_comp_sublab, dv=\"f1\", group=\"Unnamed: 1\")"
   ]
  },
  {
   "cell_type": "code",
   "execution_count": 45,
   "id": "3971461f-3caa-4232-b03e-65f165ad3906",
   "metadata": {},
   "outputs": [
    {
     "data": {
      "text/html": [
       "<div>\n",
       "<style scoped>\n",
       "    .dataframe tbody tr th:only-of-type {\n",
       "        vertical-align: middle;\n",
       "    }\n",
       "\n",
       "    .dataframe tbody tr th {\n",
       "        vertical-align: top;\n",
       "    }\n",
       "\n",
       "    .dataframe thead th {\n",
       "        text-align: right;\n",
       "    }\n",
       "</style>\n",
       "<table border=\"1\" class=\"dataframe\">\n",
       "  <thead>\n",
       "    <tr style=\"text-align: right;\">\n",
       "      <th></th>\n",
       "      <th>W</th>\n",
       "      <th>pval</th>\n",
       "      <th>equal_var</th>\n",
       "    </tr>\n",
       "  </thead>\n",
       "  <tbody>\n",
       "    <tr>\n",
       "      <th>levene</th>\n",
       "      <td>6.546796</td>\n",
       "      <td>0.000021</td>\n",
       "      <td>False</td>\n",
       "    </tr>\n",
       "  </tbody>\n",
       "</table>\n",
       "</div>"
      ],
      "text/plain": [
       "               W      pval  equal_var\n",
       "levene  6.546796  0.000021      False"
      ]
     },
     "execution_count": 45,
     "metadata": {},
     "output_type": "execute_result"
    }
   ],
   "source": [
    "pg.homoscedasticity(data=set_comp_sublab, dv=\"f1\", group=\"Unnamed: 1\")"
   ]
  },
  {
   "cell_type": "markdown",
   "id": "9de0b3ed-e1a6-4588-9017-a4108ce4b80b",
   "metadata": {
    "jp-MarkdownHeadingCollapsed": true,
    "tags": []
   },
   "source": [
    "#### Friedman/Anova"
   ]
  },
  {
   "cell_type": "code",
   "execution_count": 57,
   "id": "b552ef1b-8d88-4f26-a2ea-38d1c48e2eaa",
   "metadata": {},
   "outputs": [
    {
     "data": {
      "text/html": [
       "<div>\n",
       "<style scoped>\n",
       "    .dataframe tbody tr th:only-of-type {\n",
       "        vertical-align: middle;\n",
       "    }\n",
       "\n",
       "    .dataframe tbody tr th {\n",
       "        vertical-align: top;\n",
       "    }\n",
       "\n",
       "    .dataframe thead th {\n",
       "        text-align: right;\n",
       "    }\n",
       "</style>\n",
       "<table border=\"1\" class=\"dataframe\">\n",
       "  <thead>\n",
       "    <tr style=\"text-align: right;\">\n",
       "      <th></th>\n",
       "      <th>Source</th>\n",
       "      <th>W</th>\n",
       "      <th>ddof1</th>\n",
       "      <th>Q</th>\n",
       "      <th>p-unc</th>\n",
       "    </tr>\n",
       "  </thead>\n",
       "  <tbody>\n",
       "    <tr>\n",
       "      <th>Friedman</th>\n",
       "      <td>Unnamed: 1</td>\n",
       "      <td>0.756571</td>\n",
       "      <td>5</td>\n",
       "      <td>37.828571</td>\n",
       "      <td>4.084558e-07</td>\n",
       "    </tr>\n",
       "  </tbody>\n",
       "</table>\n",
       "</div>"
      ],
      "text/plain": [
       "              Source         W  ddof1          Q         p-unc\n",
       "Friedman  Unnamed: 1  0.756571      5  37.828571  4.084558e-07"
      ]
     },
     "execution_count": 57,
     "metadata": {},
     "output_type": "execute_result"
    }
   ],
   "source": [
    "pg.friedman(data=set_comp_val, dv=\"f1\", within=\"Unnamed: 1\", subject=\"Unnamed: 0\")"
   ]
  },
  {
   "cell_type": "code",
   "execution_count": 61,
   "id": "fbc5a07b-cd60-4b6c-b46c-99096dc76e9b",
   "metadata": {},
   "outputs": [
    {
     "data": {
      "text/plain": [
       "'0.00000041'"
      ]
     },
     "execution_count": 61,
     "metadata": {},
     "output_type": "execute_result"
    }
   ],
   "source": [
    "\"{:.8f}\".format(float(\"4.084558e-07\"))"
   ]
  },
  {
   "cell_type": "code",
   "execution_count": 46,
   "id": "050129df-ecb4-40b3-8704-aaedb6bb2f5e",
   "metadata": {},
   "outputs": [
    {
     "data": {
      "text/html": [
       "<div>\n",
       "<style scoped>\n",
       "    .dataframe tbody tr th:only-of-type {\n",
       "        vertical-align: middle;\n",
       "    }\n",
       "\n",
       "    .dataframe tbody tr th {\n",
       "        vertical-align: top;\n",
       "    }\n",
       "\n",
       "    .dataframe thead th {\n",
       "        text-align: right;\n",
       "    }\n",
       "</style>\n",
       "<table border=\"1\" class=\"dataframe\">\n",
       "  <thead>\n",
       "    <tr style=\"text-align: right;\">\n",
       "      <th></th>\n",
       "      <th>Source</th>\n",
       "      <th>W</th>\n",
       "      <th>ddof1</th>\n",
       "      <th>Q</th>\n",
       "      <th>p-unc</th>\n",
       "    </tr>\n",
       "  </thead>\n",
       "  <tbody>\n",
       "    <tr>\n",
       "      <th>Friedman</th>\n",
       "      <td>Unnamed: 1</td>\n",
       "      <td>0.918571</td>\n",
       "      <td>6</td>\n",
       "      <td>55.114286</td>\n",
       "      <td>4.395585e-10</td>\n",
       "    </tr>\n",
       "  </tbody>\n",
       "</table>\n",
       "</div>"
      ],
      "text/plain": [
       "              Source         W  ddof1          Q         p-unc\n",
       "Friedman  Unnamed: 1  0.918571      6  55.114286  4.395585e-10"
      ]
     },
     "execution_count": 46,
     "metadata": {},
     "output_type": "execute_result"
    }
   ],
   "source": [
    "pg.friedman(data=set_comp_lab, dv=\"f1\", within=\"Unnamed: 1\", subject=\"Unnamed: 0\")"
   ]
  },
  {
   "cell_type": "code",
   "execution_count": 62,
   "id": "4004c062-fd3c-4300-8f50-0d793054ae3c",
   "metadata": {},
   "outputs": [
    {
     "data": {
      "text/plain": [
       "'0.00000000'"
      ]
     },
     "execution_count": 62,
     "metadata": {},
     "output_type": "execute_result"
    }
   ],
   "source": [
    "\"{:.8f}\".format(float(\"4.395585e-10\"))"
   ]
  },
  {
   "cell_type": "code",
   "execution_count": 47,
   "id": "33457c59-252b-479d-bd59-9816292997a7",
   "metadata": {},
   "outputs": [
    {
     "data": {
      "text/html": [
       "<div>\n",
       "<style scoped>\n",
       "    .dataframe tbody tr th:only-of-type {\n",
       "        vertical-align: middle;\n",
       "    }\n",
       "\n",
       "    .dataframe tbody tr th {\n",
       "        vertical-align: top;\n",
       "    }\n",
       "\n",
       "    .dataframe thead th {\n",
       "        text-align: right;\n",
       "    }\n",
       "</style>\n",
       "<table border=\"1\" class=\"dataframe\">\n",
       "  <thead>\n",
       "    <tr style=\"text-align: right;\">\n",
       "      <th></th>\n",
       "      <th>Source</th>\n",
       "      <th>W</th>\n",
       "      <th>ddof1</th>\n",
       "      <th>Q</th>\n",
       "      <th>p-unc</th>\n",
       "    </tr>\n",
       "  </thead>\n",
       "  <tbody>\n",
       "    <tr>\n",
       "      <th>Friedman</th>\n",
       "      <td>Unnamed: 1</td>\n",
       "      <td>0.831429</td>\n",
       "      <td>6</td>\n",
       "      <td>49.885714</td>\n",
       "      <td>4.955702e-09</td>\n",
       "    </tr>\n",
       "  </tbody>\n",
       "</table>\n",
       "</div>"
      ],
      "text/plain": [
       "              Source         W  ddof1          Q         p-unc\n",
       "Friedman  Unnamed: 1  0.831429      6  49.885714  4.955702e-09"
      ]
     },
     "execution_count": 47,
     "metadata": {},
     "output_type": "execute_result"
    }
   ],
   "source": [
    "pg.friedman(data=set_comp_sublab, dv=\"f1\", within=\"Unnamed: 1\", subject=\"Unnamed: 0\")"
   ]
  },
  {
   "cell_type": "code",
   "execution_count": 63,
   "id": "6832325a-d96e-48f8-ab70-f6a02e6947ba",
   "metadata": {},
   "outputs": [
    {
     "data": {
      "text/plain": [
       "'0.00000000'"
      ]
     },
     "execution_count": 63,
     "metadata": {},
     "output_type": "execute_result"
    }
   ],
   "source": [
    "\"{:.8f}\".format(float(\"4.955702e-09\"))"
   ]
  },
  {
   "cell_type": "markdown",
   "id": "bd836dc6-e5f3-4852-8062-515d8d5d4ef4",
   "metadata": {
    "jp-MarkdownHeadingCollapsed": true,
    "tags": []
   },
   "source": [
    "#### Post-Hoc"
   ]
  },
  {
   "cell_type": "code",
   "execution_count": 50,
   "id": "ec9d9f4e-dc59-4751-be4e-25e7ba1e9bba",
   "metadata": {},
   "outputs": [
    {
     "data": {
      "text/html": [
       "<div>\n",
       "<style scoped>\n",
       "    .dataframe tbody tr th:only-of-type {\n",
       "        vertical-align: middle;\n",
       "    }\n",
       "\n",
       "    .dataframe tbody tr th {\n",
       "        vertical-align: top;\n",
       "    }\n",
       "\n",
       "    .dataframe thead th {\n",
       "        text-align: right;\n",
       "    }\n",
       "</style>\n",
       "<table border=\"1\" class=\"dataframe\">\n",
       "  <thead>\n",
       "    <tr style=\"text-align: right;\">\n",
       "      <th></th>\n",
       "      <th>GLoHBCD</th>\n",
       "      <th>Smoke Stop Forum</th>\n",
       "      <th>Health Coach Dialogue Corpus</th>\n",
       "      <th>Synthetic GPT3 Data</th>\n",
       "      <th>DARN-CT-based Wizard of Oz Dialogues</th>\n",
       "      <th>Optifast Mock-Chatbot</th>\n",
       "    </tr>\n",
       "  </thead>\n",
       "  <tbody>\n",
       "    <tr>\n",
       "      <th>GLoHBCD</th>\n",
       "      <td>1.000000</td>\n",
       "      <td>0.029297</td>\n",
       "      <td>0.029297</td>\n",
       "      <td>0.029297</td>\n",
       "      <td>1.000000</td>\n",
       "      <td>1.000000</td>\n",
       "    </tr>\n",
       "    <tr>\n",
       "      <th>Smoke Stop Forum</th>\n",
       "      <td>0.029297</td>\n",
       "      <td>1.000000</td>\n",
       "      <td>1.000000</td>\n",
       "      <td>0.029297</td>\n",
       "      <td>1.000000</td>\n",
       "      <td>0.029297</td>\n",
       "    </tr>\n",
       "    <tr>\n",
       "      <th>Health Coach Dialogue Corpus</th>\n",
       "      <td>0.029297</td>\n",
       "      <td>1.000000</td>\n",
       "      <td>1.000000</td>\n",
       "      <td>0.029297</td>\n",
       "      <td>0.292969</td>\n",
       "      <td>0.029297</td>\n",
       "    </tr>\n",
       "    <tr>\n",
       "      <th>Synthetic GPT3 Data</th>\n",
       "      <td>0.029297</td>\n",
       "      <td>0.029297</td>\n",
       "      <td>0.029297</td>\n",
       "      <td>1.000000</td>\n",
       "      <td>0.058594</td>\n",
       "      <td>0.058594</td>\n",
       "    </tr>\n",
       "    <tr>\n",
       "      <th>DARN-CT-based Wizard of Oz Dialogues</th>\n",
       "      <td>1.000000</td>\n",
       "      <td>1.000000</td>\n",
       "      <td>0.292969</td>\n",
       "      <td>0.058594</td>\n",
       "      <td>1.000000</td>\n",
       "      <td>1.000000</td>\n",
       "    </tr>\n",
       "    <tr>\n",
       "      <th>Optifast Mock-Chatbot</th>\n",
       "      <td>1.000000</td>\n",
       "      <td>0.029297</td>\n",
       "      <td>0.029297</td>\n",
       "      <td>0.058594</td>\n",
       "      <td>1.000000</td>\n",
       "      <td>1.000000</td>\n",
       "    </tr>\n",
       "  </tbody>\n",
       "</table>\n",
       "</div>"
      ],
      "text/plain": [
       "                                       GLoHBCD  Smoke Stop Forum  \\\n",
       "GLoHBCD                               1.000000          0.029297   \n",
       "Smoke Stop Forum                      0.029297          1.000000   \n",
       "Health Coach Dialogue Corpus          0.029297          1.000000   \n",
       "Synthetic GPT3 Data                   0.029297          0.029297   \n",
       "DARN-CT-based Wizard of Oz Dialogues  1.000000          1.000000   \n",
       "Optifast Mock-Chatbot                 1.000000          0.029297   \n",
       "\n",
       "                                      Health Coach Dialogue Corpus  \\\n",
       "GLoHBCD                                                   0.029297   \n",
       "Smoke Stop Forum                                          1.000000   \n",
       "Health Coach Dialogue Corpus                              1.000000   \n",
       "Synthetic GPT3 Data                                       0.029297   \n",
       "DARN-CT-based Wizard of Oz Dialogues                      0.292969   \n",
       "Optifast Mock-Chatbot                                     0.029297   \n",
       "\n",
       "                                      Synthetic GPT3 Data  \\\n",
       "GLoHBCD                                          0.029297   \n",
       "Smoke Stop Forum                                 0.029297   \n",
       "Health Coach Dialogue Corpus                     0.029297   \n",
       "Synthetic GPT3 Data                              1.000000   \n",
       "DARN-CT-based Wizard of Oz Dialogues             0.058594   \n",
       "Optifast Mock-Chatbot                            0.058594   \n",
       "\n",
       "                                      DARN-CT-based Wizard of Oz Dialogues  \\\n",
       "GLoHBCD                                                           1.000000   \n",
       "Smoke Stop Forum                                                  1.000000   \n",
       "Health Coach Dialogue Corpus                                      0.292969   \n",
       "Synthetic GPT3 Data                                               0.058594   \n",
       "DARN-CT-based Wizard of Oz Dialogues                              1.000000   \n",
       "Optifast Mock-Chatbot                                             1.000000   \n",
       "\n",
       "                                      Optifast Mock-Chatbot  \n",
       "GLoHBCD                                            1.000000  \n",
       "Smoke Stop Forum                                   0.029297  \n",
       "Health Coach Dialogue Corpus                       0.029297  \n",
       "Synthetic GPT3 Data                                0.058594  \n",
       "DARN-CT-based Wizard of Oz Dialogues               1.000000  \n",
       "Optifast Mock-Chatbot                              1.000000  "
      ]
     },
     "execution_count": 50,
     "metadata": {},
     "output_type": "execute_result"
    }
   ],
   "source": [
    "sp.posthoc_wilcoxon(set_comp_val, val_col=\"f1\", group_col=\"Unnamed: 1\", p_adjust=\"bonferroni\")"
   ]
  },
  {
   "cell_type": "code",
   "execution_count": 49,
   "id": "f8a85ccb-0ee6-4fee-bcad-ee3b4c72bc4e",
   "metadata": {},
   "outputs": [
    {
     "data": {
      "text/html": [
       "<div>\n",
       "<style scoped>\n",
       "    .dataframe tbody tr th:only-of-type {\n",
       "        vertical-align: middle;\n",
       "    }\n",
       "\n",
       "    .dataframe tbody tr th {\n",
       "        vertical-align: top;\n",
       "    }\n",
       "\n",
       "    .dataframe thead th {\n",
       "        text-align: right;\n",
       "    }\n",
       "</style>\n",
       "<table border=\"1\" class=\"dataframe\">\n",
       "  <thead>\n",
       "    <tr style=\"text-align: right;\">\n",
       "      <th></th>\n",
       "      <th>GLoHBCD</th>\n",
       "      <th>Instagram Data</th>\n",
       "      <th>Smoke Stop Forum</th>\n",
       "      <th>Synthetic GPT3 Data</th>\n",
       "      <th>Health Coach Dialogue Corpus</th>\n",
       "      <th>DARN-CT-based Wizard of Oz Dialogues</th>\n",
       "      <th>Optifast Mock-Chatbot</th>\n",
       "    </tr>\n",
       "  </thead>\n",
       "  <tbody>\n",
       "    <tr>\n",
       "      <th>GLoHBCD</th>\n",
       "      <td>1.000</td>\n",
       "      <td>0.041</td>\n",
       "      <td>0.041</td>\n",
       "      <td>0.0410</td>\n",
       "      <td>0.0410</td>\n",
       "      <td>0.0410</td>\n",
       "      <td>0.0410</td>\n",
       "    </tr>\n",
       "    <tr>\n",
       "      <th>Instagram Data</th>\n",
       "      <td>0.041</td>\n",
       "      <td>1.000</td>\n",
       "      <td>0.041</td>\n",
       "      <td>0.0410</td>\n",
       "      <td>0.0410</td>\n",
       "      <td>0.0410</td>\n",
       "      <td>1.0000</td>\n",
       "    </tr>\n",
       "    <tr>\n",
       "      <th>Smoke Stop Forum</th>\n",
       "      <td>0.041</td>\n",
       "      <td>0.041</td>\n",
       "      <td>1.000</td>\n",
       "      <td>0.0410</td>\n",
       "      <td>0.0820</td>\n",
       "      <td>0.0410</td>\n",
       "      <td>1.0000</td>\n",
       "    </tr>\n",
       "    <tr>\n",
       "      <th>Synthetic GPT3 Data</th>\n",
       "      <td>0.041</td>\n",
       "      <td>0.041</td>\n",
       "      <td>0.041</td>\n",
       "      <td>1.0000</td>\n",
       "      <td>0.0410</td>\n",
       "      <td>0.2051</td>\n",
       "      <td>0.0410</td>\n",
       "    </tr>\n",
       "    <tr>\n",
       "      <th>Health Coach Dialogue Corpus</th>\n",
       "      <td>0.041</td>\n",
       "      <td>0.041</td>\n",
       "      <td>0.082</td>\n",
       "      <td>0.0410</td>\n",
       "      <td>1.0000</td>\n",
       "      <td>0.0410</td>\n",
       "      <td>0.2051</td>\n",
       "    </tr>\n",
       "    <tr>\n",
       "      <th>DARN-CT-based Wizard of Oz Dialogues</th>\n",
       "      <td>0.041</td>\n",
       "      <td>0.041</td>\n",
       "      <td>0.041</td>\n",
       "      <td>0.2051</td>\n",
       "      <td>0.0410</td>\n",
       "      <td>1.0000</td>\n",
       "      <td>0.0410</td>\n",
       "    </tr>\n",
       "    <tr>\n",
       "      <th>Optifast Mock-Chatbot</th>\n",
       "      <td>0.041</td>\n",
       "      <td>1.000</td>\n",
       "      <td>1.000</td>\n",
       "      <td>0.0410</td>\n",
       "      <td>0.2051</td>\n",
       "      <td>0.0410</td>\n",
       "      <td>1.0000</td>\n",
       "    </tr>\n",
       "  </tbody>\n",
       "</table>\n",
       "</div>"
      ],
      "text/plain": [
       "                                      GLoHBCD  Instagram Data  \\\n",
       "GLoHBCD                                 1.000           0.041   \n",
       "Instagram Data                          0.041           1.000   \n",
       "Smoke Stop Forum                        0.041           0.041   \n",
       "Synthetic GPT3 Data                     0.041           0.041   \n",
       "Health Coach Dialogue Corpus            0.041           0.041   \n",
       "DARN-CT-based Wizard of Oz Dialogues    0.041           0.041   \n",
       "Optifast Mock-Chatbot                   0.041           1.000   \n",
       "\n",
       "                                      Smoke Stop Forum  Synthetic GPT3 Data  \\\n",
       "GLoHBCD                                          0.041               0.0410   \n",
       "Instagram Data                                   0.041               0.0410   \n",
       "Smoke Stop Forum                                 1.000               0.0410   \n",
       "Synthetic GPT3 Data                              0.041               1.0000   \n",
       "Health Coach Dialogue Corpus                     0.082               0.0410   \n",
       "DARN-CT-based Wizard of Oz Dialogues             0.041               0.2051   \n",
       "Optifast Mock-Chatbot                            1.000               0.0410   \n",
       "\n",
       "                                      Health Coach Dialogue Corpus  \\\n",
       "GLoHBCD                                                     0.0410   \n",
       "Instagram Data                                              0.0410   \n",
       "Smoke Stop Forum                                            0.0820   \n",
       "Synthetic GPT3 Data                                         0.0410   \n",
       "Health Coach Dialogue Corpus                                1.0000   \n",
       "DARN-CT-based Wizard of Oz Dialogues                        0.0410   \n",
       "Optifast Mock-Chatbot                                       0.2051   \n",
       "\n",
       "                                      DARN-CT-based Wizard of Oz Dialogues  \\\n",
       "GLoHBCD                                                             0.0410   \n",
       "Instagram Data                                                      0.0410   \n",
       "Smoke Stop Forum                                                    0.0410   \n",
       "Synthetic GPT3 Data                                                 0.2051   \n",
       "Health Coach Dialogue Corpus                                        0.0410   \n",
       "DARN-CT-based Wizard of Oz Dialogues                                1.0000   \n",
       "Optifast Mock-Chatbot                                               0.0410   \n",
       "\n",
       "                                      Optifast Mock-Chatbot  \n",
       "GLoHBCD                                              0.0410  \n",
       "Instagram Data                                       1.0000  \n",
       "Smoke Stop Forum                                     1.0000  \n",
       "Synthetic GPT3 Data                                  0.0410  \n",
       "Health Coach Dialogue Corpus                         0.2051  \n",
       "DARN-CT-based Wizard of Oz Dialogues                 0.0410  \n",
       "Optifast Mock-Chatbot                                1.0000  "
      ]
     },
     "execution_count": 49,
     "metadata": {},
     "output_type": "execute_result"
    }
   ],
   "source": [
    "sp.posthoc_wilcoxon(set_comp_lab, val_col=\"f1\", group_col=\"Unnamed: 1\", p_adjust=\"bonferroni\").round(4)"
   ]
  },
  {
   "cell_type": "code",
   "execution_count": 51,
   "id": "431eb532-8cc3-4747-ad68-cf551afdd8ff",
   "metadata": {},
   "outputs": [
    {
     "data": {
      "text/html": [
       "<div>\n",
       "<style scoped>\n",
       "    .dataframe tbody tr th:only-of-type {\n",
       "        vertical-align: middle;\n",
       "    }\n",
       "\n",
       "    .dataframe tbody tr th {\n",
       "        vertical-align: top;\n",
       "    }\n",
       "\n",
       "    .dataframe thead th {\n",
       "        text-align: right;\n",
       "    }\n",
       "</style>\n",
       "<table border=\"1\" class=\"dataframe\">\n",
       "  <thead>\n",
       "    <tr style=\"text-align: right;\">\n",
       "      <th></th>\n",
       "      <th>GLoHBCD</th>\n",
       "      <th>Instagram Data</th>\n",
       "      <th>Smoke Stop Forum</th>\n",
       "      <th>Synthetic GPT3 Data</th>\n",
       "      <th>Health Coach Dialogue Corpus</th>\n",
       "      <th>DARN-CT-based Wizard of Oz Dialogues</th>\n",
       "      <th>Optifast Mock-Chatbot</th>\n",
       "    </tr>\n",
       "  </thead>\n",
       "  <tbody>\n",
       "    <tr>\n",
       "      <th>GLoHBCD</th>\n",
       "      <td>1.000</td>\n",
       "      <td>0.041</td>\n",
       "      <td>0.041</td>\n",
       "      <td>0.0820</td>\n",
       "      <td>0.0410</td>\n",
       "      <td>1.000</td>\n",
       "      <td>0.041</td>\n",
       "    </tr>\n",
       "    <tr>\n",
       "      <th>Instagram Data</th>\n",
       "      <td>0.041</td>\n",
       "      <td>1.000</td>\n",
       "      <td>0.041</td>\n",
       "      <td>0.0410</td>\n",
       "      <td>0.0410</td>\n",
       "      <td>0.041</td>\n",
       "      <td>0.041</td>\n",
       "    </tr>\n",
       "    <tr>\n",
       "      <th>Smoke Stop Forum</th>\n",
       "      <td>0.041</td>\n",
       "      <td>0.041</td>\n",
       "      <td>1.000</td>\n",
       "      <td>0.0820</td>\n",
       "      <td>0.0410</td>\n",
       "      <td>1.000</td>\n",
       "      <td>0.041</td>\n",
       "    </tr>\n",
       "    <tr>\n",
       "      <th>Synthetic GPT3 Data</th>\n",
       "      <td>0.082</td>\n",
       "      <td>0.041</td>\n",
       "      <td>0.082</td>\n",
       "      <td>1.0000</td>\n",
       "      <td>0.2871</td>\n",
       "      <td>1.000</td>\n",
       "      <td>0.041</td>\n",
       "    </tr>\n",
       "    <tr>\n",
       "      <th>Health Coach Dialogue Corpus</th>\n",
       "      <td>0.041</td>\n",
       "      <td>0.041</td>\n",
       "      <td>0.041</td>\n",
       "      <td>0.2871</td>\n",
       "      <td>1.0000</td>\n",
       "      <td>1.000</td>\n",
       "      <td>0.041</td>\n",
       "    </tr>\n",
       "    <tr>\n",
       "      <th>DARN-CT-based Wizard of Oz Dialogues</th>\n",
       "      <td>1.000</td>\n",
       "      <td>0.041</td>\n",
       "      <td>1.000</td>\n",
       "      <td>1.0000</td>\n",
       "      <td>1.0000</td>\n",
       "      <td>1.000</td>\n",
       "      <td>0.041</td>\n",
       "    </tr>\n",
       "    <tr>\n",
       "      <th>Optifast Mock-Chatbot</th>\n",
       "      <td>0.041</td>\n",
       "      <td>0.041</td>\n",
       "      <td>0.041</td>\n",
       "      <td>0.0410</td>\n",
       "      <td>0.0410</td>\n",
       "      <td>0.041</td>\n",
       "      <td>1.000</td>\n",
       "    </tr>\n",
       "  </tbody>\n",
       "</table>\n",
       "</div>"
      ],
      "text/plain": [
       "                                      GLoHBCD  Instagram Data  \\\n",
       "GLoHBCD                                 1.000           0.041   \n",
       "Instagram Data                          0.041           1.000   \n",
       "Smoke Stop Forum                        0.041           0.041   \n",
       "Synthetic GPT3 Data                     0.082           0.041   \n",
       "Health Coach Dialogue Corpus            0.041           0.041   \n",
       "DARN-CT-based Wizard of Oz Dialogues    1.000           0.041   \n",
       "Optifast Mock-Chatbot                   0.041           0.041   \n",
       "\n",
       "                                      Smoke Stop Forum  Synthetic GPT3 Data  \\\n",
       "GLoHBCD                                          0.041               0.0820   \n",
       "Instagram Data                                   0.041               0.0410   \n",
       "Smoke Stop Forum                                 1.000               0.0820   \n",
       "Synthetic GPT3 Data                              0.082               1.0000   \n",
       "Health Coach Dialogue Corpus                     0.041               0.2871   \n",
       "DARN-CT-based Wizard of Oz Dialogues             1.000               1.0000   \n",
       "Optifast Mock-Chatbot                            0.041               0.0410   \n",
       "\n",
       "                                      Health Coach Dialogue Corpus  \\\n",
       "GLoHBCD                                                     0.0410   \n",
       "Instagram Data                                              0.0410   \n",
       "Smoke Stop Forum                                            0.0410   \n",
       "Synthetic GPT3 Data                                         0.2871   \n",
       "Health Coach Dialogue Corpus                                1.0000   \n",
       "DARN-CT-based Wizard of Oz Dialogues                        1.0000   \n",
       "Optifast Mock-Chatbot                                       0.0410   \n",
       "\n",
       "                                      DARN-CT-based Wizard of Oz Dialogues  \\\n",
       "GLoHBCD                                                              1.000   \n",
       "Instagram Data                                                       0.041   \n",
       "Smoke Stop Forum                                                     1.000   \n",
       "Synthetic GPT3 Data                                                  1.000   \n",
       "Health Coach Dialogue Corpus                                         1.000   \n",
       "DARN-CT-based Wizard of Oz Dialogues                                 1.000   \n",
       "Optifast Mock-Chatbot                                                0.041   \n",
       "\n",
       "                                      Optifast Mock-Chatbot  \n",
       "GLoHBCD                                               0.041  \n",
       "Instagram Data                                        0.041  \n",
       "Smoke Stop Forum                                      0.041  \n",
       "Synthetic GPT3 Data                                   0.041  \n",
       "Health Coach Dialogue Corpus                          0.041  \n",
       "DARN-CT-based Wizard of Oz Dialogues                  0.041  \n",
       "Optifast Mock-Chatbot                                 1.000  "
      ]
     },
     "execution_count": 51,
     "metadata": {},
     "output_type": "execute_result"
    }
   ],
   "source": [
    "sp.posthoc_wilcoxon(set_comp_sublab, val_col=\"f1\", group_col=\"Unnamed: 1\", p_adjust=\"bonferroni\").round(4)"
   ]
  },
  {
   "cell_type": "markdown",
   "id": "e93eccc3-45d3-44eb-a82b-9aaa8a5afaaa",
   "metadata": {
    "jp-MarkdownHeadingCollapsed": true,
    "tags": []
   },
   "source": [
    "### Significance Tests for differences in Classification Performance when using different lexical features for training & classification\n",
    "\n"
   ]
  },
  {
   "cell_type": "markdown",
   "id": "e1f388a3-f76d-4355-bd6c-f3f91a2c9165",
   "metadata": {
    "jp-MarkdownHeadingCollapsed": true,
    "tags": []
   },
   "source": [
    "#### Normality/Equality of Variance"
   ]
  },
  {
   "cell_type": "code",
   "execution_count": 31,
   "id": "301faff2-241e-4473-87b4-d4318d7d9e91",
   "metadata": {},
   "outputs": [
    {
     "data": {
      "text/html": [
       "<div>\n",
       "<style scoped>\n",
       "    .dataframe tbody tr th:only-of-type {\n",
       "        vertical-align: middle;\n",
       "    }\n",
       "\n",
       "    .dataframe tbody tr th {\n",
       "        vertical-align: top;\n",
       "    }\n",
       "\n",
       "    .dataframe thead th {\n",
       "        text-align: right;\n",
       "    }\n",
       "</style>\n",
       "<table border=\"1\" class=\"dataframe\">\n",
       "  <thead>\n",
       "    <tr style=\"text-align: right;\">\n",
       "      <th></th>\n",
       "      <th>W</th>\n",
       "      <th>pval</th>\n",
       "      <th>normal</th>\n",
       "    </tr>\n",
       "    <tr>\n",
       "      <th>classif</th>\n",
       "      <th></th>\n",
       "      <th></th>\n",
       "      <th></th>\n",
       "    </tr>\n",
       "  </thead>\n",
       "  <tbody>\n",
       "    <tr>\n",
       "      <th>NNAV</th>\n",
       "      <td>0.876256</td>\n",
       "      <td>0.000020</td>\n",
       "      <td>False</td>\n",
       "    </tr>\n",
       "    <tr>\n",
       "      <th>NNA</th>\n",
       "      <td>0.919008</td>\n",
       "      <td>0.000700</td>\n",
       "      <td>False</td>\n",
       "    </tr>\n",
       "    <tr>\n",
       "      <th>All Features</th>\n",
       "      <td>0.938544</td>\n",
       "      <td>0.004664</td>\n",
       "      <td>False</td>\n",
       "    </tr>\n",
       "    <tr>\n",
       "      <th>NVA</th>\n",
       "      <td>0.940009</td>\n",
       "      <td>0.005420</td>\n",
       "      <td>False</td>\n",
       "    </tr>\n",
       "    <tr>\n",
       "      <th>NN</th>\n",
       "      <td>0.953470</td>\n",
       "      <td>0.022744</td>\n",
       "      <td>False</td>\n",
       "    </tr>\n",
       "    <tr>\n",
       "      <th>NFW</th>\n",
       "      <td>0.950282</td>\n",
       "      <td>0.016059</td>\n",
       "      <td>False</td>\n",
       "    </tr>\n",
       "  </tbody>\n",
       "</table>\n",
       "</div>"
      ],
      "text/plain": [
       "                     W      pval  normal\n",
       "classif                                 \n",
       "NNAV          0.876256  0.000020   False\n",
       "NNA           0.919008  0.000700   False\n",
       "All Features  0.938544  0.004664   False\n",
       "NVA           0.940009  0.005420   False\n",
       "NN            0.953470  0.022744   False\n",
       "NFW           0.950282  0.016059   False"
      ]
     },
     "execution_count": 31,
     "metadata": {},
     "output_type": "execute_result"
    }
   ],
   "source": [
    "pg.normality(data=val_feats, dv=\"f1\", group=\"classif\")"
   ]
  },
  {
   "cell_type": "code",
   "execution_count": 32,
   "id": "5e35e87d-abb9-494f-9b12-0d18b3b97140",
   "metadata": {},
   "outputs": [
    {
     "data": {
      "text/html": [
       "<div>\n",
       "<style scoped>\n",
       "    .dataframe tbody tr th:only-of-type {\n",
       "        vertical-align: middle;\n",
       "    }\n",
       "\n",
       "    .dataframe tbody tr th {\n",
       "        vertical-align: top;\n",
       "    }\n",
       "\n",
       "    .dataframe thead th {\n",
       "        text-align: right;\n",
       "    }\n",
       "</style>\n",
       "<table border=\"1\" class=\"dataframe\">\n",
       "  <thead>\n",
       "    <tr style=\"text-align: right;\">\n",
       "      <th></th>\n",
       "      <th>W</th>\n",
       "      <th>pval</th>\n",
       "      <th>normal</th>\n",
       "    </tr>\n",
       "    <tr>\n",
       "      <th>classif</th>\n",
       "      <th></th>\n",
       "      <th></th>\n",
       "      <th></th>\n",
       "    </tr>\n",
       "  </thead>\n",
       "  <tbody>\n",
       "    <tr>\n",
       "      <th>All Features</th>\n",
       "      <td>0.968492</td>\n",
       "      <td>0.074874</td>\n",
       "      <td>True</td>\n",
       "    </tr>\n",
       "    <tr>\n",
       "      <th>NNA</th>\n",
       "      <td>0.967852</td>\n",
       "      <td>0.068891</td>\n",
       "      <td>True</td>\n",
       "    </tr>\n",
       "    <tr>\n",
       "      <th>NN</th>\n",
       "      <td>0.986665</td>\n",
       "      <td>0.666175</td>\n",
       "      <td>True</td>\n",
       "    </tr>\n",
       "    <tr>\n",
       "      <th>NFW</th>\n",
       "      <td>0.964829</td>\n",
       "      <td>0.046524</td>\n",
       "      <td>False</td>\n",
       "    </tr>\n",
       "    <tr>\n",
       "      <th>NNAV</th>\n",
       "      <td>0.957255</td>\n",
       "      <td>0.017703</td>\n",
       "      <td>False</td>\n",
       "    </tr>\n",
       "    <tr>\n",
       "      <th>NVA</th>\n",
       "      <td>0.979433</td>\n",
       "      <td>0.304032</td>\n",
       "      <td>True</td>\n",
       "    </tr>\n",
       "  </tbody>\n",
       "</table>\n",
       "</div>"
      ],
      "text/plain": [
       "                     W      pval  normal\n",
       "classif                                 \n",
       "All Features  0.968492  0.074874    True\n",
       "NNA           0.967852  0.068891    True\n",
       "NN            0.986665  0.666175    True\n",
       "NFW           0.964829  0.046524   False\n",
       "NNAV          0.957255  0.017703   False\n",
       "NVA           0.979433  0.304032    True"
      ]
     },
     "execution_count": 32,
     "metadata": {},
     "output_type": "execute_result"
    }
   ],
   "source": [
    "pg.normality(data=label_feats, dv=\"f1\", group=\"classif\")"
   ]
  },
  {
   "cell_type": "code",
   "execution_count": 33,
   "id": "6fef79bf-8a5a-420d-8396-f31c1b58be63",
   "metadata": {},
   "outputs": [
    {
     "data": {
      "text/html": [
       "<div>\n",
       "<style scoped>\n",
       "    .dataframe tbody tr th:only-of-type {\n",
       "        vertical-align: middle;\n",
       "    }\n",
       "\n",
       "    .dataframe tbody tr th {\n",
       "        vertical-align: top;\n",
       "    }\n",
       "\n",
       "    .dataframe thead th {\n",
       "        text-align: right;\n",
       "    }\n",
       "</style>\n",
       "<table border=\"1\" class=\"dataframe\">\n",
       "  <thead>\n",
       "    <tr style=\"text-align: right;\">\n",
       "      <th></th>\n",
       "      <th>W</th>\n",
       "      <th>pval</th>\n",
       "      <th>normal</th>\n",
       "    </tr>\n",
       "    <tr>\n",
       "      <th>classif</th>\n",
       "      <th></th>\n",
       "      <th></th>\n",
       "      <th></th>\n",
       "    </tr>\n",
       "  </thead>\n",
       "  <tbody>\n",
       "    <tr>\n",
       "      <th>All Features</th>\n",
       "      <td>0.900177</td>\n",
       "      <td>0.000039</td>\n",
       "      <td>False</td>\n",
       "    </tr>\n",
       "    <tr>\n",
       "      <th>NFW</th>\n",
       "      <td>0.959425</td>\n",
       "      <td>0.023274</td>\n",
       "      <td>False</td>\n",
       "    </tr>\n",
       "    <tr>\n",
       "      <th>NN</th>\n",
       "      <td>0.925858</td>\n",
       "      <td>0.000481</td>\n",
       "      <td>False</td>\n",
       "    </tr>\n",
       "    <tr>\n",
       "      <th>NNA</th>\n",
       "      <td>0.920160</td>\n",
       "      <td>0.000268</td>\n",
       "      <td>False</td>\n",
       "    </tr>\n",
       "    <tr>\n",
       "      <th>NNAV</th>\n",
       "      <td>0.962782</td>\n",
       "      <td>0.035728</td>\n",
       "      <td>False</td>\n",
       "    </tr>\n",
       "    <tr>\n",
       "      <th>NVA</th>\n",
       "      <td>0.972745</td>\n",
       "      <td>0.130275</td>\n",
       "      <td>True</td>\n",
       "    </tr>\n",
       "  </tbody>\n",
       "</table>\n",
       "</div>"
      ],
      "text/plain": [
       "                     W      pval  normal\n",
       "classif                                 \n",
       "All Features  0.900177  0.000039   False\n",
       "NFW           0.959425  0.023274   False\n",
       "NN            0.925858  0.000481   False\n",
       "NNA           0.920160  0.000268   False\n",
       "NNAV          0.962782  0.035728   False\n",
       "NVA           0.972745  0.130275    True"
      ]
     },
     "execution_count": 33,
     "metadata": {},
     "output_type": "execute_result"
    }
   ],
   "source": [
    "pg.normality(data=sublabel_feats, dv=\"f1\", group=\"classif\")"
   ]
  },
  {
   "cell_type": "markdown",
   "id": "bb2ef1aa-642e-4458-9c04-628da1d61372",
   "metadata": {
    "tags": []
   },
   "source": [
    "#### Friedman Test"
   ]
  },
  {
   "cell_type": "code",
   "execution_count": 73,
   "id": "906e0d09-2c6b-48cb-a267-be1221c9c196",
   "metadata": {},
   "outputs": [
    {
     "data": {
      "text/html": [
       "<div>\n",
       "<style scoped>\n",
       "    .dataframe tbody tr th:only-of-type {\n",
       "        vertical-align: middle;\n",
       "    }\n",
       "\n",
       "    .dataframe tbody tr th {\n",
       "        vertical-align: top;\n",
       "    }\n",
       "\n",
       "    .dataframe thead th {\n",
       "        text-align: right;\n",
       "    }\n",
       "</style>\n",
       "<table border=\"1\" class=\"dataframe\">\n",
       "  <thead>\n",
       "    <tr style=\"text-align: right;\">\n",
       "      <th></th>\n",
       "      <th>Source</th>\n",
       "      <th>W</th>\n",
       "      <th>ddof1</th>\n",
       "      <th>Q</th>\n",
       "      <th>p-unc</th>\n",
       "    </tr>\n",
       "  </thead>\n",
       "  <tbody>\n",
       "    <tr>\n",
       "      <th>Friedman</th>\n",
       "      <td>classif</td>\n",
       "      <td>0.570286</td>\n",
       "      <td>5</td>\n",
       "      <td>28.514286</td>\n",
       "      <td>0.000029</td>\n",
       "    </tr>\n",
       "  </tbody>\n",
       "</table>\n",
       "</div>"
      ],
      "text/plain": [
       "           Source         W  ddof1          Q     p-unc\n",
       "Friedman  classif  0.570286      5  28.514286  0.000029"
      ]
     },
     "execution_count": 73,
     "metadata": {},
     "output_type": "execute_result"
    }
   ],
   "source": [
    "pg.friedman(data=val_feats, dv=\"f1\", within=\"classif\", subject=\"Unnamed: 0\")"
   ]
  },
  {
   "cell_type": "code",
   "execution_count": 74,
   "id": "1c756b02-343e-4b9d-915c-96da56a371d7",
   "metadata": {},
   "outputs": [
    {
     "data": {
      "text/html": [
       "<div>\n",
       "<style scoped>\n",
       "    .dataframe tbody tr th:only-of-type {\n",
       "        vertical-align: middle;\n",
       "    }\n",
       "\n",
       "    .dataframe tbody tr th {\n",
       "        vertical-align: top;\n",
       "    }\n",
       "\n",
       "    .dataframe thead th {\n",
       "        text-align: right;\n",
       "    }\n",
       "</style>\n",
       "<table border=\"1\" class=\"dataframe\">\n",
       "  <thead>\n",
       "    <tr style=\"text-align: right;\">\n",
       "      <th></th>\n",
       "      <th>Source</th>\n",
       "      <th>W</th>\n",
       "      <th>ddof1</th>\n",
       "      <th>Q</th>\n",
       "      <th>p-unc</th>\n",
       "    </tr>\n",
       "  </thead>\n",
       "  <tbody>\n",
       "    <tr>\n",
       "      <th>Friedman</th>\n",
       "      <td>classif</td>\n",
       "      <td>0.976</td>\n",
       "      <td>5</td>\n",
       "      <td>48.8</td>\n",
       "      <td>2.438250e-09</td>\n",
       "    </tr>\n",
       "  </tbody>\n",
       "</table>\n",
       "</div>"
      ],
      "text/plain": [
       "           Source      W  ddof1     Q         p-unc\n",
       "Friedman  classif  0.976      5  48.8  2.438250e-09"
      ]
     },
     "execution_count": 74,
     "metadata": {},
     "output_type": "execute_result"
    }
   ],
   "source": [
    "pg.friedman(data=label_feats, dv=\"f1\", within=\"classif\", subject=\"Unnamed: 0\")"
   ]
  },
  {
   "cell_type": "code",
   "execution_count": 75,
   "id": "9a0ed07c-3256-4b4c-87fe-1c854bfe5010",
   "metadata": {},
   "outputs": [
    {
     "data": {
      "text/html": [
       "<div>\n",
       "<style scoped>\n",
       "    .dataframe tbody tr th:only-of-type {\n",
       "        vertical-align: middle;\n",
       "    }\n",
       "\n",
       "    .dataframe tbody tr th {\n",
       "        vertical-align: top;\n",
       "    }\n",
       "\n",
       "    .dataframe thead th {\n",
       "        text-align: right;\n",
       "    }\n",
       "</style>\n",
       "<table border=\"1\" class=\"dataframe\">\n",
       "  <thead>\n",
       "    <tr style=\"text-align: right;\">\n",
       "      <th></th>\n",
       "      <th>Source</th>\n",
       "      <th>W</th>\n",
       "      <th>ddof1</th>\n",
       "      <th>Q</th>\n",
       "      <th>p-unc</th>\n",
       "    </tr>\n",
       "  </thead>\n",
       "  <tbody>\n",
       "    <tr>\n",
       "      <th>Friedman</th>\n",
       "      <td>classif</td>\n",
       "      <td>0.965714</td>\n",
       "      <td>5</td>\n",
       "      <td>48.285714</td>\n",
       "      <td>3.105492e-09</td>\n",
       "    </tr>\n",
       "  </tbody>\n",
       "</table>\n",
       "</div>"
      ],
      "text/plain": [
       "           Source         W  ddof1          Q         p-unc\n",
       "Friedman  classif  0.965714      5  48.285714  3.105492e-09"
      ]
     },
     "execution_count": 75,
     "metadata": {},
     "output_type": "execute_result"
    }
   ],
   "source": [
    "pg.friedman(data=sublabel_feats, dv=\"f1\", within=\"classif\", subject=\"Unnamed: 0\")"
   ]
  },
  {
   "cell_type": "markdown",
   "id": "90624434-1ebc-4fc4-acbf-58945955e98c",
   "metadata": {
    "tags": []
   },
   "source": [
    "#### Post-hoc"
   ]
  },
  {
   "cell_type": "code",
   "execution_count": 78,
   "id": "85736077-8344-45d7-be02-757f31dd1bc2",
   "metadata": {},
   "outputs": [
    {
     "data": {
      "text/html": [
       "<div>\n",
       "<style scoped>\n",
       "    .dataframe tbody tr th:only-of-type {\n",
       "        vertical-align: middle;\n",
       "    }\n",
       "\n",
       "    .dataframe tbody tr th {\n",
       "        vertical-align: top;\n",
       "    }\n",
       "\n",
       "    .dataframe thead th {\n",
       "        text-align: right;\n",
       "    }\n",
       "</style>\n",
       "<table border=\"1\" class=\"dataframe\">\n",
       "  <thead>\n",
       "    <tr style=\"text-align: right;\">\n",
       "      <th></th>\n",
       "      <th>NNAV</th>\n",
       "      <th>NNA</th>\n",
       "      <th>All Features</th>\n",
       "      <th>NVA</th>\n",
       "      <th>NN</th>\n",
       "      <th>NFW</th>\n",
       "    </tr>\n",
       "  </thead>\n",
       "  <tbody>\n",
       "    <tr>\n",
       "      <th>NNAV</th>\n",
       "      <td>1.0000</td>\n",
       "      <td>0.0006</td>\n",
       "      <td>0.0</td>\n",
       "      <td>0.0046</td>\n",
       "      <td>0.0451</td>\n",
       "      <td>0.1465</td>\n",
       "    </tr>\n",
       "    <tr>\n",
       "      <th>NNA</th>\n",
       "      <td>0.0006</td>\n",
       "      <td>1.0000</td>\n",
       "      <td>0.0</td>\n",
       "      <td>0.0001</td>\n",
       "      <td>0.0000</td>\n",
       "      <td>1.0000</td>\n",
       "    </tr>\n",
       "    <tr>\n",
       "      <th>All Features</th>\n",
       "      <td>0.0000</td>\n",
       "      <td>0.0000</td>\n",
       "      <td>1.0</td>\n",
       "      <td>0.0000</td>\n",
       "      <td>0.0000</td>\n",
       "      <td>0.0000</td>\n",
       "    </tr>\n",
       "    <tr>\n",
       "      <th>NVA</th>\n",
       "      <td>0.0046</td>\n",
       "      <td>0.0001</td>\n",
       "      <td>0.0</td>\n",
       "      <td>1.0000</td>\n",
       "      <td>1.0000</td>\n",
       "      <td>0.1286</td>\n",
       "    </tr>\n",
       "    <tr>\n",
       "      <th>NN</th>\n",
       "      <td>0.0451</td>\n",
       "      <td>0.0000</td>\n",
       "      <td>0.0</td>\n",
       "      <td>1.0000</td>\n",
       "      <td>1.0000</td>\n",
       "      <td>0.0251</td>\n",
       "    </tr>\n",
       "    <tr>\n",
       "      <th>NFW</th>\n",
       "      <td>0.1465</td>\n",
       "      <td>1.0000</td>\n",
       "      <td>0.0</td>\n",
       "      <td>0.1286</td>\n",
       "      <td>0.0251</td>\n",
       "      <td>1.0000</td>\n",
       "    </tr>\n",
       "  </tbody>\n",
       "</table>\n",
       "</div>"
      ],
      "text/plain": [
       "                NNAV     NNA  All Features     NVA      NN     NFW\n",
       "NNAV          1.0000  0.0006           0.0  0.0046  0.0451  0.1465\n",
       "NNA           0.0006  1.0000           0.0  0.0001  0.0000  1.0000\n",
       "All Features  0.0000  0.0000           1.0  0.0000  0.0000  0.0000\n",
       "NVA           0.0046  0.0001           0.0  1.0000  1.0000  0.1286\n",
       "NN            0.0451  0.0000           0.0  1.0000  1.0000  0.0251\n",
       "NFW           0.1465  1.0000           0.0  0.1286  0.0251  1.0000"
      ]
     },
     "execution_count": 78,
     "metadata": {},
     "output_type": "execute_result"
    }
   ],
   "source": [
    "sp.posthoc_wilcoxon(val_feats, val_col=\"f1\", group_col=\"classif\", p_adjust=\"bonferroni\").round(4)"
   ]
  },
  {
   "cell_type": "code",
   "execution_count": 79,
   "id": "8c213a88-5194-41f8-941d-3ba80e3e96d6",
   "metadata": {},
   "outputs": [
    {
     "data": {
      "text/html": [
       "<div>\n",
       "<style scoped>\n",
       "    .dataframe tbody tr th:only-of-type {\n",
       "        vertical-align: middle;\n",
       "    }\n",
       "\n",
       "    .dataframe tbody tr th {\n",
       "        vertical-align: top;\n",
       "    }\n",
       "\n",
       "    .dataframe thead th {\n",
       "        text-align: right;\n",
       "    }\n",
       "</style>\n",
       "<table border=\"1\" class=\"dataframe\">\n",
       "  <thead>\n",
       "    <tr style=\"text-align: right;\">\n",
       "      <th></th>\n",
       "      <th>All Features</th>\n",
       "      <th>NNA</th>\n",
       "      <th>NN</th>\n",
       "      <th>NFW</th>\n",
       "      <th>NNAV</th>\n",
       "      <th>NVA</th>\n",
       "    </tr>\n",
       "  </thead>\n",
       "  <tbody>\n",
       "    <tr>\n",
       "      <th>All Features</th>\n",
       "      <td>1.0</td>\n",
       "      <td>0.0000</td>\n",
       "      <td>0.0000</td>\n",
       "      <td>0.0000</td>\n",
       "      <td>0.0</td>\n",
       "      <td>0.0</td>\n",
       "    </tr>\n",
       "    <tr>\n",
       "      <th>NNA</th>\n",
       "      <td>0.0</td>\n",
       "      <td>1.0000</td>\n",
       "      <td>0.8406</td>\n",
       "      <td>0.0001</td>\n",
       "      <td>0.0</td>\n",
       "      <td>0.0</td>\n",
       "    </tr>\n",
       "    <tr>\n",
       "      <th>NN</th>\n",
       "      <td>0.0</td>\n",
       "      <td>0.8406</td>\n",
       "      <td>1.0000</td>\n",
       "      <td>0.0000</td>\n",
       "      <td>0.0</td>\n",
       "      <td>0.0</td>\n",
       "    </tr>\n",
       "    <tr>\n",
       "      <th>NFW</th>\n",
       "      <td>0.0</td>\n",
       "      <td>0.0001</td>\n",
       "      <td>0.0000</td>\n",
       "      <td>1.0000</td>\n",
       "      <td>0.0</td>\n",
       "      <td>0.0</td>\n",
       "    </tr>\n",
       "    <tr>\n",
       "      <th>NNAV</th>\n",
       "      <td>0.0</td>\n",
       "      <td>0.0000</td>\n",
       "      <td>0.0000</td>\n",
       "      <td>0.0000</td>\n",
       "      <td>1.0</td>\n",
       "      <td>0.0</td>\n",
       "    </tr>\n",
       "    <tr>\n",
       "      <th>NVA</th>\n",
       "      <td>0.0</td>\n",
       "      <td>0.0000</td>\n",
       "      <td>0.0000</td>\n",
       "      <td>0.0000</td>\n",
       "      <td>0.0</td>\n",
       "      <td>1.0</td>\n",
       "    </tr>\n",
       "  </tbody>\n",
       "</table>\n",
       "</div>"
      ],
      "text/plain": [
       "              All Features     NNA      NN     NFW  NNAV  NVA\n",
       "All Features           1.0  0.0000  0.0000  0.0000   0.0  0.0\n",
       "NNA                    0.0  1.0000  0.8406  0.0001   0.0  0.0\n",
       "NN                     0.0  0.8406  1.0000  0.0000   0.0  0.0\n",
       "NFW                    0.0  0.0001  0.0000  1.0000   0.0  0.0\n",
       "NNAV                   0.0  0.0000  0.0000  0.0000   1.0  0.0\n",
       "NVA                    0.0  0.0000  0.0000  0.0000   0.0  1.0"
      ]
     },
     "execution_count": 79,
     "metadata": {},
     "output_type": "execute_result"
    }
   ],
   "source": [
    "sp.posthoc_wilcoxon(label_feats, val_col=\"f1\", group_col=\"classif\", p_adjust=\"bonferroni\").round(4)"
   ]
  },
  {
   "cell_type": "code",
   "execution_count": 80,
   "id": "88339c06-f636-4198-988a-f39be48aa663",
   "metadata": {},
   "outputs": [
    {
     "data": {
      "text/html": [
       "<div>\n",
       "<style scoped>\n",
       "    .dataframe tbody tr th:only-of-type {\n",
       "        vertical-align: middle;\n",
       "    }\n",
       "\n",
       "    .dataframe tbody tr th {\n",
       "        vertical-align: top;\n",
       "    }\n",
       "\n",
       "    .dataframe thead th {\n",
       "        text-align: right;\n",
       "    }\n",
       "</style>\n",
       "<table border=\"1\" class=\"dataframe\">\n",
       "  <thead>\n",
       "    <tr style=\"text-align: right;\">\n",
       "      <th></th>\n",
       "      <th>All Features</th>\n",
       "      <th>NFW</th>\n",
       "      <th>NN</th>\n",
       "      <th>NNA</th>\n",
       "      <th>NNAV</th>\n",
       "      <th>NVA</th>\n",
       "    </tr>\n",
       "  </thead>\n",
       "  <tbody>\n",
       "    <tr>\n",
       "      <th>All Features</th>\n",
       "      <td>1.0</td>\n",
       "      <td>0.0000</td>\n",
       "      <td>0.0</td>\n",
       "      <td>0.0</td>\n",
       "      <td>0.0000</td>\n",
       "      <td>0.0</td>\n",
       "    </tr>\n",
       "    <tr>\n",
       "      <th>NFW</th>\n",
       "      <td>0.0</td>\n",
       "      <td>1.0000</td>\n",
       "      <td>0.0</td>\n",
       "      <td>0.0</td>\n",
       "      <td>0.0061</td>\n",
       "      <td>0.0</td>\n",
       "    </tr>\n",
       "    <tr>\n",
       "      <th>NN</th>\n",
       "      <td>0.0</td>\n",
       "      <td>0.0000</td>\n",
       "      <td>1.0</td>\n",
       "      <td>0.0</td>\n",
       "      <td>0.0000</td>\n",
       "      <td>0.0</td>\n",
       "    </tr>\n",
       "    <tr>\n",
       "      <th>NNA</th>\n",
       "      <td>0.0</td>\n",
       "      <td>0.0000</td>\n",
       "      <td>0.0</td>\n",
       "      <td>1.0</td>\n",
       "      <td>0.0000</td>\n",
       "      <td>0.0</td>\n",
       "    </tr>\n",
       "    <tr>\n",
       "      <th>NNAV</th>\n",
       "      <td>0.0</td>\n",
       "      <td>0.0061</td>\n",
       "      <td>0.0</td>\n",
       "      <td>0.0</td>\n",
       "      <td>1.0000</td>\n",
       "      <td>0.0</td>\n",
       "    </tr>\n",
       "    <tr>\n",
       "      <th>NVA</th>\n",
       "      <td>0.0</td>\n",
       "      <td>0.0000</td>\n",
       "      <td>0.0</td>\n",
       "      <td>0.0</td>\n",
       "      <td>0.0000</td>\n",
       "      <td>1.0</td>\n",
       "    </tr>\n",
       "  </tbody>\n",
       "</table>\n",
       "</div>"
      ],
      "text/plain": [
       "              All Features     NFW   NN  NNA    NNAV  NVA\n",
       "All Features           1.0  0.0000  0.0  0.0  0.0000  0.0\n",
       "NFW                    0.0  1.0000  0.0  0.0  0.0061  0.0\n",
       "NN                     0.0  0.0000  1.0  0.0  0.0000  0.0\n",
       "NNA                    0.0  0.0000  0.0  1.0  0.0000  0.0\n",
       "NNAV                   0.0  0.0061  0.0  0.0  1.0000  0.0\n",
       "NVA                    0.0  0.0000  0.0  0.0  0.0000  1.0"
      ]
     },
     "execution_count": 80,
     "metadata": {},
     "output_type": "execute_result"
    }
   ],
   "source": [
    "sp.posthoc_wilcoxon(sublabel_feats, val_col=\"f1\", group_col=\"classif\", p_adjust=\"bonferroni\").round(4)"
   ]
  },
  {
   "cell_type": "markdown",
   "id": "41326582-251f-41b1-846f-12023ccedf7c",
   "metadata": {
    "jp-MarkdownHeadingCollapsed": true,
    "tags": []
   },
   "source": [
    "### Significance Tests for Differences between conversational contexts "
   ]
  },
  {
   "cell_type": "code",
   "execution_count": 32,
   "id": "9607cc5a-ec7c-4552-a2d8-7fc6b9e7889f",
   "metadata": {},
   "outputs": [],
   "source": [
    "domain = pd.read_csv(\"domain_no_gpt.csv\")\n",
    "interaction = pd.read_csv(\"interaction_type_no_gpt.csv\")\n",
    "conv_mode = pd.read_csv(\"conv_mode_no_gpt.csv\")\n",
    "synch = pd.read_csv(\"synchronictiy_no_gpt.csv\")\n",
    "\n",
    "domain = domain[domain[\"kind\"] != \"GLoHBCD\"]\n",
    "conv_mode = conv_mode[conv_mode[\"kind\"] != \"GLoHBCD\"]\n",
    "interaction = interaction[interaction[\"kind\"] != \"GLoHBCD\"]\n",
    "synch = synch[synch[\"kind\"] != \"GLoHBCD\"]"
   ]
  },
  {
   "cell_type": "code",
   "execution_count": 33,
   "id": "91532f7f-1630-4b9e-bb3c-87c7dcf31cc6",
   "metadata": {},
   "outputs": [],
   "source": [
    "domain_val = domain[domain[\"level\"] == \"valence\"]\n",
    "domain_label = domain[domain[\"level\"] == \"label\"]\n",
    "domain_sublabel = domain[domain[\"level\"] == \"sublabel\"]"
   ]
  },
  {
   "cell_type": "markdown",
   "id": "03f3bafc-c773-445f-b5b7-198c116800c5",
   "metadata": {
    "jp-MarkdownHeadingCollapsed": true,
    "tags": []
   },
   "source": [
    "#### Testing for Normality + Equality of Variance first"
   ]
  },
  {
   "cell_type": "code",
   "execution_count": 34,
   "id": "73eee76f-f8ae-4819-8af1-bc6943c634d5",
   "metadata": {},
   "outputs": [
    {
     "name": "stdout",
     "output_type": "stream",
     "text": [
      "Domain Valence Normality:\n"
     ]
    },
    {
     "data": {
      "text/html": [
       "<div>\n",
       "<style scoped>\n",
       "    .dataframe tbody tr th:only-of-type {\n",
       "        vertical-align: middle;\n",
       "    }\n",
       "\n",
       "    .dataframe tbody tr th {\n",
       "        vertical-align: top;\n",
       "    }\n",
       "\n",
       "    .dataframe thead th {\n",
       "        text-align: right;\n",
       "    }\n",
       "</style>\n",
       "<table border=\"1\" class=\"dataframe\">\n",
       "  <thead>\n",
       "    <tr style=\"text-align: right;\">\n",
       "      <th></th>\n",
       "      <th>W</th>\n",
       "      <th>pval</th>\n",
       "      <th>normal</th>\n",
       "    </tr>\n",
       "    <tr>\n",
       "      <th>kind</th>\n",
       "      <th></th>\n",
       "      <th></th>\n",
       "      <th></th>\n",
       "    </tr>\n",
       "  </thead>\n",
       "  <tbody>\n",
       "    <tr>\n",
       "      <th>in-domain</th>\n",
       "      <td>0.942451</td>\n",
       "      <td>0.580591</td>\n",
       "      <td>True</td>\n",
       "    </tr>\n",
       "    <tr>\n",
       "      <th>out-of-domain</th>\n",
       "      <td>0.776323</td>\n",
       "      <td>0.000025</td>\n",
       "      <td>False</td>\n",
       "    </tr>\n",
       "  </tbody>\n",
       "</table>\n",
       "</div>"
      ],
      "text/plain": [
       "                      W      pval  normal\n",
       "kind                                     \n",
       "in-domain      0.942451  0.580591    True\n",
       "out-of-domain  0.776323  0.000025   False"
      ]
     },
     "execution_count": 34,
     "metadata": {},
     "output_type": "execute_result"
    }
   ],
   "source": [
    "print(\"Domain Valence Normality:\")\n",
    "pg.normality(domain_val, dv=\"f1\", group=\"kind\", method='shapiro', alpha=0.05)"
   ]
  },
  {
   "cell_type": "code",
   "execution_count": 35,
   "id": "38c54a15-b9a1-4c59-b6cf-5aeaaec1b5c1",
   "metadata": {},
   "outputs": [
    {
     "name": "stdout",
     "output_type": "stream",
     "text": [
      "Domain Label Normality:\n"
     ]
    },
    {
     "data": {
      "text/html": [
       "<div>\n",
       "<style scoped>\n",
       "    .dataframe tbody tr th:only-of-type {\n",
       "        vertical-align: middle;\n",
       "    }\n",
       "\n",
       "    .dataframe tbody tr th {\n",
       "        vertical-align: top;\n",
       "    }\n",
       "\n",
       "    .dataframe thead th {\n",
       "        text-align: right;\n",
       "    }\n",
       "</style>\n",
       "<table border=\"1\" class=\"dataframe\">\n",
       "  <thead>\n",
       "    <tr style=\"text-align: right;\">\n",
       "      <th></th>\n",
       "      <th>W</th>\n",
       "      <th>pval</th>\n",
       "      <th>normal</th>\n",
       "    </tr>\n",
       "    <tr>\n",
       "      <th>kind</th>\n",
       "      <th></th>\n",
       "      <th></th>\n",
       "      <th></th>\n",
       "    </tr>\n",
       "  </thead>\n",
       "  <tbody>\n",
       "    <tr>\n",
       "      <th>in-domain</th>\n",
       "      <td>0.927994</td>\n",
       "      <td>0.141277</td>\n",
       "      <td>True</td>\n",
       "    </tr>\n",
       "    <tr>\n",
       "      <th>out-of-domain</th>\n",
       "      <td>0.893005</td>\n",
       "      <td>0.005688</td>\n",
       "      <td>False</td>\n",
       "    </tr>\n",
       "  </tbody>\n",
       "</table>\n",
       "</div>"
      ],
      "text/plain": [
       "                      W      pval  normal\n",
       "kind                                     \n",
       "in-domain      0.927994  0.141277    True\n",
       "out-of-domain  0.893005  0.005688   False"
      ]
     },
     "execution_count": 35,
     "metadata": {},
     "output_type": "execute_result"
    }
   ],
   "source": [
    "print(\"Domain Label Normality:\")\n",
    "pg.normality(domain_label, dv=\"f1\", group=\"kind\", method='shapiro', alpha=0.05)"
   ]
  },
  {
   "cell_type": "code",
   "execution_count": 36,
   "id": "23dce9a3-ff44-4b0a-ad9a-e6fc965af1a1",
   "metadata": {},
   "outputs": [
    {
     "name": "stdout",
     "output_type": "stream",
     "text": [
      "Domain Sublabel Normality:\n"
     ]
    },
    {
     "data": {
      "text/html": [
       "<div>\n",
       "<style scoped>\n",
       "    .dataframe tbody tr th:only-of-type {\n",
       "        vertical-align: middle;\n",
       "    }\n",
       "\n",
       "    .dataframe tbody tr th {\n",
       "        vertical-align: top;\n",
       "    }\n",
       "\n",
       "    .dataframe thead th {\n",
       "        text-align: right;\n",
       "    }\n",
       "</style>\n",
       "<table border=\"1\" class=\"dataframe\">\n",
       "  <thead>\n",
       "    <tr style=\"text-align: right;\">\n",
       "      <th></th>\n",
       "      <th>W</th>\n",
       "      <th>pval</th>\n",
       "      <th>normal</th>\n",
       "    </tr>\n",
       "    <tr>\n",
       "      <th>kind</th>\n",
       "      <th></th>\n",
       "      <th></th>\n",
       "      <th></th>\n",
       "    </tr>\n",
       "  </thead>\n",
       "  <tbody>\n",
       "    <tr>\n",
       "      <th>in-domain</th>\n",
       "      <td>0.899269</td>\n",
       "      <td>0.039959</td>\n",
       "      <td>False</td>\n",
       "    </tr>\n",
       "    <tr>\n",
       "      <th>out-of-domain</th>\n",
       "      <td>0.938724</td>\n",
       "      <td>0.084041</td>\n",
       "      <td>True</td>\n",
       "    </tr>\n",
       "  </tbody>\n",
       "</table>\n",
       "</div>"
      ],
      "text/plain": [
       "                      W      pval  normal\n",
       "kind                                     \n",
       "in-domain      0.899269  0.039959   False\n",
       "out-of-domain  0.938724  0.084041    True"
      ]
     },
     "execution_count": 36,
     "metadata": {},
     "output_type": "execute_result"
    }
   ],
   "source": [
    "print(\"Domain Sublabel Normality:\")\n",
    "pg.normality(domain_sublabel, dv=\"f1\", group=\"kind\", method='shapiro', alpha=0.05)"
   ]
  },
  {
   "cell_type": "code",
   "execution_count": 37,
   "id": "e2383b3e-b8fb-42b8-b5a6-0de41448f5d2",
   "metadata": {},
   "outputs": [],
   "source": [
    "interaction_val = interaction[interaction[\"level\"] == \"valence\"]\n",
    "interaction_label = interaction[interaction[\"level\"] == \"label\"]\n",
    "interaction_sublabel = interaction[interaction[\"level\"] == \"sublabel\"]"
   ]
  },
  {
   "cell_type": "code",
   "execution_count": 38,
   "id": "77b2410c-c7ba-452d-b3e4-f618cb6a7df8",
   "metadata": {},
   "outputs": [
    {
     "name": "stdout",
     "output_type": "stream",
     "text": [
      "Interaction Valence Normality:\n"
     ]
    },
    {
     "data": {
      "text/html": [
       "<div>\n",
       "<style scoped>\n",
       "    .dataframe tbody tr th:only-of-type {\n",
       "        vertical-align: middle;\n",
       "    }\n",
       "\n",
       "    .dataframe tbody tr th {\n",
       "        vertical-align: top;\n",
       "    }\n",
       "\n",
       "    .dataframe thead th {\n",
       "        text-align: right;\n",
       "    }\n",
       "</style>\n",
       "<table border=\"1\" class=\"dataframe\">\n",
       "  <thead>\n",
       "    <tr style=\"text-align: right;\">\n",
       "      <th></th>\n",
       "      <th>W</th>\n",
       "      <th>pval</th>\n",
       "      <th>normal</th>\n",
       "    </tr>\n",
       "    <tr>\n",
       "      <th>kind</th>\n",
       "      <th></th>\n",
       "      <th></th>\n",
       "      <th></th>\n",
       "    </tr>\n",
       "  </thead>\n",
       "  <tbody>\n",
       "    <tr>\n",
       "      <th>human-chatbot</th>\n",
       "      <td>0.916220</td>\n",
       "      <td>0.083818</td>\n",
       "      <td>True</td>\n",
       "    </tr>\n",
       "    <tr>\n",
       "      <th>human-human</th>\n",
       "      <td>0.926213</td>\n",
       "      <td>0.130540</td>\n",
       "      <td>True</td>\n",
       "    </tr>\n",
       "  </tbody>\n",
       "</table>\n",
       "</div>"
      ],
      "text/plain": [
       "                      W      pval  normal\n",
       "kind                                     \n",
       "human-chatbot  0.916220  0.083818    True\n",
       "human-human    0.926213  0.130540    True"
      ]
     },
     "execution_count": 38,
     "metadata": {},
     "output_type": "execute_result"
    }
   ],
   "source": [
    "print(\"Interaction Valence Normality:\")\n",
    "pg.normality(interaction_val, dv=\"f1\", group=\"kind\", method='shapiro', alpha=0.05)"
   ]
  },
  {
   "cell_type": "code",
   "execution_count": 39,
   "id": "09f8116a-73a7-4f2c-90ad-12f13b03c520",
   "metadata": {},
   "outputs": [
    {
     "data": {
      "text/html": [
       "<div>\n",
       "<style scoped>\n",
       "    .dataframe tbody tr th:only-of-type {\n",
       "        vertical-align: middle;\n",
       "    }\n",
       "\n",
       "    .dataframe tbody tr th {\n",
       "        vertical-align: top;\n",
       "    }\n",
       "\n",
       "    .dataframe thead th {\n",
       "        text-align: right;\n",
       "    }\n",
       "</style>\n",
       "<table border=\"1\" class=\"dataframe\">\n",
       "  <thead>\n",
       "    <tr style=\"text-align: right;\">\n",
       "      <th></th>\n",
       "      <th>W</th>\n",
       "      <th>pval</th>\n",
       "      <th>equal_var</th>\n",
       "    </tr>\n",
       "  </thead>\n",
       "  <tbody>\n",
       "    <tr>\n",
       "      <th>levene</th>\n",
       "      <td>5.129573</td>\n",
       "      <td>0.029308</td>\n",
       "      <td>False</td>\n",
       "    </tr>\n",
       "  </tbody>\n",
       "</table>\n",
       "</div>"
      ],
      "text/plain": [
       "               W      pval  equal_var\n",
       "levene  5.129573  0.029308      False"
      ]
     },
     "execution_count": 39,
     "metadata": {},
     "output_type": "execute_result"
    }
   ],
   "source": [
    "pg.homoscedasticity(interaction_val, dv=\"f1\", group=\"kind\")"
   ]
  },
  {
   "cell_type": "code",
   "execution_count": 40,
   "id": "e15c6cbc-1695-4d73-9dd3-037c791dbe50",
   "metadata": {},
   "outputs": [
    {
     "name": "stdout",
     "output_type": "stream",
     "text": [
      "Interaction Label Normality:\n"
     ]
    },
    {
     "data": {
      "text/html": [
       "<div>\n",
       "<style scoped>\n",
       "    .dataframe tbody tr th:only-of-type {\n",
       "        vertical-align: middle;\n",
       "    }\n",
       "\n",
       "    .dataframe tbody tr th {\n",
       "        vertical-align: top;\n",
       "    }\n",
       "\n",
       "    .dataframe thead th {\n",
       "        text-align: right;\n",
       "    }\n",
       "</style>\n",
       "<table border=\"1\" class=\"dataframe\">\n",
       "  <thead>\n",
       "    <tr style=\"text-align: right;\">\n",
       "      <th></th>\n",
       "      <th>W</th>\n",
       "      <th>pval</th>\n",
       "      <th>normal</th>\n",
       "    </tr>\n",
       "    <tr>\n",
       "      <th>kind</th>\n",
       "      <th></th>\n",
       "      <th></th>\n",
       "      <th></th>\n",
       "    </tr>\n",
       "  </thead>\n",
       "  <tbody>\n",
       "    <tr>\n",
       "      <th>human-chatbot</th>\n",
       "      <td>0.882667</td>\n",
       "      <td>0.019765</td>\n",
       "      <td>False</td>\n",
       "    </tr>\n",
       "    <tr>\n",
       "      <th>human-human</th>\n",
       "      <td>0.957947</td>\n",
       "      <td>0.274258</td>\n",
       "      <td>True</td>\n",
       "    </tr>\n",
       "  </tbody>\n",
       "</table>\n",
       "</div>"
      ],
      "text/plain": [
       "                      W      pval  normal\n",
       "kind                                     \n",
       "human-chatbot  0.882667  0.019765   False\n",
       "human-human    0.957947  0.274258    True"
      ]
     },
     "execution_count": 40,
     "metadata": {},
     "output_type": "execute_result"
    }
   ],
   "source": [
    "print(\"Interaction Label Normality:\")\n",
    "pg.normality(interaction_label, dv=\"f1\", group=\"kind\", method='shapiro', alpha=0.05)"
   ]
  },
  {
   "cell_type": "code",
   "execution_count": 41,
   "id": "f3c261cd-5ee7-47ef-ac79-14082bf2e2a9",
   "metadata": {},
   "outputs": [
    {
     "name": "stdout",
     "output_type": "stream",
     "text": [
      "Interaction Sublabel Normality:\n"
     ]
    },
    {
     "data": {
      "text/html": [
       "<div>\n",
       "<style scoped>\n",
       "    .dataframe tbody tr th:only-of-type {\n",
       "        vertical-align: middle;\n",
       "    }\n",
       "\n",
       "    .dataframe tbody tr th {\n",
       "        vertical-align: top;\n",
       "    }\n",
       "\n",
       "    .dataframe thead th {\n",
       "        text-align: right;\n",
       "    }\n",
       "</style>\n",
       "<table border=\"1\" class=\"dataframe\">\n",
       "  <thead>\n",
       "    <tr style=\"text-align: right;\">\n",
       "      <th></th>\n",
       "      <th>W</th>\n",
       "      <th>pval</th>\n",
       "      <th>normal</th>\n",
       "    </tr>\n",
       "    <tr>\n",
       "      <th>kind</th>\n",
       "      <th></th>\n",
       "      <th></th>\n",
       "      <th></th>\n",
       "    </tr>\n",
       "  </thead>\n",
       "  <tbody>\n",
       "    <tr>\n",
       "      <th>human-chatbot</th>\n",
       "      <td>0.899948</td>\n",
       "      <td>0.041145</td>\n",
       "      <td>False</td>\n",
       "    </tr>\n",
       "    <tr>\n",
       "      <th>human-human</th>\n",
       "      <td>0.740865</td>\n",
       "      <td>0.000007</td>\n",
       "      <td>False</td>\n",
       "    </tr>\n",
       "  </tbody>\n",
       "</table>\n",
       "</div>"
      ],
      "text/plain": [
       "                      W      pval  normal\n",
       "kind                                     \n",
       "human-chatbot  0.899948  0.041145   False\n",
       "human-human    0.740865  0.000007   False"
      ]
     },
     "execution_count": 41,
     "metadata": {},
     "output_type": "execute_result"
    }
   ],
   "source": [
    "print(\"Interaction Sublabel Normality:\")\n",
    "pg.normality(interaction_sublabel, dv=\"f1\", group=\"kind\", method='shapiro', alpha=0.05)"
   ]
  },
  {
   "cell_type": "code",
   "execution_count": 42,
   "id": "1fb2318e-4969-4356-9bcf-518d92394018",
   "metadata": {},
   "outputs": [],
   "source": [
    "conv_mode_val = conv_mode[conv_mode[\"level\"] == \"valence\"]\n",
    "conv_mode_label = conv_mode[conv_mode[\"level\"] == \"label\"]\n",
    "conv_mode_sublabel = conv_mode[conv_mode[\"level\"] == \"sublabel\"]"
   ]
  },
  {
   "cell_type": "code",
   "execution_count": 43,
   "id": "df522d68-6517-4f18-a7d4-e8e7186c4861",
   "metadata": {},
   "outputs": [
    {
     "name": "stdout",
     "output_type": "stream",
     "text": [
      "Conv Mode Valence Normality:\n"
     ]
    },
    {
     "data": {
      "text/html": [
       "<div>\n",
       "<style scoped>\n",
       "    .dataframe tbody tr th:only-of-type {\n",
       "        vertical-align: middle;\n",
       "    }\n",
       "\n",
       "    .dataframe tbody tr th {\n",
       "        vertical-align: top;\n",
       "    }\n",
       "\n",
       "    .dataframe thead th {\n",
       "        text-align: right;\n",
       "    }\n",
       "</style>\n",
       "<table border=\"1\" class=\"dataframe\">\n",
       "  <thead>\n",
       "    <tr style=\"text-align: right;\">\n",
       "      <th></th>\n",
       "      <th>W</th>\n",
       "      <th>pval</th>\n",
       "      <th>normal</th>\n",
       "    </tr>\n",
       "    <tr>\n",
       "      <th>kind</th>\n",
       "      <th></th>\n",
       "      <th></th>\n",
       "      <th></th>\n",
       "    </tr>\n",
       "  </thead>\n",
       "  <tbody>\n",
       "    <tr>\n",
       "      <th>single-party</th>\n",
       "      <td>0.950633</td>\n",
       "      <td>0.175790</td>\n",
       "      <td>True</td>\n",
       "    </tr>\n",
       "    <tr>\n",
       "      <th>multi-party</th>\n",
       "      <td>0.917287</td>\n",
       "      <td>0.334884</td>\n",
       "      <td>True</td>\n",
       "    </tr>\n",
       "  </tbody>\n",
       "</table>\n",
       "</div>"
      ],
      "text/plain": [
       "                     W      pval  normal\n",
       "kind                                    \n",
       "single-party  0.950633  0.175790    True\n",
       "multi-party   0.917287  0.334884    True"
      ]
     },
     "execution_count": 43,
     "metadata": {},
     "output_type": "execute_result"
    }
   ],
   "source": [
    "print(\"Conv Mode Valence Normality:\")\n",
    "pg.normality(conv_mode_val, dv=\"f1\", group=\"kind\", method='shapiro', alpha=0.05)"
   ]
  },
  {
   "cell_type": "code",
   "execution_count": 44,
   "id": "e7affd8c-e0ee-478b-a6da-5466a55b9a79",
   "metadata": {},
   "outputs": [
    {
     "data": {
      "text/html": [
       "<div>\n",
       "<style scoped>\n",
       "    .dataframe tbody tr th:only-of-type {\n",
       "        vertical-align: middle;\n",
       "    }\n",
       "\n",
       "    .dataframe tbody tr th {\n",
       "        vertical-align: top;\n",
       "    }\n",
       "\n",
       "    .dataframe thead th {\n",
       "        text-align: right;\n",
       "    }\n",
       "</style>\n",
       "<table border=\"1\" class=\"dataframe\">\n",
       "  <thead>\n",
       "    <tr style=\"text-align: right;\">\n",
       "      <th></th>\n",
       "      <th>W</th>\n",
       "      <th>pval</th>\n",
       "      <th>equal_var</th>\n",
       "    </tr>\n",
       "  </thead>\n",
       "  <tbody>\n",
       "    <tr>\n",
       "      <th>levene</th>\n",
       "      <td>6.4294</td>\n",
       "      <td>0.015459</td>\n",
       "      <td>False</td>\n",
       "    </tr>\n",
       "  </tbody>\n",
       "</table>\n",
       "</div>"
      ],
      "text/plain": [
       "             W      pval  equal_var\n",
       "levene  6.4294  0.015459      False"
      ]
     },
     "execution_count": 44,
     "metadata": {},
     "output_type": "execute_result"
    }
   ],
   "source": [
    "pg.homoscedasticity(conv_mode_val, dv=\"f1\", group=\"kind\")"
   ]
  },
  {
   "cell_type": "code",
   "execution_count": 45,
   "id": "47385a5e-b400-4af9-b7c0-144bad0a9225",
   "metadata": {},
   "outputs": [
    {
     "name": "stdout",
     "output_type": "stream",
     "text": [
      "Conv Mode Label Normality:\n"
     ]
    },
    {
     "data": {
      "text/html": [
       "<div>\n",
       "<style scoped>\n",
       "    .dataframe tbody tr th:only-of-type {\n",
       "        vertical-align: middle;\n",
       "    }\n",
       "\n",
       "    .dataframe tbody tr th {\n",
       "        vertical-align: top;\n",
       "    }\n",
       "\n",
       "    .dataframe thead th {\n",
       "        text-align: right;\n",
       "    }\n",
       "</style>\n",
       "<table border=\"1\" class=\"dataframe\">\n",
       "  <thead>\n",
       "    <tr style=\"text-align: right;\">\n",
       "      <th></th>\n",
       "      <th>W</th>\n",
       "      <th>pval</th>\n",
       "      <th>normal</th>\n",
       "    </tr>\n",
       "    <tr>\n",
       "      <th>kind</th>\n",
       "      <th></th>\n",
       "      <th></th>\n",
       "      <th></th>\n",
       "    </tr>\n",
       "  </thead>\n",
       "  <tbody>\n",
       "    <tr>\n",
       "      <th>single-party</th>\n",
       "      <td>0.957085</td>\n",
       "      <td>0.260452</td>\n",
       "      <td>True</td>\n",
       "    </tr>\n",
       "    <tr>\n",
       "      <th>multi-party</th>\n",
       "      <td>0.957194</td>\n",
       "      <td>0.489429</td>\n",
       "      <td>True</td>\n",
       "    </tr>\n",
       "  </tbody>\n",
       "</table>\n",
       "</div>"
      ],
      "text/plain": [
       "                     W      pval  normal\n",
       "kind                                    \n",
       "single-party  0.957085  0.260452    True\n",
       "multi-party   0.957194  0.489429    True"
      ]
     },
     "execution_count": 45,
     "metadata": {},
     "output_type": "execute_result"
    }
   ],
   "source": [
    "print(\"Conv Mode Label Normality:\")\n",
    "pg.normality(conv_mode_label, dv=\"f1\", group=\"kind\", method='shapiro', alpha=0.05)"
   ]
  },
  {
   "cell_type": "code",
   "execution_count": 46,
   "id": "415469ce-e61f-448b-bec8-c7902df72fc1",
   "metadata": {},
   "outputs": [
    {
     "data": {
      "text/html": [
       "<div>\n",
       "<style scoped>\n",
       "    .dataframe tbody tr th:only-of-type {\n",
       "        vertical-align: middle;\n",
       "    }\n",
       "\n",
       "    .dataframe tbody tr th {\n",
       "        vertical-align: top;\n",
       "    }\n",
       "\n",
       "    .dataframe thead th {\n",
       "        text-align: right;\n",
       "    }\n",
       "</style>\n",
       "<table border=\"1\" class=\"dataframe\">\n",
       "  <thead>\n",
       "    <tr style=\"text-align: right;\">\n",
       "      <th></th>\n",
       "      <th>W</th>\n",
       "      <th>pval</th>\n",
       "      <th>equal_var</th>\n",
       "    </tr>\n",
       "  </thead>\n",
       "  <tbody>\n",
       "    <tr>\n",
       "      <th>levene</th>\n",
       "      <td>18.671322</td>\n",
       "      <td>0.000078</td>\n",
       "      <td>False</td>\n",
       "    </tr>\n",
       "  </tbody>\n",
       "</table>\n",
       "</div>"
      ],
      "text/plain": [
       "                W      pval  equal_var\n",
       "levene  18.671322  0.000078      False"
      ]
     },
     "execution_count": 46,
     "metadata": {},
     "output_type": "execute_result"
    }
   ],
   "source": [
    "pg.homoscedasticity(conv_mode_label, dv=\"f1\", group=\"kind\")"
   ]
  },
  {
   "cell_type": "code",
   "execution_count": 47,
   "id": "17bab153-5843-4939-8fbc-83c413f9df00",
   "metadata": {},
   "outputs": [
    {
     "name": "stdout",
     "output_type": "stream",
     "text": [
      "Conv Mode Sublabel Normality:\n"
     ]
    },
    {
     "data": {
      "text/html": [
       "<div>\n",
       "<style scoped>\n",
       "    .dataframe tbody tr th:only-of-type {\n",
       "        vertical-align: middle;\n",
       "    }\n",
       "\n",
       "    .dataframe tbody tr th {\n",
       "        vertical-align: top;\n",
       "    }\n",
       "\n",
       "    .dataframe thead th {\n",
       "        text-align: right;\n",
       "    }\n",
       "</style>\n",
       "<table border=\"1\" class=\"dataframe\">\n",
       "  <thead>\n",
       "    <tr style=\"text-align: right;\">\n",
       "      <th></th>\n",
       "      <th>W</th>\n",
       "      <th>pval</th>\n",
       "      <th>normal</th>\n",
       "    </tr>\n",
       "    <tr>\n",
       "      <th>kind</th>\n",
       "      <th></th>\n",
       "      <th></th>\n",
       "      <th></th>\n",
       "    </tr>\n",
       "  </thead>\n",
       "  <tbody>\n",
       "    <tr>\n",
       "      <th>single-party</th>\n",
       "      <td>0.899279</td>\n",
       "      <td>0.008065</td>\n",
       "      <td>False</td>\n",
       "    </tr>\n",
       "    <tr>\n",
       "      <th>multi-party</th>\n",
       "      <td>0.719687</td>\n",
       "      <td>0.000068</td>\n",
       "      <td>False</td>\n",
       "    </tr>\n",
       "  </tbody>\n",
       "</table>\n",
       "</div>"
      ],
      "text/plain": [
       "                     W      pval  normal\n",
       "kind                                    \n",
       "single-party  0.899279  0.008065   False\n",
       "multi-party   0.719687  0.000068   False"
      ]
     },
     "execution_count": 47,
     "metadata": {},
     "output_type": "execute_result"
    }
   ],
   "source": [
    "print(\"Conv Mode Sublabel Normality:\")\n",
    "pg.normality(conv_mode_sublabel, dv=\"f1\", group=\"kind\", method='shapiro', alpha=0.05)"
   ]
  },
  {
   "cell_type": "code",
   "execution_count": 48,
   "id": "e7c8fb70-947d-4a26-a67c-69edff7e46b5",
   "metadata": {},
   "outputs": [],
   "source": [
    "synch_val = synch[synch[\"level\"] == \"valence\"]\n",
    "synch_label = synch[synch[\"level\"] == \"label\"]\n",
    "synch_sublabel = synch[synch[\"level\"] == \"sublabel\"]"
   ]
  },
  {
   "cell_type": "code",
   "execution_count": 49,
   "id": "c9d5236f-f8bf-4793-9960-5b8ddffe604e",
   "metadata": {},
   "outputs": [
    {
     "name": "stdout",
     "output_type": "stream",
     "text": [
      "Synchronicity Valence Normality:\n"
     ]
    },
    {
     "data": {
      "text/html": [
       "<div>\n",
       "<style scoped>\n",
       "    .dataframe tbody tr th:only-of-type {\n",
       "        vertical-align: middle;\n",
       "    }\n",
       "\n",
       "    .dataframe tbody tr th {\n",
       "        vertical-align: top;\n",
       "    }\n",
       "\n",
       "    .dataframe thead th {\n",
       "        text-align: right;\n",
       "    }\n",
       "</style>\n",
       "<table border=\"1\" class=\"dataframe\">\n",
       "  <thead>\n",
       "    <tr style=\"text-align: right;\">\n",
       "      <th></th>\n",
       "      <th>W</th>\n",
       "      <th>pval</th>\n",
       "      <th>normal</th>\n",
       "    </tr>\n",
       "    <tr>\n",
       "      <th>kind</th>\n",
       "      <th></th>\n",
       "      <th></th>\n",
       "      <th></th>\n",
       "    </tr>\n",
       "  </thead>\n",
       "  <tbody>\n",
       "    <tr>\n",
       "      <th>synchronous</th>\n",
       "      <td>0.916220</td>\n",
       "      <td>0.083818</td>\n",
       "      <td>True</td>\n",
       "    </tr>\n",
       "    <tr>\n",
       "      <th>asynchronous</th>\n",
       "      <td>0.926213</td>\n",
       "      <td>0.130540</td>\n",
       "      <td>True</td>\n",
       "    </tr>\n",
       "  </tbody>\n",
       "</table>\n",
       "</div>"
      ],
      "text/plain": [
       "                     W      pval  normal\n",
       "kind                                    \n",
       "synchronous   0.916220  0.083818    True\n",
       "asynchronous  0.926213  0.130540    True"
      ]
     },
     "execution_count": 49,
     "metadata": {},
     "output_type": "execute_result"
    }
   ],
   "source": [
    "print(\"Synchronicity Valence Normality:\")\n",
    "pg.normality(synch_val, dv=\"f1\", group=\"kind\", method='shapiro', alpha=0.05)"
   ]
  },
  {
   "cell_type": "code",
   "execution_count": 51,
   "id": "4cdd8afb-f6a4-4986-9372-32ead000de0c",
   "metadata": {},
   "outputs": [
    {
     "data": {
      "text/html": [
       "<div>\n",
       "<style scoped>\n",
       "    .dataframe tbody tr th:only-of-type {\n",
       "        vertical-align: middle;\n",
       "    }\n",
       "\n",
       "    .dataframe tbody tr th {\n",
       "        vertical-align: top;\n",
       "    }\n",
       "\n",
       "    .dataframe thead th {\n",
       "        text-align: right;\n",
       "    }\n",
       "</style>\n",
       "<table border=\"1\" class=\"dataframe\">\n",
       "  <thead>\n",
       "    <tr style=\"text-align: right;\">\n",
       "      <th></th>\n",
       "      <th>W</th>\n",
       "      <th>pval</th>\n",
       "      <th>equal_var</th>\n",
       "    </tr>\n",
       "  </thead>\n",
       "  <tbody>\n",
       "    <tr>\n",
       "      <th>levene</th>\n",
       "      <td>5.129573</td>\n",
       "      <td>0.029308</td>\n",
       "      <td>False</td>\n",
       "    </tr>\n",
       "  </tbody>\n",
       "</table>\n",
       "</div>"
      ],
      "text/plain": [
       "               W      pval  equal_var\n",
       "levene  5.129573  0.029308      False"
      ]
     },
     "execution_count": 51,
     "metadata": {},
     "output_type": "execute_result"
    }
   ],
   "source": [
    "pg.homoscedasticity(synch_val, dv=\"f1\", group=\"kind\")"
   ]
  },
  {
   "cell_type": "code",
   "execution_count": 52,
   "id": "f66b0910-b654-4e43-a2eb-369e7a34d64e",
   "metadata": {},
   "outputs": [
    {
     "name": "stdout",
     "output_type": "stream",
     "text": [
      "Synchronicity Label Normality:\n"
     ]
    },
    {
     "data": {
      "text/html": [
       "<div>\n",
       "<style scoped>\n",
       "    .dataframe tbody tr th:only-of-type {\n",
       "        vertical-align: middle;\n",
       "    }\n",
       "\n",
       "    .dataframe tbody tr th {\n",
       "        vertical-align: top;\n",
       "    }\n",
       "\n",
       "    .dataframe thead th {\n",
       "        text-align: right;\n",
       "    }\n",
       "</style>\n",
       "<table border=\"1\" class=\"dataframe\">\n",
       "  <thead>\n",
       "    <tr style=\"text-align: right;\">\n",
       "      <th></th>\n",
       "      <th>W</th>\n",
       "      <th>pval</th>\n",
       "      <th>normal</th>\n",
       "    </tr>\n",
       "    <tr>\n",
       "      <th>kind</th>\n",
       "      <th></th>\n",
       "      <th></th>\n",
       "      <th></th>\n",
       "    </tr>\n",
       "  </thead>\n",
       "  <tbody>\n",
       "    <tr>\n",
       "      <th>synchronous</th>\n",
       "      <td>0.882667</td>\n",
       "      <td>0.019765</td>\n",
       "      <td>False</td>\n",
       "    </tr>\n",
       "    <tr>\n",
       "      <th>asynchronous</th>\n",
       "      <td>0.957947</td>\n",
       "      <td>0.274258</td>\n",
       "      <td>True</td>\n",
       "    </tr>\n",
       "  </tbody>\n",
       "</table>\n",
       "</div>"
      ],
      "text/plain": [
       "                     W      pval  normal\n",
       "kind                                    \n",
       "synchronous   0.882667  0.019765   False\n",
       "asynchronous  0.957947  0.274258    True"
      ]
     },
     "execution_count": 52,
     "metadata": {},
     "output_type": "execute_result"
    }
   ],
   "source": [
    "print(\"Synchronicity Label Normality:\")\n",
    "pg.normality(synch_label, dv=\"f1\", group=\"kind\", method='shapiro', alpha=0.05)"
   ]
  },
  {
   "cell_type": "code",
   "execution_count": 53,
   "id": "1ff20fc5-1ba4-4830-9fc1-0f3a1a12a0fa",
   "metadata": {},
   "outputs": [
    {
     "name": "stdout",
     "output_type": "stream",
     "text": [
      "Synchronicity Sublabel Normality:\n"
     ]
    },
    {
     "data": {
      "text/html": [
       "<div>\n",
       "<style scoped>\n",
       "    .dataframe tbody tr th:only-of-type {\n",
       "        vertical-align: middle;\n",
       "    }\n",
       "\n",
       "    .dataframe tbody tr th {\n",
       "        vertical-align: top;\n",
       "    }\n",
       "\n",
       "    .dataframe thead th {\n",
       "        text-align: right;\n",
       "    }\n",
       "</style>\n",
       "<table border=\"1\" class=\"dataframe\">\n",
       "  <thead>\n",
       "    <tr style=\"text-align: right;\">\n",
       "      <th></th>\n",
       "      <th>W</th>\n",
       "      <th>pval</th>\n",
       "      <th>normal</th>\n",
       "    </tr>\n",
       "    <tr>\n",
       "      <th>kind</th>\n",
       "      <th></th>\n",
       "      <th></th>\n",
       "      <th></th>\n",
       "    </tr>\n",
       "  </thead>\n",
       "  <tbody>\n",
       "    <tr>\n",
       "      <th>synchronous</th>\n",
       "      <td>0.899948</td>\n",
       "      <td>0.041145</td>\n",
       "      <td>False</td>\n",
       "    </tr>\n",
       "    <tr>\n",
       "      <th>asynchronous</th>\n",
       "      <td>0.740865</td>\n",
       "      <td>0.000007</td>\n",
       "      <td>False</td>\n",
       "    </tr>\n",
       "  </tbody>\n",
       "</table>\n",
       "</div>"
      ],
      "text/plain": [
       "                     W      pval  normal\n",
       "kind                                    \n",
       "synchronous   0.899948  0.041145   False\n",
       "asynchronous  0.740865  0.000007   False"
      ]
     },
     "execution_count": 53,
     "metadata": {},
     "output_type": "execute_result"
    }
   ],
   "source": [
    "print(\"Synchronicity Sublabel Normality:\")\n",
    "pg.normality(synch_sublabel, dv=\"f1\", group=\"kind\", method='shapiro', alpha=0.05)"
   ]
  },
  {
   "cell_type": "markdown",
   "id": "c899e308-6e40-43c2-8575-8232bd44c1de",
   "metadata": {
    "jp-MarkdownHeadingCollapsed": true,
    "tags": []
   },
   "source": [
    "#### Running Significance tests\n",
    "TTest for normal distributions, Mann-Whitney-U for non-normal"
   ]
  },
  {
   "cell_type": "code",
   "execution_count": 54,
   "id": "a29fb66b-d39a-4330-ba2a-0c8e24182f9a",
   "metadata": {},
   "outputs": [
    {
     "name": "stdout",
     "output_type": "stream",
     "text": [
      "Domain Valence:\n",
      "     U-val alternative     p-val       RBC      CLES\n",
      "MWU  271.0   two-sided  0.000163 -0.806667  0.903333\n",
      "Domain Label:\n",
      "     U-val alternative         p-val       RBC      CLES\n",
      "MWU   49.0   two-sided  7.017547e-07  0.836667  0.081667\n",
      "Domain Subabel:\n",
      "     U-val alternative         p-val  RBC  CLES\n",
      "MWU    0.0   two-sided  3.006030e-09  1.0   0.0\n",
      "interaction Valence:\n",
      "     U-val alternative     p-val    RBC    CLES\n",
      "MWU  363.0   two-sided  0.000011 -0.815  0.9075\n",
      "interaction Label:\n",
      "     U-val alternative    p-val       RBC      CLES\n",
      "MWU  395.0   two-sided  0.06128 -0.316667  0.658333\n",
      "interaction Subabel:\n",
      "     U-val alternative     p-val   RBC   CLES\n",
      "MWU  309.0   two-sided  0.866321 -0.03  0.515\n",
      "conv_mode Valence:\n",
      "     U-val alternative     p-val   RBC  CLES\n",
      "MWU  213.0   two-sided  0.050494 -0.42  0.71\n",
      "conv_mode Label:\n",
      "     U-val alternative     p-val       RBC      CLES\n",
      "MWU  475.0   two-sided  0.000549 -0.583333  0.791667\n",
      "conv_mode Subabel:\n",
      "     U-val alternative    p-val       RBC      CLES\n",
      "MWU  461.0   two-sided  0.00148 -0.536667  0.768333\n",
      "synch Valence:\n",
      "     U-val alternative     p-val    RBC    CLES\n",
      "MWU  363.0   two-sided  0.000011 -0.815  0.9075\n",
      "synch Label:\n",
      "     U-val alternative    p-val       RBC      CLES\n",
      "MWU  395.0   two-sided  0.06128 -0.316667  0.658333\n",
      "synch Subabel:\n",
      "     U-val alternative     p-val   RBC   CLES\n",
      "MWU  309.0   two-sided  0.866321 -0.03  0.515\n"
     ]
    }
   ],
   "source": [
    "print(\"Domain Valence:\")\n",
    "print(pg.mwu(np.array(domain_val[domain_val[\"kind\"] == \"in-domain\"][\"f1\"]), np.array(domain_val[domain_val[\"kind\"] == \"out-of-domain\"][\"f1\"])))\n",
    "print(\"Domain Label:\")\n",
    "print(pg.mwu(np.array(domain_label[domain_label[\"kind\"] == \"in-domain\"][\"f1\"]), np.array(domain_label[domain_label[\"kind\"] == \"out-of-domain\"][\"f1\"])))\n",
    "print(\"Domain Subabel:\") \n",
    "print(pg.mwu(np.array(domain_sublabel[domain_sublabel[\"kind\"] == \"in-domain\"][\"f1\"]), np.array(domain_sublabel[domain_sublabel[\"kind\"] == \"out-of-domain\"][\"f1\"])))\n",
    "\n",
    "print(\"interaction Valence:\") \n",
    "print(pg.mwu(np.array(interaction_val[interaction_val[\"kind\"] == \"human-chatbot\"][\"f1\"]), np.array(interaction_val[interaction_val[\"kind\"] == \"human-human\"][\"f1\"])))\n",
    "print(\"interaction Label:\") \n",
    "print(pg.mwu(np.array(interaction_label[interaction_label[\"kind\"] == \"human-chatbot\"][\"f1\"]), np.array(interaction_label[interaction_label[\"kind\"] == \"human-human\"][\"f1\"])))\n",
    "print(\"interaction Subabel:\")\n",
    "print(pg.mwu(np.array(interaction_sublabel[interaction_sublabel[\"kind\"] == \"human-chatbot\"][\"f1\"]), np.array(interaction_sublabel[interaction_sublabel[\"kind\"] == \"human-human\"][\"f1\"])))\n",
    "\n",
    "print(\"conv_mode Valence:\") \n",
    "print(pg.mwu(np.array(conv_mode_val[conv_mode_val[\"kind\"] == \"single-party\"][\"f1\"]), np.array(conv_mode_val[conv_mode_val[\"kind\"] == \"multi-party\"][\"f1\"])))\n",
    "print(\"conv_mode Label:\") \n",
    "print(pg.mwu(np.array(conv_mode_label[conv_mode_label[\"kind\"] == \"single-party\"][\"f1\"]), np.array(conv_mode_label[conv_mode_label[\"kind\"] == \"multi-party\"][\"f1\"])))\n",
    "print(\"conv_mode Subabel:\") \n",
    "print(pg.mwu(np.array(conv_mode_sublabel[conv_mode_sublabel[\"kind\"] == \"single-party\"][\"f1\"]), np.array(conv_mode_sublabel[conv_mode_sublabel[\"kind\"] == \"multi-party\"][\"f1\"])))\n",
    "\n",
    "print(\"synch Valence:\") \n",
    "print(pg.mwu(np.array(synch_val[synch_val[\"kind\"] == \"synchronous\"][\"f1\"]), np.array(synch_val[synch_val[\"kind\"] == \"asynchronous\"][\"f1\"])))\n",
    "print(\"synch Label:\") \n",
    "print(pg.mwu(np.array(synch_label[synch_label[\"kind\"] == \"synchronous\"][\"f1\"]), np.array(synch_label[synch_label[\"kind\"] == \"asynchronous\"][\"f1\"])))\n",
    "print(\"synch Subabel:\") \n",
    "print(pg.mwu(np.array(synch_sublabel[synch_sublabel[\"kind\"] == \"synchronous\"][\"f1\"]), np.array(synch_sublabel[synch_sublabel[\"kind\"] == \"asynchronous\"][\"f1\"])))"
   ]
  },
  {
   "cell_type": "code",
   "execution_count": null,
   "id": "e83968f6-f5de-4471-96b0-21fa86186ed3",
   "metadata": {},
   "outputs": [],
   "source": []
  }
 ],
 "metadata": {
  "kernelspec": {
   "display_name": "Python 3 (ipykernel)",
   "language": "python",
   "name": "python3"
  },
  "language_info": {
   "codemirror_mode": {
    "name": "ipython",
    "version": 3
   },
   "file_extension": ".py",
   "mimetype": "text/x-python",
   "name": "python",
   "nbconvert_exporter": "python",
   "pygments_lexer": "ipython3",
   "version": "3.9.13"
  }
 },
 "nbformat": 4,
 "nbformat_minor": 5
}
