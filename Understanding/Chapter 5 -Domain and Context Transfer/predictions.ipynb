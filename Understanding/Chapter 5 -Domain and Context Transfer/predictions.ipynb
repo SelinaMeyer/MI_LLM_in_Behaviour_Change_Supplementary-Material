{
 "cells": [
  {
   "cell_type": "code",
   "execution_count": null,
   "id": "0fd01ab0-6b74-4938-b32e-e2dfcb452515",
   "metadata": {},
   "outputs": [
    {
     "name": "stdout",
     "output_type": "stream",
     "text": [
      "Requirement already satisfied: transformers in /opt/conda/lib/python3.9/site-packages (4.21.1)\n",
      "Requirement already satisfied: huggingface-hub<1.0,>=0.1.0 in /opt/conda/lib/python3.9/site-packages (from transformers) (0.8.1)\n",
      "Requirement already satisfied: pyyaml>=5.1 in /opt/conda/lib/python3.9/site-packages (from transformers) (6.0)\n",
      "Requirement already satisfied: tqdm>=4.27 in /opt/conda/lib/python3.9/site-packages (from transformers) (4.64.0)\n",
      "Requirement already satisfied: numpy>=1.17 in /opt/conda/lib/python3.9/site-packages (from transformers) (1.22.4)\n",
      "Requirement already satisfied: regex!=2019.12.17 in /opt/conda/lib/python3.9/site-packages (from transformers) (2022.8.17)\n",
      "Requirement already satisfied: requests in /opt/conda/lib/python3.9/site-packages (from transformers) (2.28.1)\n",
      "Requirement already satisfied: tokenizers!=0.11.3,<0.13,>=0.11.1 in /opt/conda/lib/python3.9/site-packages (from transformers) (0.12.1)\n",
      "Requirement already satisfied: filelock in /opt/conda/lib/python3.9/site-packages (from transformers) (3.8.0)\n",
      "Requirement already satisfied: packaging>=20.0 in /opt/conda/lib/python3.9/site-packages (from transformers) (21.3)\n",
      "Requirement already satisfied: typing-extensions>=3.7.4.3 in /opt/conda/lib/python3.9/site-packages (from huggingface-hub<1.0,>=0.1.0->transformers) (4.3.0)\n",
      "Requirement already satisfied: pyparsing!=3.0.5,>=2.0.2 in /opt/conda/lib/python3.9/site-packages (from packaging>=20.0->transformers) (3.0.9)\n",
      "Requirement already satisfied: urllib3<1.27,>=1.21.1 in /opt/conda/lib/python3.9/site-packages (from requests->transformers) (1.26.9)\n",
      "Requirement already satisfied: certifi>=2017.4.17 in /opt/conda/lib/python3.9/site-packages (from requests->transformers) (2022.6.15)\n",
      "Requirement already satisfied: charset-normalizer<3,>=2 in /opt/conda/lib/python3.9/site-packages (from requests->transformers) (2.1.0)\n",
      "Requirement already satisfied: idna<4,>=2.5 in /opt/conda/lib/python3.9/site-packages (from requests->transformers) (3.3)\n",
      "Requirement already satisfied: keras in /opt/conda/lib/python3.9/site-packages (2.9.0)\n",
      "Collecting Sentencepiece\n",
      "  Using cached sentencepiece-0.1.97-cp39-cp39-manylinux_2_17_x86_64.manylinux2014_x86_64.whl (1.3 MB)\n",
      "Installing collected packages: Sentencepiece\n",
      "Successfully installed Sentencepiece-0.1.97\n",
      "Looking in indexes: https://pypi.org/simple, https://download.pytorch.org/whl/cu113\n",
      "Collecting torch\n"
     ]
    }
   ],
   "source": [
    "!pip install transformers\n",
    "!pip install keras\n",
    "!pip install Sentencepiece\n",
    "!pip install torch torchvision torchaudio --extra-index-url https://download.pytorch.org/whl/cu113\n",
    "!pip install datasets\n",
    "!pip install -U scikit-learn"
   ]
  },
  {
   "cell_type": "code",
   "execution_count": null,
   "id": "673e17d3-92be-47a5-acba-548330567127",
   "metadata": {},
   "outputs": [],
   "source": [
    "import os\n",
    "os.environ[\"CUDA_DEVICE_ORDER\"]=\"PCI_BUS_ID\"\n",
    "os.environ[\"CUDA_VISIBLE_DEVICES\"]=\"0\"\n",
    "os.environ[\"WANDB_DISABLED\"] = \"true\"\n",
    "\n",
    "import transformers\n",
    "import torch\n",
    "#import keras\n",
    "from datasets import load_dataset, concatenate_datasets\n",
    "\n",
    "import numpy as np\n",
    "import pandas as pd\n",
    "import seaborn as sns\n",
    "import matplotlib.pyplot as plt\n",
    "\n",
    "from functions import *\n",
    "\n",
    "from sklearn.metrics import confusion_matrix, precision_recall_fscore_support\n",
    "from transformers import AutoModelForSequenceClassification, TrainingArguments, Trainer, AutoTokenizer"
   ]
  },
  {
   "cell_type": "code",
   "execution_count": null,
   "id": "600ed468-54c0-4939-b22b-a0d829920270",
   "metadata": {},
   "outputs": [],
   "source": [
    "ds_list = [\"instagram\", \"nonsmoking\", \"synthetic\", \"virtualcoach\", \"WoZ\", \"test_drop\", \"optifast\"]\n",
    "classif_list = [\"function_Sentence\", \"nonfunction_Sentence\", \"non_noun_adj\"]"
   ]
  },
  {
   "cell_type": "code",
   "execution_count": null,
   "id": "60fb49c1-60b5-4ba4-8a53-54c878f70e67",
   "metadata": {},
   "outputs": [],
   "source": [
    "preds = []\n",
    "testset = []\n",
    "classifier = []\n",
    "ds_size = []\n",
    "\n",
    "for index, ds in enumerate(ds_list):\n",
    "    to_load = \"forum/\"+ds+\"_label_preproc.csv\"\n",
    "    forum_test = load_predict_testset(to_load, \"Sentence\", model_path=\"../MI_Data/Bert_Finetuning/models/labels/model\")\n",
    "    result = compute_test_metrics(forum_test, 'macro')\n",
    "    preds.append(result[\"f1\"])\n",
    "    testset.append(ds)\n",
    "    classifier.append(\"original\")\n",
    "    forum_test = load_predict_testset(to_load, \"Sentence\", model_path=\"../MI_Data/Bert_Finetuning/models/labels_undersampled/model\")\n",
    "    result = compute_test_metrics(forum_test, 'macro')\n",
    "    preds.append(result[\"f1\"])\n",
    "    testset.append(ds)\n",
    "    classifier.append(\"original_undersampled\")\n",
    "    ds_size.append(len(ds))\n",
    "    for jindex, classif in enumerate(classif_list):\n",
    "        path = \"classif/\"+classif+\"/model\"\n",
    "        forum_test = load_predict_testset(to_load, classif, model_path=path)\n",
    "        result = compute_test_metrics(forum_test, 'macro')\n",
    "        preds.append(result[\"f1\"])\n",
    "        testset.append(ds)\n",
    "        classifier.append(classif)\n",
    "    "
   ]
  },
  {
   "cell_type": "code",
   "execution_count": null,
   "id": "6c168859-2d6f-4ddb-a2d9-24046cad1593",
   "metadata": {},
   "outputs": [],
   "source": [
    "d = {\"Testset\":testset, \"classifier\":classifier, \"f1 score\":preds}\n",
    "resultslist = pd.DataFrame(d)"
   ]
  },
  {
   "cell_type": "code",
   "execution_count": null,
   "id": "4bf07674-9e91-4064-b22f-80fbe701d883",
   "metadata": {},
   "outputs": [],
   "source": [
    "resultslist.tail()"
   ]
  },
  {
   "cell_type": "code",
   "execution_count": null,
   "id": "bdff90c5-d60a-4bd0-991b-b2ec89dd8f32",
   "metadata": {},
   "outputs": [],
   "source": [
    "resultslist.to_csv(\"classification_results_ablations.csv\")"
   ]
  },
  {
   "cell_type": "code",
   "execution_count": null,
   "id": "38bc0345-8d4b-4154-9678-0c85840e2f9e",
   "metadata": {},
   "outputs": [],
   "source": []
  }
 ],
 "metadata": {
  "kernelspec": {
   "display_name": "Python 3 (ipykernel)",
   "language": "python",
   "name": "python3"
  },
  "language_info": {
   "codemirror_mode": {
    "name": "ipython",
    "version": 3
   },
   "file_extension": ".py",
   "mimetype": "text/x-python",
   "name": "python",
   "nbconvert_exporter": "python",
   "pygments_lexer": "ipython3",
   "version": "3.9.13"
  }
 },
 "nbformat": 4,
 "nbformat_minor": 5
}
