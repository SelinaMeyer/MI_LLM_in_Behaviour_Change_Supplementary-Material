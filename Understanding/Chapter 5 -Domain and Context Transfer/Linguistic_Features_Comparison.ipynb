{
 "cells": [
  {
   "cell_type": "code",
   "execution_count": null,
   "id": "a04223d5-867e-4413-853d-052833c1a39c",
   "metadata": {},
   "outputs": [],
   "source": [
    "!pip install germansentiment\n",
    "!pip install spacy\n",
    "!pip install -U sentence-transformers\n",
    "!python -m spacy download de_core_news_sm"
   ]
  },
  {
   "cell_type": "code",
   "execution_count": 1,
   "id": "45820f27-f818-4684-ace2-7cf994a1632b",
   "metadata": {},
   "outputs": [
    {
     "name": "stderr",
     "output_type": "stream",
     "text": [
      "2023-08-25 07:26:50.766448: I tensorflow/core/platform/cpu_feature_guard.cc:193] This TensorFlow binary is optimized with oneAPI Deep Neural Network Library (oneDNN) to use the following CPU instructions in performance-critical operations:  AVX2 AVX512F AVX512_VNNI FMA\n",
      "To enable them in other operations, rebuild TensorFlow with the appropriate compiler flags.\n",
      "2023-08-25 07:26:50.922375: I tensorflow/core/util/port.cc:104] oneDNN custom operations are on. You may see slightly different numerical results due to floating-point round-off errors from different computation orders. To turn them off, set the environment variable `TF_ENABLE_ONEDNN_OPTS=0`.\n",
      "2023-08-25 07:26:51.492405: W tensorflow/compiler/xla/stream_executor/platform/default/dso_loader.cc:64] Could not load dynamic library 'libnvinfer.so.7'; dlerror: libnvinfer.so.7: cannot open shared object file: No such file or directory; LD_LIBRARY_PATH: /usr/local/nvidia/lib:/usr/local/nvidia/lib64\n",
      "2023-08-25 07:26:51.492507: W tensorflow/compiler/xla/stream_executor/platform/default/dso_loader.cc:64] Could not load dynamic library 'libnvinfer_plugin.so.7'; dlerror: libnvinfer_plugin.so.7: cannot open shared object file: No such file or directory; LD_LIBRARY_PATH: /usr/local/nvidia/lib:/usr/local/nvidia/lib64\n",
      "2023-08-25 07:26:51.492527: W tensorflow/compiler/tf2tensorrt/utils/py_utils.cc:38] TF-TRT Warning: Cannot dlopen some TensorRT libraries. If you would like to use Nvidia GPU with TensorRT, please make sure the missing libraries mentioned above are installed properly.\n"
     ]
    }
   ],
   "source": [
    "import pandas as pd\n",
    "from sentence_transformers import SentenceTransformer, util\n",
    "import numpy as np\n",
    "from germansentiment import SentimentModel\n",
    "import spacy\n",
    "import torch\n",
    "nlp = spacy.load(\"de_core_news_sm\")"
   ]
  },
  {
   "cell_type": "code",
   "execution_count": 25,
   "id": "15f1d68d-1849-46f0-a3f1-15126626cd16",
   "metadata": {},
   "outputs": [],
   "source": [
    "ns = pd.read_csv(\"nonsmoking_label_preproc.csv\")\n",
    "ns.Sentence.to_csv(\"text/nonsmoking.txt\", index=False, header=False)\n",
    "insta = pd.read_csv(\"instagram_label_preproc.csv\")\n",
    "insta.Sentence.to_csv(\"text/insta.txt\", index=False, header=False)\n",
    "opti = pd.read_csv(\"optifast_label_preproc.csv\")\n",
    "opti.Sentence.to_csv(\"text/optifast.txt\", index=False, header=False)\n",
    "virtual = pd.read_csv(\"virtualcoach_label_preproc.csv\")\n",
    "virtual.Sentence.to_csv(\"text/health_coaching.txt\", index=False, header=False)\n",
    "woz = pd.read_csv(\"WoZ_label_preproc.csv\")\n",
    "woz.Sentence.to_csv(\"text/Darn_cat_woz.txt\", index=False, header=False)\n",
    "synth = pd.read_csv(\"gpt_output_for_pred.csv\")\n",
    "synth.Sentence.to_csv(\"text/synthetic.txt\", index=False, header=False)\n",
    "synth_labelled = pd.read_csv(\"synthetic_label_preproc.csv\")\n",
    "synth_labelled.Sentence.to_csv(\"text/synthetic_labelled.txt\", index=False, header=False)\n",
    "\n",
    "glohbcd = pd.read_csv(\"label_train_preprocessed.csv\")\n",
    "glo_test = pd.read_csv(\"test_label_preproc.csv\")\n",
    "glohbcd = pd.concat([glohbcd, glo_test])\n",
    "glohbcd.Sentence.to_csv(\"text/glohbcd.txt\", index=False, header=False)"
   ]
  },
  {
   "cell_type": "code",
   "execution_count": 6,
   "id": "6d3be887-c7f9-4b7a-a7a9-fc3f2fc6d029",
   "metadata": {},
   "outputs": [
    {
     "data": {
      "text/plain": [
       "4724"
      ]
     },
     "execution_count": 6,
     "metadata": {},
     "output_type": "execute_result"
    }
   ],
   "source": [
    "len(glohbcd)"
   ]
  },
  {
   "cell_type": "code",
   "execution_count": 7,
   "id": "9e552e85-af27-4747-82ce-5519e952907b",
   "metadata": {},
   "outputs": [],
   "source": [
    "model = SentimentModel()"
   ]
  },
  {
   "cell_type": "code",
   "execution_count": 14,
   "id": "95d76407-9c50-434a-b943-63a59137232c",
   "metadata": {},
   "outputs": [],
   "source": [
    "ns_sents = model.predict_sentiment(ns.Sentence)\n",
    "ns[\"sentiment\"] = ns_sents\n",
    "insta_sents = model.predict_sentiment(insta.Sentence)\n",
    "insta[\"sentiment\"] = insta_sents\n",
    "opti_sents = model.predict_sentiment(opti.Sentence)\n",
    "opti[\"sentiment\"]= opti_sents\n",
    "virtual_sents = model.predict_sentiment(virtual.Sentence)\n",
    "virtual[\"sentiment\"]= virtual_sents\n",
    "woz_sents = model.predict_sentiment(woz.Sentence)\n",
    "woz[\"sentiment\"]= woz_sents\n",
    "glohbcd_sents =  model.predict_sentiment(glohbcd.Sentence)\n",
    "glohbcd[\"sentiment\"]= glohbcd_sents\n",
    "synth_labelled_sents =  model.predict_sentiment(synth_labelled.Sentence)\n",
    "synth_labelled[\"sentiment\"] = synth_labelled_sents"
   ]
  },
  {
   "cell_type": "code",
   "execution_count": 15,
   "id": "dfb65b5a-c92c-483c-a208-5a1a12c1df07",
   "metadata": {},
   "outputs": [
    {
     "data": {
      "text/plain": [
       "negative    0.449624\n",
       "neutral     0.403008\n",
       "positive    0.147368\n",
       "Name: sentiment, dtype: float64"
      ]
     },
     "execution_count": 15,
     "metadata": {},
     "output_type": "execute_result"
    }
   ],
   "source": [
    "ns[\"sentiment\"].value_counts(normalize=True)"
   ]
  },
  {
   "cell_type": "code",
   "execution_count": 16,
   "id": "67943192-9654-4c47-9a47-d3a3b0a3bd00",
   "metadata": {},
   "outputs": [
    {
     "data": {
      "text/plain": [
       "negative    0.431461\n",
       "neutral     0.358427\n",
       "positive    0.210112\n",
       "Name: sentiment, dtype: float64"
      ]
     },
     "execution_count": 16,
     "metadata": {},
     "output_type": "execute_result"
    }
   ],
   "source": [
    "insta[\"sentiment\"].value_counts(normalize=True)"
   ]
  },
  {
   "cell_type": "code",
   "execution_count": 17,
   "id": "e03c5e00-fba4-44c1-ab55-48053fc5b198",
   "metadata": {},
   "outputs": [
    {
     "data": {
      "text/plain": [
       "neutral     0.493506\n",
       "positive    0.298701\n",
       "negative    0.207792\n",
       "Name: sentiment, dtype: float64"
      ]
     },
     "execution_count": 17,
     "metadata": {},
     "output_type": "execute_result"
    }
   ],
   "source": [
    "opti[\"sentiment\"].value_counts(normalize=True)"
   ]
  },
  {
   "cell_type": "code",
   "execution_count": 18,
   "id": "6449dedd-3af9-46ce-a853-d7e08294b096",
   "metadata": {},
   "outputs": [
    {
     "data": {
      "text/plain": [
       "neutral     0.417850\n",
       "negative    0.318458\n",
       "positive    0.263692\n",
       "Name: sentiment, dtype: float64"
      ]
     },
     "execution_count": 18,
     "metadata": {},
     "output_type": "execute_result"
    }
   ],
   "source": [
    "virtual[\"sentiment\"].value_counts(normalize=True)"
   ]
  },
  {
   "cell_type": "code",
   "execution_count": 19,
   "id": "ffdc19ca-5793-4f5b-ae89-815c92eca38a",
   "metadata": {},
   "outputs": [
    {
     "data": {
      "text/plain": [
       "neutral     0.436620\n",
       "negative    0.352113\n",
       "positive    0.211268\n",
       "Name: sentiment, dtype: float64"
      ]
     },
     "execution_count": 19,
     "metadata": {},
     "output_type": "execute_result"
    }
   ],
   "source": [
    "woz[\"sentiment\"].value_counts(normalize=True)"
   ]
  },
  {
   "cell_type": "code",
   "execution_count": 20,
   "id": "5d60b3c3-5e8b-41fb-b4b2-89d5277f7271",
   "metadata": {},
   "outputs": [
    {
     "data": {
      "text/plain": [
       "negative    0.461262\n",
       "neutral     0.397968\n",
       "positive    0.140771\n",
       "Name: sentiment, dtype: float64"
      ]
     },
     "execution_count": 20,
     "metadata": {},
     "output_type": "execute_result"
    }
   ],
   "source": [
    "glohbcd[\"sentiment\"].value_counts(normalize=True)"
   ]
  },
  {
   "cell_type": "code",
   "execution_count": null,
   "id": "a7910ce3-c9a9-438c-873f-7ace0520e03d",
   "metadata": {},
   "outputs": [],
   "source": [
    "synth_labelled[\"sentiment\"].value_counts(normalize=True)"
   ]
  },
  {
   "cell_type": "code",
   "execution_count": 8,
   "id": "8225ce73-3272-4d64-a996-eb6448fac9e1",
   "metadata": {},
   "outputs": [],
   "source": [
    "model = SentenceTransformer(\"Sahajtomar/German-semantic\")"
   ]
  },
  {
   "cell_type": "code",
   "execution_count": 12,
   "id": "9a8faf0a-f39d-47f8-8f89-faafaf56e23d",
   "metadata": {},
   "outputs": [],
   "source": [
    "embeddings_list = []\n",
    "list_names = [\"GloHBCD\", \"Smoking Cessation\", \"Instagram\", \"Optifast\", \n",
    "              \"Health Coaching Dialogues\", \"DARN-CT WoZ\", \"Synthetic\"]\n",
    "\n",
    "embeddings_list.append(model.encode(list(glohbcd[\"Sentence\"])))\n",
    "embeddings_list.append(model.encode(list(ns[\"Sentence\"])))\n",
    "embeddings_list.append(model.encode(list(insta[\"Sentence\"])))\n",
    "embeddings_list.append(model.encode(list(opti[\"Sentence\"])))\n",
    "embeddings_list.append(model.encode(list(virtual[\"Sentence\"])))\n",
    "embeddings_list.append(model.encode(list(woz[\"Sentence\"])))\n",
    "embeddings_list.append(model.encode(list(synth_labelled[\"Sentence\"])))"
   ]
  },
  {
   "cell_type": "code",
   "execution_count": 15,
   "id": "d97026b8-a380-4563-b910-f4380f8b043c",
   "metadata": {},
   "outputs": [
    {
     "name": "stdout",
     "output_type": "stream",
     "text": [
      "{'GloHBCD:GloHBCD': 0.24437515437602997, 'GloHBCD:Smoking Cessation': 0.22323471307754517, 'GloHBCD:Instagram': 0.2311495691537857, 'GloHBCD:Optifast': 0.24484606087207794, 'GloHBCD:Health Coaching Dialogues': 0.2306177020072937, 'GloHBCD:DARN-CT WoZ': 0.2180624157190323, 'Smoking Cessation:GloHBCD': 0.22323469817638397, 'Smoking Cessation:Smoking Cessation': 0.28225696086883545, 'Smoking Cessation:Instagram': 0.21067538857460022, 'Smoking Cessation:Optifast': 0.2179681956768036, 'Smoking Cessation:Health Coaching Dialogues': 0.23284660279750824, 'Smoking Cessation:DARN-CT WoZ': 0.21271398663520813, 'Instagram:GloHBCD': 0.2311495840549469, 'Instagram:Smoking Cessation': 0.2106754183769226, 'Instagram:Instagram': 0.2711181938648224, 'Instagram:Optifast': 0.23482486605644226, 'Instagram:Health Coaching Dialogues': 0.22607660293579102, 'Instagram:DARN-CT WoZ': 0.21015195548534393, 'Optifast:GloHBCD': 0.24484606087207794, 'Optifast:Smoking Cessation': 0.2179681956768036, 'Optifast:Instagram': 0.23482485115528107, 'Optifast:Optifast': 0.28460901975631714, 'Optifast:Health Coaching Dialogues': 0.23995020985603333, 'Optifast:DARN-CT WoZ': 0.24384798109531403, 'Health Coaching Dialogues:GloHBCD': 0.2306177318096161, 'Health Coaching Dialogues:Smoking Cessation': 0.23284661769866943, 'Health Coaching Dialogues:Instagram': 0.22607660293579102, 'Health Coaching Dialogues:Optifast': 0.23995020985603333, 'Health Coaching Dialogues:Health Coaching Dialogues': 0.3091408312320709, 'Health Coaching Dialogues:DARN-CT WoZ': 0.23696348071098328, 'DARN-CT WoZ:GloHBCD': 0.2180624157190323, 'DARN-CT WoZ:Smoking Cessation': 0.21271401643753052, 'DARN-CT WoZ:Instagram': 0.21015197038650513, 'DARN-CT WoZ:Optifast': 0.24384798109531403, 'DARN-CT WoZ:Health Coaching Dialogues': 0.23696348071098328, 'DARN-CT WoZ:DARN-CT WoZ': 0.2586468756198883}\n"
     ]
    }
   ],
   "source": [
    "comp = {}\n",
    "\n",
    "for index, entry in enumerate(embeddings_list):\n",
    "    for jindex, jentry in enumerate(embeddings_list):\n",
    "        cos_sim = util.cos_sim(entry, jentry)\n",
    "        comp[list_names[index] + \":\" + list_names[jindex]] = torch.mean(cos_sim).item()\n",
    "\n",
    "print(comp)"
   ]
  },
  {
   "cell_type": "code",
   "execution_count": 17,
   "id": "600ae2c0-ce12-408e-a641-40e1b247fce1",
   "metadata": {},
   "outputs": [
    {
     "data": {
      "text/html": [
       "<div>\n",
       "<style scoped>\n",
       "    .dataframe tbody tr th:only-of-type {\n",
       "        vertical-align: middle;\n",
       "    }\n",
       "\n",
       "    .dataframe tbody tr th {\n",
       "        vertical-align: top;\n",
       "    }\n",
       "\n",
       "    .dataframe thead th {\n",
       "        text-align: right;\n",
       "    }\n",
       "</style>\n",
       "<table border=\"1\" class=\"dataframe\">\n",
       "  <thead>\n",
       "    <tr style=\"text-align: right;\">\n",
       "      <th></th>\n",
       "      <th>0</th>\n",
       "    </tr>\n",
       "  </thead>\n",
       "  <tbody>\n",
       "    <tr>\n",
       "      <th>GloHBCD:GloHBCD</th>\n",
       "      <td>0.244375</td>\n",
       "    </tr>\n",
       "    <tr>\n",
       "      <th>GloHBCD:Smoking Cessation</th>\n",
       "      <td>0.223235</td>\n",
       "    </tr>\n",
       "    <tr>\n",
       "      <th>GloHBCD:Instagram</th>\n",
       "      <td>0.231150</td>\n",
       "    </tr>\n",
       "    <tr>\n",
       "      <th>GloHBCD:Optifast</th>\n",
       "      <td>0.244846</td>\n",
       "    </tr>\n",
       "    <tr>\n",
       "      <th>GloHBCD:Health Coaching Dialogues</th>\n",
       "      <td>0.230618</td>\n",
       "    </tr>\n",
       "    <tr>\n",
       "      <th>GloHBCD:DARN-CT WoZ</th>\n",
       "      <td>0.218062</td>\n",
       "    </tr>\n",
       "    <tr>\n",
       "      <th>Smoking Cessation:GloHBCD</th>\n",
       "      <td>0.223235</td>\n",
       "    </tr>\n",
       "    <tr>\n",
       "      <th>Smoking Cessation:Smoking Cessation</th>\n",
       "      <td>0.282257</td>\n",
       "    </tr>\n",
       "    <tr>\n",
       "      <th>Smoking Cessation:Instagram</th>\n",
       "      <td>0.210675</td>\n",
       "    </tr>\n",
       "    <tr>\n",
       "      <th>Smoking Cessation:Optifast</th>\n",
       "      <td>0.217968</td>\n",
       "    </tr>\n",
       "    <tr>\n",
       "      <th>Smoking Cessation:Health Coaching Dialogues</th>\n",
       "      <td>0.232847</td>\n",
       "    </tr>\n",
       "    <tr>\n",
       "      <th>Smoking Cessation:DARN-CT WoZ</th>\n",
       "      <td>0.212714</td>\n",
       "    </tr>\n",
       "    <tr>\n",
       "      <th>Instagram:GloHBCD</th>\n",
       "      <td>0.231150</td>\n",
       "    </tr>\n",
       "    <tr>\n",
       "      <th>Instagram:Smoking Cessation</th>\n",
       "      <td>0.210675</td>\n",
       "    </tr>\n",
       "    <tr>\n",
       "      <th>Instagram:Instagram</th>\n",
       "      <td>0.271118</td>\n",
       "    </tr>\n",
       "    <tr>\n",
       "      <th>Instagram:Optifast</th>\n",
       "      <td>0.234825</td>\n",
       "    </tr>\n",
       "    <tr>\n",
       "      <th>Instagram:Health Coaching Dialogues</th>\n",
       "      <td>0.226077</td>\n",
       "    </tr>\n",
       "    <tr>\n",
       "      <th>Instagram:DARN-CT WoZ</th>\n",
       "      <td>0.210152</td>\n",
       "    </tr>\n",
       "    <tr>\n",
       "      <th>Optifast:GloHBCD</th>\n",
       "      <td>0.244846</td>\n",
       "    </tr>\n",
       "    <tr>\n",
       "      <th>Optifast:Smoking Cessation</th>\n",
       "      <td>0.217968</td>\n",
       "    </tr>\n",
       "    <tr>\n",
       "      <th>Optifast:Instagram</th>\n",
       "      <td>0.234825</td>\n",
       "    </tr>\n",
       "    <tr>\n",
       "      <th>Optifast:Optifast</th>\n",
       "      <td>0.284609</td>\n",
       "    </tr>\n",
       "    <tr>\n",
       "      <th>Optifast:Health Coaching Dialogues</th>\n",
       "      <td>0.239950</td>\n",
       "    </tr>\n",
       "    <tr>\n",
       "      <th>Optifast:DARN-CT WoZ</th>\n",
       "      <td>0.243848</td>\n",
       "    </tr>\n",
       "    <tr>\n",
       "      <th>Health Coaching Dialogues:GloHBCD</th>\n",
       "      <td>0.230618</td>\n",
       "    </tr>\n",
       "    <tr>\n",
       "      <th>Health Coaching Dialogues:Smoking Cessation</th>\n",
       "      <td>0.232847</td>\n",
       "    </tr>\n",
       "    <tr>\n",
       "      <th>Health Coaching Dialogues:Instagram</th>\n",
       "      <td>0.226077</td>\n",
       "    </tr>\n",
       "    <tr>\n",
       "      <th>Health Coaching Dialogues:Optifast</th>\n",
       "      <td>0.239950</td>\n",
       "    </tr>\n",
       "    <tr>\n",
       "      <th>Health Coaching Dialogues:Health Coaching Dialogues</th>\n",
       "      <td>0.309141</td>\n",
       "    </tr>\n",
       "    <tr>\n",
       "      <th>Health Coaching Dialogues:DARN-CT WoZ</th>\n",
       "      <td>0.236963</td>\n",
       "    </tr>\n",
       "    <tr>\n",
       "      <th>DARN-CT WoZ:GloHBCD</th>\n",
       "      <td>0.218062</td>\n",
       "    </tr>\n",
       "    <tr>\n",
       "      <th>DARN-CT WoZ:Smoking Cessation</th>\n",
       "      <td>0.212714</td>\n",
       "    </tr>\n",
       "    <tr>\n",
       "      <th>DARN-CT WoZ:Instagram</th>\n",
       "      <td>0.210152</td>\n",
       "    </tr>\n",
       "    <tr>\n",
       "      <th>DARN-CT WoZ:Optifast</th>\n",
       "      <td>0.243848</td>\n",
       "    </tr>\n",
       "    <tr>\n",
       "      <th>DARN-CT WoZ:Health Coaching Dialogues</th>\n",
       "      <td>0.236963</td>\n",
       "    </tr>\n",
       "    <tr>\n",
       "      <th>DARN-CT WoZ:DARN-CT WoZ</th>\n",
       "      <td>0.258647</td>\n",
       "    </tr>\n",
       "  </tbody>\n",
       "</table>\n",
       "</div>"
      ],
      "text/plain": [
       "                                                           0\n",
       "GloHBCD:GloHBCD                                     0.244375\n",
       "GloHBCD:Smoking Cessation                           0.223235\n",
       "GloHBCD:Instagram                                   0.231150\n",
       "GloHBCD:Optifast                                    0.244846\n",
       "GloHBCD:Health Coaching Dialogues                   0.230618\n",
       "GloHBCD:DARN-CT WoZ                                 0.218062\n",
       "Smoking Cessation:GloHBCD                           0.223235\n",
       "Smoking Cessation:Smoking Cessation                 0.282257\n",
       "Smoking Cessation:Instagram                         0.210675\n",
       "Smoking Cessation:Optifast                          0.217968\n",
       "Smoking Cessation:Health Coaching Dialogues         0.232847\n",
       "Smoking Cessation:DARN-CT WoZ                       0.212714\n",
       "Instagram:GloHBCD                                   0.231150\n",
       "Instagram:Smoking Cessation                         0.210675\n",
       "Instagram:Instagram                                 0.271118\n",
       "Instagram:Optifast                                  0.234825\n",
       "Instagram:Health Coaching Dialogues                 0.226077\n",
       "Instagram:DARN-CT WoZ                               0.210152\n",
       "Optifast:GloHBCD                                    0.244846\n",
       "Optifast:Smoking Cessation                          0.217968\n",
       "Optifast:Instagram                                  0.234825\n",
       "Optifast:Optifast                                   0.284609\n",
       "Optifast:Health Coaching Dialogues                  0.239950\n",
       "Optifast:DARN-CT WoZ                                0.243848\n",
       "Health Coaching Dialogues:GloHBCD                   0.230618\n",
       "Health Coaching Dialogues:Smoking Cessation         0.232847\n",
       "Health Coaching Dialogues:Instagram                 0.226077\n",
       "Health Coaching Dialogues:Optifast                  0.239950\n",
       "Health Coaching Dialogues:Health Coaching Dialo...  0.309141\n",
       "Health Coaching Dialogues:DARN-CT WoZ               0.236963\n",
       "DARN-CT WoZ:GloHBCD                                 0.218062\n",
       "DARN-CT WoZ:Smoking Cessation                       0.212714\n",
       "DARN-CT WoZ:Instagram                               0.210152\n",
       "DARN-CT WoZ:Optifast                                0.243848\n",
       "DARN-CT WoZ:Health Coaching Dialogues               0.236963\n",
       "DARN-CT WoZ:DARN-CT WoZ                             0.258647"
      ]
     },
     "execution_count": 17,
     "metadata": {},
     "output_type": "execute_result"
    }
   ],
   "source": [
    "pd.DataFrame.from_dict(comp, orient=\"index\")"
   ]
  },
  {
   "cell_type": "code",
   "execution_count": 4,
   "id": "e4267539-5753-45a6-a9f6-17c3b48f32e8",
   "metadata": {},
   "outputs": [],
   "source": [
    "from sklearn.feature_extraction.text import CountVectorizer\n",
    "vec = CountVectorizer()"
   ]
  },
  {
   "cell_type": "code",
   "execution_count": 35,
   "id": "13fa1250-b66a-4788-96f4-2ebf91ad0041",
   "metadata": {},
   "outputs": [],
   "source": [
    "def calculate_ttr(tokens):\n",
    "    vec = CountVectorizer()\n",
    "    vectors = vec.fit_transform(tokens)\n",
    "    types = len(vec.get_feature_names())\n",
    "    ttr = types / len(tokens)\n",
    "    return ttr\n",
    "\n",
    "def get_lemma_info(ds, texts, lemmatize=False, batch_size=100):\n",
    "    tokens = []\n",
    "    sentence_lengths = []\n",
    "    all_tokens = []\n",
    "\n",
    "    for entry in texts:\n",
    "        doc = nlp(entry)\n",
    "        #tokens.append(' '.join([token.text for token in doc if not token.is_punct]))\n",
    "        sentence_lengths.append(len(doc))\n",
    "        if lemmatize:\n",
    "            all_tokens.extend([token.lemma_ for token in doc if not token.is_punct and not token.is_space])\n",
    "        else:\n",
    "            all_tokens.extend([token.text for token in doc if not token.is_punct and not token.is_space])\n",
    "        \n",
    "    vec = CountVectorizer()\n",
    "    vectors = vec.fit_transform(all_tokens)\n",
    "    types = len(vec.get_feature_names())   \n",
    "    \n",
    "    counts = pd.DataFrame(vectors.toarray(),\n",
    "                      columns=vec.get_feature_names())\n",
    "    counted = counts.T.sort_values(by=0, ascending=False)\n",
    "    counted[\"sum\"] = counted.sum(axis=1)\n",
    "    \n",
    "    ttr_values = []\n",
    "    batch_tokens = []\n",
    "    \n",
    "    print(all_tokens[0])\n",
    "    print(len(all_tokens))\n",
    "    \n",
    "    for token in all_tokens:\n",
    "        batch_tokens.append(token)\n",
    "        if len(batch_tokens) >= batch_size:\n",
    "            ttr = calculate_ttr(batch_tokens)\n",
    "            ttr_values.append(ttr)\n",
    "            batch_tokens = []\n",
    "    \n",
    "    ttr = types/len(all_tokens)\n",
    "    if len(ttr_values) > 0:     \n",
    "        mean_ttr = sum(ttr_values) / len(ttr_values)\n",
    "        #print(ttr_values, len(ttr_values))\n",
    "    else: \n",
    "        mean_ttr = ttr\n",
    "    \n",
    "    mean_lemma_occurrence = counted[\"sum\"].mean()\n",
    "    num_over_10_occurrences = len(counted[counted[\"sum\"] >= 10])\n",
    "    token_frame = pd.DataFrame(all_tokens)\n",
    "    token_frame.to_csv(f\"text/{ds}-lemmas.txt\", header=None, index=None)\n",
    "    print(f\"\"\"{ds} Total Tokens: {len(all_tokens)},\n",
    "            Types: {types},\n",
    "            TTR: {ttr},\n",
    "            Mean Token Occurrence Count: {mean_lemma_occurrence}, \n",
    "            Number of Lemmas occurring more than 10 times: {num_over_10_occurrences},\n",
    "            Mean Sentence Length (in tokens): {sum(sentence_lengths) / len(sentence_lengths)},\n",
    "            Mean Standardized Type-Token Ratio (TTR): {mean_ttr}\"\"\")"
   ]
  },
  {
   "cell_type": "code",
   "execution_count": null,
   "id": "52b780a1-b9ad-4918-9706-23ca8044ec73",
   "metadata": {},
   "outputs": [],
   "source": [
    "get_lemma_info(\"Smoking Cessation\", ns[\"Sentence\"])\n",
    "get_lemma_info(\"Instagram\", insta[\"Sentence\"])\n",
    "get_lemma_info(\"DARN-CT WoZ\", woz[\"Sentence\"])\n",
    "get_lemma_info(\"GLoHBCD\", glohbcd[\"Sentence\"])\n",
    "get_lemma_info(\"Optifast\", opti[\"Sentence\"])\n",
    "get_lemma_info(\"Health Coaching Dialogues\", virtual[\"Sentence\"])\n",
    "get_lemma_info(\"Synthetic\", synth[\"Sentence\"])"
   ]
  },
  {
   "cell_type": "code",
   "execution_count": 36,
   "id": "904d6a1d-cfb7-437c-8122-19d24f3c7555",
   "metadata": {},
   "outputs": [
    {
     "name": "stdout",
     "output_type": "stream",
     "text": [
      "eigentlich\n",
      "9257\n",
      "Smoking Cessation Total Tokens: 9257,\n",
      "            Types: 1732,\n",
      "            TTR: 0.187101652803284,\n",
      "            Mean Token Occurrence Count: 5.318706697459584, \n",
      "            Number of Lemmas occurring more than 10 times: 130,\n",
      "            Mean Sentence Length (in tokens): 17.21954887218045,\n",
      "            Mean Standardized Type-Token Ratio (TTR): 0.6908695652173912\n"
     ]
    },
    {
     "name": "stderr",
     "output_type": "stream",
     "text": [
      "/opt/conda/lib/python3.9/site-packages/sklearn/utils/deprecation.py:87: FutureWarning: Function get_feature_names is deprecated; get_feature_names is deprecated in 1.0 and will be removed in 1.2. Please use get_feature_names_out instead.\n",
      "  warnings.warn(msg, category=FutureWarning)\n"
     ]
    },
    {
     "name": "stdout",
     "output_type": "stream",
     "text": [
      "es\n",
      "15894\n"
     ]
    },
    {
     "name": "stderr",
     "output_type": "stream",
     "text": [
      "/opt/conda/lib/python3.9/site-packages/sklearn/utils/deprecation.py:87: FutureWarning: Function get_feature_names is deprecated; get_feature_names is deprecated in 1.0 and will be removed in 1.2. Please use get_feature_names_out instead.\n",
      "  warnings.warn(msg, category=FutureWarning)\n"
     ]
    },
    {
     "name": "stdout",
     "output_type": "stream",
     "text": [
      "Instagram Total Tokens: 15894,\n",
      "            Types: 2708,\n",
      "            TTR: 0.17037875928023152,\n",
      "            Mean Token Occurrence Count: 5.807607090103398, \n",
      "            Number of Lemmas occurring more than 10 times: 205,\n",
      "            Mean Sentence Length (in tokens): 21.42247191011236,\n",
      "            Mean Standardized Type-Token Ratio (TTR): 0.7182278481012662\n",
      "ich\n",
      "616\n",
      "DARN-CT WoZ Total Tokens: 616,\n",
      "            Types: 274,\n",
      "            TTR: 0.4448051948051948,\n",
      "            Mean Token Occurrence Count: 2.2481751824817517, \n",
      "            Number of Lemmas occurring more than 10 times: 11,\n",
      "            Mean Sentence Length (in tokens): 9.549295774647888,\n",
      "            Mean Standardized Type-Token Ratio (TTR): 0.6683333333333334\n"
     ]
    },
    {
     "name": "stderr",
     "output_type": "stream",
     "text": [
      "/opt/conda/lib/python3.9/site-packages/sklearn/utils/deprecation.py:87: FutureWarning: Function get_feature_names is deprecated; get_feature_names is deprecated in 1.0 and will be removed in 1.2. Please use get_feature_names_out instead.\n",
      "  warnings.warn(msg, category=FutureWarning)\n"
     ]
    },
    {
     "name": "stdout",
     "output_type": "stream",
     "text": [
      "ich\n",
      "73021\n"
     ]
    },
    {
     "name": "stderr",
     "output_type": "stream",
     "text": [
      "/opt/conda/lib/python3.9/site-packages/sklearn/utils/deprecation.py:87: FutureWarning: Function get_feature_names is deprecated; get_feature_names is deprecated in 1.0 and will be removed in 1.2. Please use get_feature_names_out instead.\n",
      "  warnings.warn(msg, category=FutureWarning)\n"
     ]
    },
    {
     "name": "stdout",
     "output_type": "stream",
     "text": [
      "GLoHBCD Total Tokens: 73021,\n",
      "            Types: 6496,\n",
      "            TTR: 0.08896070993275906,\n",
      "            Mean Token Occurrence Count: 11.175646551724139, \n",
      "            Number of Lemmas occurring more than 10 times: 689,\n",
      "            Mean Sentence Length (in tokens): 18.809906858594413,\n",
      "            Mean Standardized Type-Token Ratio (TTR): 0.7207945205479448\n",
      "ich\n",
      "847\n",
      "Optifast Total Tokens: 847,\n",
      "            Types: 343,\n",
      "            TTR: 0.4049586776859504,\n",
      "            Mean Token Occurrence Count: 2.4723032069970845, \n",
      "            Number of Lemmas occurring more than 10 times: 13,\n",
      "            Mean Sentence Length (in tokens): 12.545454545454545,\n",
      "            Mean Standardized Type-Token Ratio (TTR): 0.7325\n"
     ]
    },
    {
     "name": "stderr",
     "output_type": "stream",
     "text": [
      "/opt/conda/lib/python3.9/site-packages/sklearn/utils/deprecation.py:87: FutureWarning: Function get_feature_names is deprecated; get_feature_names is deprecated in 1.0 and will be removed in 1.2. Please use get_feature_names_out instead.\n",
      "  warnings.warn(msg, category=FutureWarning)\n"
     ]
    },
    {
     "name": "stdout",
     "output_type": "stream",
     "text": [
      "Danke\n",
      "6094\n",
      "Health Coaching Dialogues Total Tokens: 6094,\n",
      "            Types: 858,\n",
      "            TTR: 0.1407942238267148,\n",
      "            Mean Token Occurrence Count: 7.026806526806527, \n",
      "            Number of Lemmas occurring more than 10 times: 98,\n",
      "            Mean Sentence Length (in tokens): 14.529411764705882,\n",
      "            Mean Standardized Type-Token Ratio (TTR): 0.5978333333333335\n"
     ]
    },
    {
     "name": "stderr",
     "output_type": "stream",
     "text": [
      "/opt/conda/lib/python3.9/site-packages/sklearn/utils/deprecation.py:87: FutureWarning: Function get_feature_names is deprecated; get_feature_names is deprecated in 1.0 and will be removed in 1.2. Please use get_feature_names_out instead.\n",
      "  warnings.warn(msg, category=FutureWarning)\n"
     ]
    },
    {
     "name": "stdout",
     "output_type": "stream",
     "text": [
      "ich\n",
      "244224\n"
     ]
    },
    {
     "name": "stderr",
     "output_type": "stream",
     "text": [
      "/opt/conda/lib/python3.9/site-packages/sklearn/utils/deprecation.py:87: FutureWarning: Function get_feature_names is deprecated; get_feature_names is deprecated in 1.0 and will be removed in 1.2. Please use get_feature_names_out instead.\n",
      "  warnings.warn(msg, category=FutureWarning)\n"
     ]
    },
    {
     "name": "stdout",
     "output_type": "stream",
     "text": [
      "Synthetic Total Tokens: 244224,\n",
      "            Types: 4263,\n",
      "            TTR: 0.017455286949685535,\n",
      "            Mean Token Occurrence Count: 57.25076237391508, \n",
      "            Number of Lemmas occurring more than 10 times: 910,\n",
      "            Mean Sentence Length (in tokens): 11.9142416055577,\n",
      "            Mean Standardized Type-Token Ratio (TTR): 0.5372440622440593\n"
     ]
    }
   ],
   "source": [
    "get_lemma_info(\"Smoking Cessation\", ns[\"Sentence\"], lemmatize=True)\n",
    "get_lemma_info(\"Instagram\", insta[\"Sentence\"], lemmatize=True)\n",
    "get_lemma_info(\"DARN-CT WoZ\", woz[\"Sentence\"], lemmatize=True)\n",
    "get_lemma_info(\"GLoHBCD\", glohbcd[\"Sentence\"], lemmatize=True)\n",
    "get_lemma_info(\"Optifast\", opti[\"Sentence\"], lemmatize=True)\n",
    "get_lemma_info(\"Health Coaching Dialogues\", virtual[\"Sentence\"], lemmatize=True)\n",
    "get_lemma_info(\"Synthetic\", synth[\"Sentence\"], lemmatize=True)"
   ]
  },
  {
   "cell_type": "code",
   "execution_count": 37,
   "id": "07596f81-7fd3-49b4-bd9d-fe288228fa85",
   "metadata": {},
   "outputs": [
    {
     "name": "stdout",
     "output_type": "stream",
     "text": [
      "ich\n",
      "686\n",
      "Synthetic Test Total Tokens: 686,\n",
      "            Types: 148,\n",
      "            TTR: 0.21574344023323616,\n",
      "            Mean Token Occurrence Count: 4.635135135135135, \n",
      "            Number of Lemmas occurring more than 10 times: 17,\n",
      "            Mean Sentence Length (in tokens): 11.256756756756756,\n",
      "            Mean Standardized Type-Token Ratio (TTR): 0.5\n"
     ]
    },
    {
     "name": "stderr",
     "output_type": "stream",
     "text": [
      "/opt/conda/lib/python3.9/site-packages/sklearn/utils/deprecation.py:87: FutureWarning: Function get_feature_names is deprecated; get_feature_names is deprecated in 1.0 and will be removed in 1.2. Please use get_feature_names_out instead.\n",
      "  warnings.warn(msg, category=FutureWarning)\n"
     ]
    }
   ],
   "source": [
    "get_lemma_info(\"Synthetic_Test\", synth_labelled[\"Sentence\"], lemmatize=True)"
   ]
  },
  {
   "cell_type": "code",
   "execution_count": 26,
   "id": "3821f5bd-f37b-4947-9e8c-a6734b52b1af",
   "metadata": {},
   "outputs": [
    {
     "data": {
      "text/plain": [
       "0.018844092619865815"
      ]
     },
     "execution_count": 26,
     "metadata": {},
     "output_type": "execute_result"
    }
   ],
   "source": [
    "3685/195552"
   ]
  },
  {
   "cell_type": "code",
   "execution_count": 27,
   "id": "31cb2155-1103-41db-9d10-ae8234f02a68",
   "metadata": {},
   "outputs": [
    {
     "data": {
      "text/plain": [
       "4724"
      ]
     },
     "execution_count": 27,
     "metadata": {},
     "output_type": "execute_result"
    }
   ],
   "source": [
    "len(glohbcd)"
   ]
  },
  {
   "cell_type": "code",
   "execution_count": 28,
   "id": "dca637e4-09ed-41a1-95be-794bc73c8412",
   "metadata": {},
   "outputs": [
    {
     "data": {
      "text/plain": [
       "25910"
      ]
     },
     "execution_count": 28,
     "metadata": {},
     "output_type": "execute_result"
    }
   ],
   "source": [
    "len(synth)"
   ]
  },
  {
   "cell_type": "code",
   "execution_count": 38,
   "id": "451170a7-5d91-4e25-b6ca-b06a295225b6",
   "metadata": {},
   "outputs": [
    {
     "name": "stdout",
     "output_type": "stream",
     "text": [
      "ich\n",
      "73021\n"
     ]
    },
    {
     "name": "stderr",
     "output_type": "stream",
     "text": [
      "/opt/conda/lib/python3.9/site-packages/sklearn/utils/deprecation.py:87: FutureWarning: Function get_feature_names is deprecated; get_feature_names is deprecated in 1.0 and will be removed in 1.2. Please use get_feature_names_out instead.\n",
      "  warnings.warn(msg, category=FutureWarning)\n"
     ]
    },
    {
     "name": "stdout",
     "output_type": "stream",
     "text": [
      "GLoHBCD Total Tokens: 73021,\n",
      "            Types: 6496,\n",
      "            TTR: 0.08896070993275906,\n",
      "            Mean Token Occurrence Count: 11.175646551724139, \n",
      "            Number of Lemmas occurring more than 10 times: 689,\n",
      "            Mean Sentence Length (in tokens): 18.809906858594413,\n",
      "            Mean Standardized Type-Token Ratio (TTR): 0.4144931506849314\n",
      "ich\n",
      "244224\n"
     ]
    },
    {
     "name": "stderr",
     "output_type": "stream",
     "text": [
      "/opt/conda/lib/python3.9/site-packages/sklearn/utils/deprecation.py:87: FutureWarning: Function get_feature_names is deprecated; get_feature_names is deprecated in 1.0 and will be removed in 1.2. Please use get_feature_names_out instead.\n",
      "  warnings.warn(msg, category=FutureWarning)\n"
     ]
    },
    {
     "name": "stdout",
     "output_type": "stream",
     "text": [
      "Synthetic Total Tokens: 244224,\n",
      "            Types: 4263,\n",
      "            TTR: 0.017455286949685535,\n",
      "            Mean Token Occurrence Count: 57.25076237391508, \n",
      "            Number of Lemmas occurring more than 10 times: 910,\n",
      "            Mean Sentence Length (in tokens): 11.9142416055577,\n",
      "            Mean Standardized Type-Token Ratio (TTR): 0.21875409836065576\n"
     ]
    }
   ],
   "source": [
    "get_lemma_info(\"GLoHBCD\", glohbcd[\"Sentence\"], lemmatize=True, batch_size=1000)\n",
    "get_lemma_info(\"Synthetic\", synth[\"Sentence\"], lemmatize=True, batch_size=1000)"
   ]
  },
  {
   "cell_type": "code",
   "execution_count": null,
   "id": "7d3f66cb-ba3b-4b88-95e7-4a5378988ca7",
   "metadata": {},
   "outputs": [],
   "source": [
    "."
   ]
  }
 ],
 "metadata": {
  "kernelspec": {
   "display_name": "Python 3 (ipykernel)",
   "language": "python",
   "name": "python3"
  },
  "language_info": {
   "codemirror_mode": {
    "name": "ipython",
    "version": 3
   },
   "file_extension": ".py",
   "mimetype": "text/x-python",
   "name": "python",
   "nbconvert_exporter": "python",
   "pygments_lexer": "ipython3",
   "version": "3.9.13"
  }
 },
 "nbformat": 4,
 "nbformat_minor": 5
}
