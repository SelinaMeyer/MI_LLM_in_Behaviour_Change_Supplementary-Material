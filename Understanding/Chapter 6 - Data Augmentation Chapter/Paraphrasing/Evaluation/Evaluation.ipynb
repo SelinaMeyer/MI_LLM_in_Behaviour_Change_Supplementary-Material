{
 "cells": [
  {
   "cell_type": "code",
   "execution_count": 1,
   "id": "9add3536-1f82-49a2-bce2-3dcd2ec75e75",
   "metadata": {},
   "outputs": [],
   "source": [
    "import pandas as pd\n",
    "import numpy as np\n",
    "import seaborn as sns\n",
    "import matplotlib.pyplot as plt"
   ]
  },
  {
   "cell_type": "code",
   "execution_count": 2,
   "id": "98bde945-b2c7-4d8e-a58c-e933145b619c",
   "metadata": {},
   "outputs": [],
   "source": [
    "classif = pd.Series([\"Original Data\", \"All Paraphrases\", \"Similarity < 0.8\", \"Similarity < 0.4\", \n",
    "                    \"4 Least Similar\", \"2 Least Similar\"])\n",
    "\n",
    "results = pd.Series([0.753,0.696,0.66,0.6969,0.7385,0.7429])"
   ]
  },
  {
   "cell_type": "code",
   "execution_count": 3,
   "id": "ba207357-dbd8-46fb-ad09-b40e6bca2275",
   "metadata": {},
   "outputs": [],
   "source": [
    "res = pd.DataFrame([classif, results])"
   ]
  },
  {
   "cell_type": "code",
   "execution_count": 4,
   "id": "c0c9f2ec-ec7c-4c63-a606-c3c5d254d26a",
   "metadata": {},
   "outputs": [
    {
     "data": {
      "text/html": [
       "<div>\n",
       "<style scoped>\n",
       "    .dataframe tbody tr th:only-of-type {\n",
       "        vertical-align: middle;\n",
       "    }\n",
       "\n",
       "    .dataframe tbody tr th {\n",
       "        vertical-align: top;\n",
       "    }\n",
       "\n",
       "    .dataframe thead th {\n",
       "        text-align: right;\n",
       "    }\n",
       "</style>\n",
       "<table border=\"1\" class=\"dataframe\">\n",
       "  <thead>\n",
       "    <tr style=\"text-align: right;\">\n",
       "      <th></th>\n",
       "      <th>0</th>\n",
       "      <th>1</th>\n",
       "      <th>2</th>\n",
       "      <th>3</th>\n",
       "      <th>4</th>\n",
       "      <th>5</th>\n",
       "    </tr>\n",
       "  </thead>\n",
       "  <tbody>\n",
       "    <tr>\n",
       "      <th>0</th>\n",
       "      <td>Original Data</td>\n",
       "      <td>All Paraphrases</td>\n",
       "      <td>Similarity &lt; 0.8</td>\n",
       "      <td>Similarity &lt; 0.4</td>\n",
       "      <td>4 Least Similar</td>\n",
       "      <td>2 Least Similar</td>\n",
       "    </tr>\n",
       "    <tr>\n",
       "      <th>1</th>\n",
       "      <td>0.753</td>\n",
       "      <td>0.696</td>\n",
       "      <td>0.66</td>\n",
       "      <td>0.6969</td>\n",
       "      <td>0.7385</td>\n",
       "      <td>0.7429</td>\n",
       "    </tr>\n",
       "  </tbody>\n",
       "</table>\n",
       "</div>"
      ],
      "text/plain": [
       "               0                1                 2                 3  \\\n",
       "0  Original Data  All Paraphrases  Similarity < 0.8  Similarity < 0.4   \n",
       "1          0.753            0.696              0.66            0.6969   \n",
       "\n",
       "                 4                5  \n",
       "0  4 Least Similar  2 Least Similar  \n",
       "1           0.7385           0.7429  "
      ]
     },
     "execution_count": 4,
     "metadata": {},
     "output_type": "execute_result"
    }
   ],
   "source": [
    "res.head()"
   ]
  },
  {
   "cell_type": "code",
   "execution_count": 2,
   "id": "af34a2cb-5ab7-403d-963c-de585d9a159b",
   "metadata": {},
   "outputs": [],
   "source": [
    "lowest_two = pd.read_csv(\"lowest_two_of_20_new_datasets.csv\").sort_values(['Unnamed: 1', 'f1'], ascending=False)\n",
    "origs = pd.read_csv(\"../../CUI_23/metrics/new/Sentence_test_sets_metrics.csv\").sort_values(['Unnamed: 1', 'f1'], ascending=False)\n",
    "lower_4 = pd.read_csv(\"lower_4_20_new_datasets.csv\").sort_values(['Unnamed: 1', 'f1'], ascending=False)"
   ]
  },
  {
   "cell_type": "code",
   "execution_count": 3,
   "id": "ccec073b-3f91-47cf-a932-504f5af40347",
   "metadata": {},
   "outputs": [
    {
     "data": {
      "text/html": [
       "<div>\n",
       "<style scoped>\n",
       "    .dataframe tbody tr th:only-of-type {\n",
       "        vertical-align: middle;\n",
       "    }\n",
       "\n",
       "    .dataframe tbody tr th {\n",
       "        vertical-align: top;\n",
       "    }\n",
       "\n",
       "    .dataframe thead th {\n",
       "        text-align: right;\n",
       "    }\n",
       "</style>\n",
       "<table border=\"1\" class=\"dataframe\">\n",
       "  <thead>\n",
       "    <tr style=\"text-align: right;\">\n",
       "      <th></th>\n",
       "      <th>Unnamed: 0</th>\n",
       "      <th>Unnamed: 1</th>\n",
       "      <th>accuracy</th>\n",
       "      <th>f1</th>\n",
       "      <th>precision</th>\n",
       "      <th>recall</th>\n",
       "    </tr>\n",
       "  </thead>\n",
       "  <tbody>\n",
       "    <tr>\n",
       "      <th>44</th>\n",
       "      <td>2</td>\n",
       "      <td>Synthetic GPT3 Data</td>\n",
       "      <td>0.945946</td>\n",
       "      <td>0.942735</td>\n",
       "      <td>0.921569</td>\n",
       "      <td>0.975309</td>\n",
       "    </tr>\n",
       "    <tr>\n",
       "      <th>156</th>\n",
       "      <td>9</td>\n",
       "      <td>Synthetic GPT3 Data</td>\n",
       "      <td>0.945946</td>\n",
       "      <td>0.920635</td>\n",
       "      <td>0.891667</td>\n",
       "      <td>0.955840</td>\n",
       "    </tr>\n",
       "    <tr>\n",
       "      <th>76</th>\n",
       "      <td>4</td>\n",
       "      <td>Synthetic GPT3 Data</td>\n",
       "      <td>0.932432</td>\n",
       "      <td>0.907486</td>\n",
       "      <td>0.875000</td>\n",
       "      <td>0.949668</td>\n",
       "    </tr>\n",
       "    <tr>\n",
       "      <th>92</th>\n",
       "      <td>5</td>\n",
       "      <td>Synthetic GPT3 Data</td>\n",
       "      <td>0.932432</td>\n",
       "      <td>0.907486</td>\n",
       "      <td>0.875000</td>\n",
       "      <td>0.949668</td>\n",
       "    </tr>\n",
       "    <tr>\n",
       "      <th>12</th>\n",
       "      <td>0</td>\n",
       "      <td>Synthetic GPT3 Data</td>\n",
       "      <td>0.918919</td>\n",
       "      <td>0.894930</td>\n",
       "      <td>0.860294</td>\n",
       "      <td>0.943495</td>\n",
       "    </tr>\n",
       "  </tbody>\n",
       "</table>\n",
       "</div>"
      ],
      "text/plain": [
       "     Unnamed: 0           Unnamed: 1  accuracy        f1  precision    recall\n",
       "44            2  Synthetic GPT3 Data  0.945946  0.942735   0.921569  0.975309\n",
       "156           9  Synthetic GPT3 Data  0.945946  0.920635   0.891667  0.955840\n",
       "76            4  Synthetic GPT3 Data  0.932432  0.907486   0.875000  0.949668\n",
       "92            5  Synthetic GPT3 Data  0.932432  0.907486   0.875000  0.949668\n",
       "12            0  Synthetic GPT3 Data  0.918919  0.894930   0.860294  0.943495"
      ]
     },
     "execution_count": 3,
     "metadata": {},
     "output_type": "execute_result"
    }
   ],
   "source": [
    "rows = [\"GLoHBCD\", \"Instagram Data\", \"Smoke Stop Forum\", \"Synthetic GPT3 Data\", \"Health Coach Dialogue Corpus\", \"DARN-CT-based Wizard of Oz Dialogues\", \"Optifast Mock-Chatbot\"]\n",
    "\n",
    "origs = origs[origs[\"Unnamed: 1\"].isin(rows)].copy()\n",
    "origs.head()"
   ]
  },
  {
   "cell_type": "code",
   "execution_count": 4,
   "id": "8a2996b7-c4f5-4509-9422-e65fc6d204f6",
   "metadata": {},
   "outputs": [
    {
     "data": {
      "text/html": [
       "<div>\n",
       "<style scoped>\n",
       "    .dataframe tbody tr th:only-of-type {\n",
       "        vertical-align: middle;\n",
       "    }\n",
       "\n",
       "    .dataframe tbody tr th {\n",
       "        vertical-align: top;\n",
       "    }\n",
       "\n",
       "    .dataframe thead th {\n",
       "        text-align: right;\n",
       "    }\n",
       "</style>\n",
       "<table border=\"1\" class=\"dataframe\">\n",
       "  <thead>\n",
       "    <tr style=\"text-align: right;\">\n",
       "      <th></th>\n",
       "      <th>Unnamed: 0</th>\n",
       "      <th>Unnamed: 1</th>\n",
       "      <th>accuracy</th>\n",
       "      <th>f1</th>\n",
       "      <th>precision</th>\n",
       "      <th>recall</th>\n",
       "      <th>classif</th>\n",
       "    </tr>\n",
       "  </thead>\n",
       "  <tbody>\n",
       "    <tr>\n",
       "      <th>44</th>\n",
       "      <td>2</td>\n",
       "      <td>Synthetic GPT3 Data</td>\n",
       "      <td>0.945946</td>\n",
       "      <td>0.942735</td>\n",
       "      <td>0.921569</td>\n",
       "      <td>0.975309</td>\n",
       "      <td>Original</td>\n",
       "    </tr>\n",
       "    <tr>\n",
       "      <th>156</th>\n",
       "      <td>9</td>\n",
       "      <td>Synthetic GPT3 Data</td>\n",
       "      <td>0.945946</td>\n",
       "      <td>0.920635</td>\n",
       "      <td>0.891667</td>\n",
       "      <td>0.955840</td>\n",
       "      <td>Original</td>\n",
       "    </tr>\n",
       "    <tr>\n",
       "      <th>76</th>\n",
       "      <td>4</td>\n",
       "      <td>Synthetic GPT3 Data</td>\n",
       "      <td>0.932432</td>\n",
       "      <td>0.907486</td>\n",
       "      <td>0.875000</td>\n",
       "      <td>0.949668</td>\n",
       "      <td>Original</td>\n",
       "    </tr>\n",
       "    <tr>\n",
       "      <th>92</th>\n",
       "      <td>5</td>\n",
       "      <td>Synthetic GPT3 Data</td>\n",
       "      <td>0.932432</td>\n",
       "      <td>0.907486</td>\n",
       "      <td>0.875000</td>\n",
       "      <td>0.949668</td>\n",
       "      <td>Original</td>\n",
       "    </tr>\n",
       "    <tr>\n",
       "      <th>12</th>\n",
       "      <td>0</td>\n",
       "      <td>Synthetic GPT3 Data</td>\n",
       "      <td>0.918919</td>\n",
       "      <td>0.894930</td>\n",
       "      <td>0.860294</td>\n",
       "      <td>0.943495</td>\n",
       "      <td>Original</td>\n",
       "    </tr>\n",
       "  </tbody>\n",
       "</table>\n",
       "</div>"
      ],
      "text/plain": [
       "     Unnamed: 0           Unnamed: 1  accuracy        f1  precision    recall  \\\n",
       "44            2  Synthetic GPT3 Data  0.945946  0.942735   0.921569  0.975309   \n",
       "156           9  Synthetic GPT3 Data  0.945946  0.920635   0.891667  0.955840   \n",
       "76            4  Synthetic GPT3 Data  0.932432  0.907486   0.875000  0.949668   \n",
       "92            5  Synthetic GPT3 Data  0.932432  0.907486   0.875000  0.949668   \n",
       "12            0  Synthetic GPT3 Data  0.918919  0.894930   0.860294  0.943495   \n",
       "\n",
       "      classif  \n",
       "44   Original  \n",
       "156  Original  \n",
       "76   Original  \n",
       "92   Original  \n",
       "12   Original  "
      ]
     },
     "execution_count": 4,
     "metadata": {},
     "output_type": "execute_result"
    }
   ],
   "source": [
    "lowest_two[\"classif\"] = \"Paraphrases with lowest similarity\"\n",
    "lower_4[\"classif\"] = \"Paraphrases with similarity < 0.4\"\n",
    "origs[\"classif\"] = \"Original\"\n",
    "\n",
    "all_dat = pd.concat([origs, lowest_two, lower_4])\n",
    "all_dat.head()"
   ]
  },
  {
   "cell_type": "code",
   "execution_count": 6,
   "id": "69ec8b0e-adbd-4ce8-9eb3-c51264213fb6",
   "metadata": {},
   "outputs": [
    {
     "data": {
      "image/png": "[encoded data removed]",
      "text/plain": [
       "<Figure size 1080x360 with 1 Axes>"
      ]
     },
     "metadata": {},
     "output_type": "display_data"
    }
   ],
   "source": [
    "sns.set(rc={\"figure.figsize\":(15, 5)})\n",
    "sns.set_palette(\"colorblind\")\n",
    "ax = sns.boxplot(x=\"Unnamed: 1\", y=\"f1\", hue=\"classif\", data=all_dat, order=rows)\n",
    "plt.legend(bbox_to_anchor=(1.05, 1), loc=2, borderaxespad=0.)\n",
    "plt.title(\"Classification Performance on Test Sets with Paraphrases\")\n",
    "plt.xlabel(\"Test Set\")\n",
    "plt.ylabel(\"F1 Score\")\n",
    "#plt.huelabel(\"Test Set\")\n",
    "plt.ylim(0,1)\n",
    "#plt.style.use(\"dark_background\")\n",
    "plt.xticks(rotation = 15)\n",
    "plt.savefig(\"paraphrasing_performance.png\", bbox_inches=\"tight\")\n",
    "plt.show()"
   ]
  },
  {
   "cell_type": "code",
   "execution_count": null,
   "id": "a14aee6f-f97e-4870-8b13-f208c6a0fa1c",
   "metadata": {},
   "outputs": [],
   "source": []
  }
 ],
 "metadata": {
  "kernelspec": {
   "display_name": "Python 3 (ipykernel)",
   "language": "python",
   "name": "python3"
  },
  "language_info": {
   "codemirror_mode": {
    "name": "ipython",
    "version": 3
   },
   "file_extension": ".py",
   "mimetype": "text/x-python",
   "name": "python",
   "nbconvert_exporter": "python",
   "pygments_lexer": "ipython3",
   "version": "3.9.13"
  }
 },
 "nbformat": 4,
 "nbformat_minor": 5
}
