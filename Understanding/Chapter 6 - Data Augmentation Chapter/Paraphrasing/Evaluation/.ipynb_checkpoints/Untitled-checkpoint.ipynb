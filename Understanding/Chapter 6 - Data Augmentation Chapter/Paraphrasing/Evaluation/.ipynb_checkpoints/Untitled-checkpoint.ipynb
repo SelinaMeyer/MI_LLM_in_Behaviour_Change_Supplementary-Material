{
 "cells": [
  {
   "cell_type": "code",
   "execution_count": 1,
   "id": "9add3536-1f82-49a2-bce2-3dcd2ec75e75",
   "metadata": {},
   "outputs": [],
   "source": [
    "import pandas as pd\n",
    "import numpy as np"
   ]
  },
  {
   "cell_type": "code",
   "execution_count": 3,
   "id": "98bde945-b2c7-4d8e-a58c-e933145b619c",
   "metadata": {},
   "outputs": [],
   "source": [
    "classif = pd.Series([\"Original Data\", \"All Paraphrases\", \"Similarity < 0.8\", \"Similarity < 0.4\", \n",
    "                    \"4 Least Similar\", \"2 Least Similar\"])\n",
    "\n",
    "results = pd.Series([0.753,0.696,0.66,0.6969,0.7385,0.7429])"
   ]
  },
  {
   "cell_type": "code",
   "execution_count": 7,
   "id": "ba207357-dbd8-46fb-ad09-b40e6bca2275",
   "metadata": {},
   "outputs": [],
   "source": [
    "res = pd.DataFrame([classif, results])"
   ]
  },
  {
   "cell_type": "code",
   "execution_count": 5,
   "id": "c0c9f2ec-ec7c-4c63-a606-c3c5d254d26a",
   "metadata": {},
   "outputs": [
    {
     "data": {
      "text/html": [
       "<div>\n",
       "<style scoped>\n",
       "    .dataframe tbody tr th:only-of-type {\n",
       "        vertical-align: middle;\n",
       "    }\n",
       "\n",
       "    .dataframe tbody tr th {\n",
       "        vertical-align: top;\n",
       "    }\n",
       "\n",
       "    .dataframe thead th {\n",
       "        text-align: right;\n",
       "    }\n",
       "</style>\n",
       "<table border=\"1\" class=\"dataframe\">\n",
       "  <thead>\n",
       "    <tr style=\"text-align: right;\">\n",
       "      <th></th>\n",
       "      <th>0</th>\n",
       "      <th>1</th>\n",
       "      <th>2</th>\n",
       "      <th>3</th>\n",
       "      <th>4</th>\n",
       "      <th>5</th>\n",
       "    </tr>\n",
       "  </thead>\n",
       "  <tbody>\n",
       "    <tr>\n",
       "      <th>0</th>\n",
       "      <td>Original Data</td>\n",
       "      <td>All Paraphrases</td>\n",
       "      <td>Similarity &lt; 0.8</td>\n",
       "      <td>Similarity &lt; 0.4</td>\n",
       "      <td>4 Least Similar</td>\n",
       "      <td>2 Least Similar</td>\n",
       "    </tr>\n",
       "    <tr>\n",
       "      <th>1</th>\n",
       "      <td>0.753</td>\n",
       "      <td>0.696</td>\n",
       "      <td>0.66</td>\n",
       "      <td>0.6969</td>\n",
       "      <td>0.7385</td>\n",
       "      <td>0.7429</td>\n",
       "    </tr>\n",
       "  </tbody>\n",
       "</table>\n",
       "</div>"
      ],
      "text/plain": [
       "               0                1                 2                 3  \\\n",
       "0  Original Data  All Paraphrases  Similarity < 0.8  Similarity < 0.4   \n",
       "1          0.753            0.696              0.66            0.6969   \n",
       "\n",
       "                 4                5  \n",
       "0  4 Least Similar  2 Least Similar  \n",
       "1           0.7385           0.7429  "
      ]
     },
     "execution_count": 5,
     "metadata": {},
     "output_type": "execute_result"
    }
   ],
   "source": [
    "res.head()"
   ]
  }
 ],
 "metadata": {
  "kernelspec": {
   "display_name": "Python 3 (ipykernel)",
   "language": "python",
   "name": "python3"
  },
  "language_info": {
   "codemirror_mode": {
    "name": "ipython",
    "version": 3
   },
   "file_extension": ".py",
   "mimetype": "text/x-python",
   "name": "python",
   "nbconvert_exporter": "python",
   "pygments_lexer": "ipython3",
   "version": "3.9.13"
  }
 },
 "nbformat": 4,
 "nbformat_minor": 5
}
