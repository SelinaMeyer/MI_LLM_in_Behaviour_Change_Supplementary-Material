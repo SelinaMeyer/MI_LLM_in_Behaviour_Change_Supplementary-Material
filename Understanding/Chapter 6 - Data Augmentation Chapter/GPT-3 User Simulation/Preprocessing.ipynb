{
 "cells": [
  {
   "cell_type": "code",
   "execution_count": null,
   "metadata": {},
   "outputs": [],
   "source": [
    "!pip install transformers==4.6.0\n",
    "!pip install datasets\n",
    "!pip install torch torchvision torchaudio\n",
    "!pip install keras\n",
    "!pip install tensorflow"
   ]
  },
  {
   "cell_type": "code",
   "execution_count": 1,
   "metadata": {},
   "outputs": [],
   "source": [
    "import os\n",
    "os.environ[\"CUDA_DEVICE_ORDER\"]=\"PCI_BUS_ID\"\n",
    "os.environ[\"CUDA_VISIBLE_DEVICES\"]=\"1,2,3\""
   ]
  },
  {
   "cell_type": "code",
   "execution_count": 1,
   "metadata": {},
   "outputs": [],
   "source": [
    "import pandas as pd\n",
    "import numpy as np"
   ]
  },
  {
   "cell_type": "code",
   "execution_count": 23,
   "metadata": {},
   "outputs": [],
   "source": [
    "forum_test = pd.read_csv(\"1-forum-only/Forum_label_test.csv\", index_col=\"Unnamed: 0\")\n",
    "synthetic_test = pd.read_csv(\"2-synthetic-only/synthetic_full_output_test.csv\", index_col=\"Unnamed: 0\")\n",
    "\n",
    "forum_train = pd.read_csv(\"1-forum-only/Forum_label_train.csv\", index_col=\"Unnamed: 0\")\n",
    "synthetic_train = pd.read_csv(\"2-synthetic-only/synthetic_full_output_train.csv\", index_col=\"Unnamed: 0\")"
   ]
  },
  {
   "cell_type": "code",
   "execution_count": 24,
   "metadata": {},
   "outputs": [
    {
     "data": {
      "text/plain": [
       "0    178\n",
       "1     93\n",
       "2     31\n",
       "Name: labels, dtype: int64"
      ]
     },
     "execution_count": 24,
     "metadata": {},
     "output_type": "execute_result"
    }
   ],
   "source": [
    "forum_8 = pd.read_csv(\"1-forum-only/forum_8_percent.csv\", index_col=\"Unnamed: 0\")\n",
    "forum_8[\"labels\"].value_counts()"
   ]
  },
  {
   "cell_type": "code",
   "execution_count": 20,
   "metadata": {},
   "outputs": [
    {
     "data": {
      "text/plain": [
       "302"
      ]
     },
     "execution_count": 20,
     "metadata": {},
     "output_type": "execute_result"
    }
   ],
   "source": [
    "len(forum_8)"
   ]
  },
  {
   "cell_type": "code",
   "execution_count": 27,
   "metadata": {},
   "outputs": [
    {
     "data": {
      "text/html": [
       "<div>\n",
       "<style scoped>\n",
       "    .dataframe tbody tr th:only-of-type {\n",
       "        vertical-align: middle;\n",
       "    }\n",
       "\n",
       "    .dataframe tbody tr th {\n",
       "        vertical-align: top;\n",
       "    }\n",
       "\n",
       "    .dataframe thead th {\n",
       "        text-align: right;\n",
       "    }\n",
       "</style>\n",
       "<table border=\"1\" class=\"dataframe\">\n",
       "  <thead>\n",
       "    <tr style=\"text-align: right;\">\n",
       "      <th></th>\n",
       "      <th>Sentence</th>\n",
       "      <th>labels</th>\n",
       "    </tr>\n",
       "  </thead>\n",
       "  <tbody>\n",
       "    <tr>\n",
       "      <th>4719</th>\n",
       "      <td>Ja was hat eigentlich gut funktioniert ich h...</td>\n",
       "      <td>1</td>\n",
       "    </tr>\n",
       "    <tr>\n",
       "      <th>7883</th>\n",
       "      <td>Mein Freund hat mich beim Sport begleitet und...</td>\n",
       "      <td>1</td>\n",
       "    </tr>\n",
       "    <tr>\n",
       "      <th>5259</th>\n",
       "      <td>Ich werde mir das Buch „Das Abnehmen für Dumm...</td>\n",
       "      <td>2</td>\n",
       "    </tr>\n",
       "    <tr>\n",
       "      <th>2470</th>\n",
       "      <td>Ich kann mein Gewicht halten, indem ich auf d...</td>\n",
       "      <td>0</td>\n",
       "    </tr>\n",
       "    <tr>\n",
       "      <th>12326</th>\n",
       "      <td>Ich möchte nicht mehr so viel essen und mehr ...</td>\n",
       "      <td>0</td>\n",
       "    </tr>\n",
       "  </tbody>\n",
       "</table>\n",
       "</div>"
      ],
      "text/plain": [
       "                                                Sentence  labels\n",
       "4719     Ja was hat eigentlich gut funktioniert ich h...       1\n",
       "7883    Mein Freund hat mich beim Sport begleitet und...       1\n",
       "5259    Ich werde mir das Buch „Das Abnehmen für Dumm...       2\n",
       "2470    Ich kann mein Gewicht halten, indem ich auf d...       0\n",
       "12326   Ich möchte nicht mehr so viel essen und mehr ...       0"
      ]
     },
     "execution_count": 27,
     "metadata": {},
     "output_type": "execute_result"
    }
   ],
   "source": [
    "mixed_as_q_test = pd.concat([forum_test, synthetic_test])\n",
    "mixed_as_q_test = mixed_as_q_test.sample(frac=1)\n",
    "mixed_as_q_test.head()"
   ]
  },
  {
   "cell_type": "code",
   "execution_count": 28,
   "metadata": {},
   "outputs": [],
   "source": [
    "mixed_as_q_test.to_csv(\"4-mixed_lab_q/mixed_full_output_test.csv\")"
   ]
  },
  {
   "cell_type": "code",
   "execution_count": 9,
   "metadata": {},
   "outputs": [
    {
     "data": {
      "text/html": [
       "<div>\n",
       "<style scoped>\n",
       "    .dataframe tbody tr th:only-of-type {\n",
       "        vertical-align: middle;\n",
       "    }\n",
       "\n",
       "    .dataframe tbody tr th {\n",
       "        vertical-align: top;\n",
       "    }\n",
       "\n",
       "    .dataframe thead th {\n",
       "        text-align: right;\n",
       "    }\n",
       "</style>\n",
       "<table border=\"1\" class=\"dataframe\">\n",
       "  <thead>\n",
       "    <tr style=\"text-align: right;\">\n",
       "      <th></th>\n",
       "      <th>Sentence</th>\n",
       "      <th>labels</th>\n",
       "    </tr>\n",
       "  </thead>\n",
       "  <tbody>\n",
       "    <tr>\n",
       "      <th>19868</th>\n",
       "      <td>Ich habe keine Ahnung wie ich das ändern kann.</td>\n",
       "      <td>0</td>\n",
       "    </tr>\n",
       "    <tr>\n",
       "      <th>13623</th>\n",
       "      <td>Ich bin hier um Dich auf deinem Weg zu einem ...</td>\n",
       "      <td>2</td>\n",
       "    </tr>\n",
       "    <tr>\n",
       "      <th>6023</th>\n",
       "      <td>Nur wenn Du gesund bist, kannst Du auch glück...</td>\n",
       "      <td>0</td>\n",
       "    </tr>\n",
       "    <tr>\n",
       "      <th>19114</th>\n",
       "      <td>Ich werde mein Essen auf den Tisch stellen un...</td>\n",
       "      <td>2</td>\n",
       "    </tr>\n",
       "    <tr>\n",
       "      <th>20201</th>\n",
       "      <td>Ich weiß, wie man abnimmt.</td>\n",
       "      <td>0</td>\n",
       "    </tr>\n",
       "  </tbody>\n",
       "</table>\n",
       "</div>"
      ],
      "text/plain": [
       "                                                Sentence  labels\n",
       "19868     Ich habe keine Ahnung wie ich das ändern kann.       0\n",
       "13623   Ich bin hier um Dich auf deinem Weg zu einem ...       2\n",
       "6023    Nur wenn Du gesund bist, kannst Du auch glück...       0\n",
       "19114   Ich werde mein Essen auf den Tisch stellen un...       2\n",
       "20201                         Ich weiß, wie man abnimmt.       0"
      ]
     },
     "execution_count": 9,
     "metadata": {},
     "output_type": "execute_result"
    }
   ],
   "source": [
    "mixed_as_q_train = pd.concat([forum_train, synthetic_train])\n",
    "mixed_as_q_train = mixed_as_q_train.sample(frac=1)\n",
    "mixed_as_q_train.head()"
   ]
  },
  {
   "cell_type": "code",
   "execution_count": 20,
   "metadata": {},
   "outputs": [
    {
     "data": {
      "text/plain": [
       "0    4167\n",
       "1    1127\n",
       "2     833\n",
       "Name: labels, dtype: int64"
      ]
     },
     "execution_count": 20,
     "metadata": {},
     "output_type": "execute_result"
    }
   ],
   "source": [
    "mixed_as_q_test[\"labels\"].value_counts()"
   ]
  },
  {
   "cell_type": "code",
   "execution_count": 21,
   "metadata": {},
   "outputs": [
    {
     "data": {
      "text/plain": [
       "0    3555\n",
       "1     885\n",
       "2     742\n",
       "Name: labels, dtype: int64"
      ]
     },
     "execution_count": 21,
     "metadata": {},
     "output_type": "execute_result"
    }
   ],
   "source": [
    "synthetic_test[\"labels\"].value_counts()"
   ]
  },
  {
   "cell_type": "code",
   "execution_count": 22,
   "metadata": {},
   "outputs": [
    {
     "data": {
      "text/plain": [
       "0    612\n",
       "1    242\n",
       "2     91\n",
       "Name: labels, dtype: int64"
      ]
     },
     "execution_count": 22,
     "metadata": {},
     "output_type": "execute_result"
    }
   ],
   "source": [
    "forum_test[\"labels\"].value_counts()"
   ]
  },
  {
   "cell_type": "code",
   "execution_count": 2,
   "metadata": {},
   "outputs": [
    {
     "ename": "NameError",
     "evalue": "name 'mixed_as_q_train' is not defined",
     "output_type": "error",
     "traceback": [
      "\u001b[0;31m---------------------------------------------------------------------------\u001b[0m",
      "\u001b[0;31mNameError\u001b[0m                                 Traceback (most recent call last)",
      "\u001b[0;32m<ipython-input-2-105df337fd27>\u001b[0m in \u001b[0;36m<module>\u001b[0;34m\u001b[0m\n\u001b[0;32m----> 1\u001b[0;31m \u001b[0mmixed_as_q_train\u001b[0m\u001b[0;34m.\u001b[0m\u001b[0mto_csv\u001b[0m\u001b[0;34m(\u001b[0m\u001b[0;34m\"4-mixed_lab_q/mixed_train_as_q.csv\"\u001b[0m\u001b[0;34m)\u001b[0m\u001b[0;34m\u001b[0m\u001b[0;34m\u001b[0m\u001b[0m\n\u001b[0m",
      "\u001b[0;31mNameError\u001b[0m: name 'mixed_as_q_train' is not defined"
     ]
    }
   ],
   "source": [
    "mixed_as_q_train.to_csv(\"4-mixed_lab_q/mixed_train_as_q.csv\")"
   ]
  },
  {
   "cell_type": "code",
   "execution_count": 24,
   "metadata": {},
   "outputs": [],
   "source": [
    "prep_for_class = pd.read_csv(\"orig-gpt_output_labels_as_qs.csv\", index_col=\"Unnamed: 0\")\n",
    "prep_for_class.drop(columns=\"labels\", inplace=True)"
   ]
  },
  {
   "cell_type": "code",
   "execution_count": 26,
   "metadata": {},
   "outputs": [],
   "source": [
    "prep_for_class.to_csv(\"gpt_output_for_pred.csv\")"
   ]
  },
  {
   "cell_type": "code",
   "execution_count": 12,
   "metadata": {},
   "outputs": [],
   "source": [
    "predicted_train = pd.read_csv(\"gpt_predictions/synthetic_test_predicted_confidence.csv\", index_col=\"Unnamed: 0\")\n",
    "#predicted_test = pd.read_csv(\"gpt_predictions/synthetic_test_predicted_confidence.csv\", index_col=\"Unnamed: 0\")"
   ]
  },
  {
   "cell_type": "code",
   "execution_count": 13,
   "metadata": {},
   "outputs": [
    {
     "data": {
      "text/html": [
       "<div>\n",
       "<style scoped>\n",
       "    .dataframe tbody tr th:only-of-type {\n",
       "        vertical-align: middle;\n",
       "    }\n",
       "\n",
       "    .dataframe tbody tr th {\n",
       "        vertical-align: top;\n",
       "    }\n",
       "\n",
       "    .dataframe thead th {\n",
       "        text-align: right;\n",
       "    }\n",
       "</style>\n",
       "<table border=\"1\" class=\"dataframe\">\n",
       "  <thead>\n",
       "    <tr style=\"text-align: right;\">\n",
       "      <th></th>\n",
       "      <th>Sentence</th>\n",
       "      <th>0_R</th>\n",
       "      <th>1_TS</th>\n",
       "      <th>2_C</th>\n",
       "    </tr>\n",
       "  </thead>\n",
       "  <tbody>\n",
       "    <tr>\n",
       "      <th>0</th>\n",
       "      <td>Ich wünsche mir mehr Kontrolle über meine Ern...</td>\n",
       "      <td>0.999254</td>\n",
       "      <td>0.000456</td>\n",
       "      <td>0.000290</td>\n",
       "    </tr>\n",
       "    <tr>\n",
       "      <th>1</th>\n",
       "      <td>Ich habe mich ein wenig gesünder ernährt.</td>\n",
       "      <td>0.000600</td>\n",
       "      <td>0.999124</td>\n",
       "      <td>0.000276</td>\n",
       "    </tr>\n",
       "    <tr>\n",
       "      <th>2</th>\n",
       "      <td>Welche Möglichkeiten siehst du, um etwas gege...</td>\n",
       "      <td>0.999356</td>\n",
       "      <td>0.000381</td>\n",
       "      <td>0.000263</td>\n",
       "    </tr>\n",
       "    <tr>\n",
       "      <th>3</th>\n",
       "      <td>Aber das hat nicht geklappt.</td>\n",
       "      <td>0.136079</td>\n",
       "      <td>0.862327</td>\n",
       "      <td>0.001594</td>\n",
       "    </tr>\n",
       "    <tr>\n",
       "      <th>4</th>\n",
       "      <td>Ja.</td>\n",
       "      <td>0.997365</td>\n",
       "      <td>0.001643</td>\n",
       "      <td>0.000993</td>\n",
       "    </tr>\n",
       "  </tbody>\n",
       "</table>\n",
       "</div>"
      ],
      "text/plain": [
       "                                            Sentence       0_R      1_TS  \\\n",
       "0   Ich wünsche mir mehr Kontrolle über meine Ern...  0.999254  0.000456   \n",
       "1          Ich habe mich ein wenig gesünder ernährt.  0.000600  0.999124   \n",
       "2   Welche Möglichkeiten siehst du, um etwas gege...  0.999356  0.000381   \n",
       "3                       Aber das hat nicht geklappt.  0.136079  0.862327   \n",
       "4                                                Ja.  0.997365  0.001643   \n",
       "\n",
       "        2_C  \n",
       "0  0.000290  \n",
       "1  0.000276  \n",
       "2  0.000263  \n",
       "3  0.001594  \n",
       "4  0.000993  "
      ]
     },
     "execution_count": 13,
     "metadata": {},
     "output_type": "execute_result"
    }
   ],
   "source": [
    "predicted_train.rename(columns={\"sentences\":\"Sentence\"}, inplace=True)\n",
    "predicted_train.head()"
   ]
  },
  {
   "cell_type": "code",
   "execution_count": 14,
   "metadata": {},
   "outputs": [],
   "source": [
    "R = predicted_train[predicted_train[\"0_R\"] >= 0.80].copy()\n",
    "R[\"labels\"] = 0\n",
    "TS = predicted_train[predicted_train[\"1_TS\"] >= 0.80].copy()\n",
    "TS[\"labels\"] = 1\n",
    "C = predicted_train[predicted_train[\"2_C\"] >= 0.80].copy()\n",
    "C[\"labels\"] = 2"
   ]
  },
  {
   "cell_type": "code",
   "execution_count": 15,
   "metadata": {},
   "outputs": [],
   "source": [
    "synthetic_filtered = pd.concat([R, TS, C, forum_test])\n",
    "synthetic_filtered.drop(columns=[\"0_R\", \"1_TS\", \"2_C\"], inplace=True)\n",
    "synthetic_filtered = synthetic_filtered.sample(frac=1)"
   ]
  },
  {
   "cell_type": "code",
   "execution_count": 16,
   "metadata": {},
   "outputs": [
    {
     "data": {
      "text/html": [
       "<div>\n",
       "<style scoped>\n",
       "    .dataframe tbody tr th:only-of-type {\n",
       "        vertical-align: middle;\n",
       "    }\n",
       "\n",
       "    .dataframe tbody tr th {\n",
       "        vertical-align: top;\n",
       "    }\n",
       "\n",
       "    .dataframe thead th {\n",
       "        text-align: right;\n",
       "    }\n",
       "</style>\n",
       "<table border=\"1\" class=\"dataframe\">\n",
       "  <thead>\n",
       "    <tr style=\"text-align: right;\">\n",
       "      <th></th>\n",
       "      <th>Sentence</th>\n",
       "      <th>labels</th>\n",
       "    </tr>\n",
       "  </thead>\n",
       "  <tbody>\n",
       "    <tr>\n",
       "      <th>2584</th>\n",
       "      <td>Dann werde ich mehr Geld haben, um zu teurem ...</td>\n",
       "      <td>2</td>\n",
       "    </tr>\n",
       "    <tr>\n",
       "      <th>2595</th>\n",
       "      <td>Ich werde nicht mehr zu viel Zucker essen.</td>\n",
       "      <td>2</td>\n",
       "    </tr>\n",
       "    <tr>\n",
       "      <th>682</th>\n",
       "      <td>Ich glaube, dass ich abnehmen muss.</td>\n",
       "      <td>0</td>\n",
       "    </tr>\n",
       "    <tr>\n",
       "      <th>590</th>\n",
       "      <td>Ich habe meine Ernährung umgestellt.</td>\n",
       "      <td>1</td>\n",
       "    </tr>\n",
       "    <tr>\n",
       "      <th>29</th>\n",
       "      <td>Mit Therapie nehme ich auch nicht ab, das hab...</td>\n",
       "      <td>0</td>\n",
       "    </tr>\n",
       "  </tbody>\n",
       "</table>\n",
       "</div>"
      ],
      "text/plain": [
       "                                               Sentence  labels\n",
       "2584   Dann werde ich mehr Geld haben, um zu teurem ...       2\n",
       "2595         Ich werde nicht mehr zu viel Zucker essen.       2\n",
       "682                 Ich glaube, dass ich abnehmen muss.       0\n",
       "590                Ich habe meine Ernährung umgestellt.       1\n",
       "29     Mit Therapie nehme ich auch nicht ab, das hab...       0"
      ]
     },
     "execution_count": 16,
     "metadata": {},
     "output_type": "execute_result"
    }
   ],
   "source": [
    "synthetic_filtered.tail()"
   ]
  },
  {
   "cell_type": "code",
   "execution_count": 17,
   "metadata": {},
   "outputs": [
    {
     "data": {
      "text/plain": [
       "0    4002\n",
       "1    1079\n",
       "2     768\n",
       "Name: labels, dtype: int64"
      ]
     },
     "execution_count": 17,
     "metadata": {},
     "output_type": "execute_result"
    }
   ],
   "source": [
    "synthetic_filtered[\"labels\"].value_counts()"
   ]
  },
  {
   "cell_type": "code",
   "execution_count": 18,
   "metadata": {},
   "outputs": [],
   "source": [
    "synthetic_filtered.to_csv(\"3-mixed_predicted/confidence_80_test.csv\")"
   ]
  },
  {
   "cell_type": "code",
   "execution_count": 6,
   "metadata": {},
   "outputs": [],
   "source": [
    "percent_forum = pd.read_csv(\"1-forum-only/forum_10_percent.csv\", index_col=\"Unnamed: 0\")\n",
    "synthetic_train = pd.read_csv(\"2-synthetic-only/synthetic_train_gpt_labels_as_qs.csv\", index_col=\"Unnamed: 0\")\n",
    "percent_mix = pd.concat([percent_forum, synthetic_train]).sample(frac=1)\n",
    "percent_mix.to_csv(\"4-mixed_lab_q/10_percent_mixed_q.csv\")"
   ]
  },
  {
   "cell_type": "code",
   "execution_count": 11,
   "metadata": {},
   "outputs": [],
   "source": [
    "percent_mix.to_csv(\"3-mixed_predicted/4_percent_mixed.csv\")"
   ]
  },
  {
   "cell_type": "code",
   "execution_count": 27,
   "metadata": {},
   "outputs": [],
   "source": [
    "R_test = predicted_test[predicted_test[\"0_R\"] > 0.95].copy()\n",
    "R_test[\"labels\"] = 0\n",
    "TS_test = predicted_test[predicted_test[\"1_TS\"] > 0.95].copy()\n",
    "TS_test[\"labels\"] = 1\n",
    "C_test = predicted_test[predicted_test[\"2_C\"] > 0.95].copy()\n",
    "C_test[\"labels\"] = 2\n",
    "\n",
    "synthetic_filtered_test = pd.concat([R_test, TS_test, C_test])\n",
    "synthetic_filtered_test.drop(columns=[\"0_R\", \"1_TS\", \"2_C\"], inplace=True)\n",
    "synthetic_filtered_test = synthetic_filtered_test.sample(frac=1)"
   ]
  },
  {
   "cell_type": "code",
   "execution_count": 35,
   "metadata": {},
   "outputs": [],
   "source": [
    "synthetic_filtered.rename(columns={\"sentences\":\"Sentence\"}, inplace=True)\n",
    "synthetic_filtered_test.rename(columns={\"sentences\":\"Sentence\"}, inplace=True)"
   ]
  },
  {
   "cell_type": "code",
   "execution_count": 36,
   "metadata": {},
   "outputs": [],
   "source": [
    "synthetic_filtered.to_csv(\"synthetic_train_labels_pred.csv\")\n",
    "synthetic_filtered_test.to_csv(\"synthetic_test_labels_pred.csv\")"
   ]
  },
  {
   "cell_type": "code",
   "execution_count": 39,
   "metadata": {},
   "outputs": [],
   "source": [
    "filtered_mixed_train = pd.concat([synthetic_filtered, forum_train])\n",
    "filtered_mixed_train = filtered_mixed_train.sample(frac=1)\n",
    "filtered_mixed_test = pd.concat([synthetic_filtered_test, forum_test])\n",
    "filtered_mixed_test = filtered_mixed_test.sample(frac=1)"
   ]
  },
  {
   "cell_type": "code",
   "execution_count": 46,
   "metadata": {},
   "outputs": [],
   "source": [
    "filtered_mixed_train.to_csv(\"3-mixed_predicted/mixed_train_as_pred.csv\")\n",
    "filtered_mixed_test.to_csv(\"3-mixed_predicted/mixed_test_as_pred.csv\")"
   ]
  },
  {
   "cell_type": "code",
   "execution_count": null,
   "metadata": {},
   "outputs": [],
   "source": []
  }
 ],
 "metadata": {
  "kernelspec": {
   "display_name": "Python 3 (ipykernel)",
   "language": "python",
   "name": "python3"
  },
  "language_info": {
   "codemirror_mode": {
    "name": "ipython",
    "version": 3
   },
   "file_extension": ".py",
   "mimetype": "text/x-python",
   "name": "python",
   "nbconvert_exporter": "python",
   "pygments_lexer": "ipython3",
   "version": "3.9.13"
  }
 },
 "nbformat": 4,
 "nbformat_minor": 4
}
